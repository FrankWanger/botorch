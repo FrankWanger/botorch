{
 "cells": [
  {
   "cell_type": "code",
   "execution_count": null,
   "id": "7e4cc903",
   "metadata": {
    "execution": {
     "iopub.execute_input": "2025-01-09T20:34:21.157704Z",
     "iopub.status.busy": "2025-01-09T20:34:21.157240Z",
     "iopub.status.idle": "2025-01-09T20:34:30.680490Z",
     "shell.execute_reply": "2025-01-09T20:34:30.680165Z"
    },
    "papermill": {
     "duration": 9.529573,
     "end_time": "2025-01-09T20:34:30.681692",
     "exception": false,
     "start_time": "2025-01-09T20:34:21.152119",
     "status": "completed"
    },
    "tags": []
   },
   "outputs": [],
   "source": [
    "# %%time\n",
    "import torch\n",
    "import numpy as np\n",
    "from scipy.optimize import minimize, Bounds\n",
    "import cProfile, io, pstats\n",
    "from pstats import SortKey\n",
    "from botorch.models.gp_regression import SingleTaskGP\n",
    "from botorch.acquisition import qNoisyExpectedImprovement\n",
    "\n",
    "torch.manual_seed(0)\n",
    "np.random.seed(0)\n",
    "\n",
    "torch.set_default_dtype(torch.double)\n",
    "\n",
    "train_X = torch.rand(256, 2)\n",
    "train_Y = torch.sin(train_X * 10).sum(dim=-1, keepdim=True)\n",
    "\n",
    "model = SingleTaskGP(train_X=train_X, train_Y=train_Y)\n",
    "acqf = qNoisyExpectedImprovement(model, train_X, cache_root=False)\n",
    "\n",
    "# rand_tensor = torch.rand(1024, 128, 128, dtype=torch.double)\n",
    "\n",
    "def f_and_grad(x):\n",
    "    X_tensor = torch.from_numpy(x.reshape((16, 4, 2))).contiguous().requires_grad_(True)\n",
    "    loss = acqf(X_tensor).sum()\n",
    "#     diff = rand_tensor - X_tensor\n",
    "#     loss = (diff @ diff).sum()\n",
    "    grad = torch.autograd.grad(loss, X_tensor)[0].reshape(-1).numpy(force=True)\n",
    "    return loss.item(), grad\n",
    "\n",
    "bounds = Bounds(\n",
    "    lb=np.zeros(128),\n",
    "    ub=np.ones(128),\n",
    "    keep_feasible=True,\n",
    ")\n",
    "x0 = np.random.random(128)\n",
    "\n",
    "with cProfile.Profile() as pr:\n",
    "    res = minimize(\n",
    "        fun=f_and_grad,\n",
    "        x0=x0,\n",
    "        method=\"L-BFGS-B\",\n",
    "        jac=True,\n",
    "        bounds=bounds,\n",
    "        options={\"ftol\": 0, \"gtol\": 0, \"maxiter\": 20},\n",
    "    )\n",
    "\n",
    "sortby = SortKey.CUMULATIVE\n",
    "ps = pstats.Stats(pr).sort_stats(sortby)\n",
    "ps.print_stats()\n",
    "None"
   ]
  },
  {
   "cell_type": "code",
   "execution_count": null,
   "id": "70b96c61",
   "metadata": {},
   "outputs": [],
   "source": [
    "def f_and_grad(x):\n",
    "    X_tensor = torch.from_numpy(x.reshape((16, 4, 2))).contiguous().requires_grad_(True)\n",
    "    loss = acqf._get_samples_and_objectives(X_tensor)[1].sum()\n",
    "    grad = torch.autograd.grad(loss, X_tensor)[0].reshape(-1).numpy(force=True)\n",
    "    return loss.item(), grad\n",
    "\n",
    "with cProfile.Profile() as pr:\n",
    "    res = minimize(\n",
    "        fun=f_and_grad,\n",
    "        x0=x0,\n",
    "        method=\"L-BFGS-B\",\n",
    "        jac=True,\n",
    "        bounds=bounds,\n",
    "        options={\"ftol\": 0, \"gtol\": 0, \"maxiter\": 20},\n",
    "    )\n",
    "\n",
    "sortby = SortKey.CUMULATIVE\n",
    "ps = pstats.Stats(pr).sort_stats(sortby)\n",
    "ps.print_stats()\n",
    "None"
   ]
  }
 ],
 "metadata": {
  "kernelspec": {
   "display_name": "Python 3 (ipykernel)",
   "language": "python",
   "name": "python3"
  },
  "language_info": {
   "codemirror_mode": {
    "name": "ipython",
    "version": 3
   },
   "file_extension": ".py",
   "mimetype": "text/x-python",
   "name": "python",
   "nbconvert_exporter": "python",
   "pygments_lexer": "ipython3",
   "version": "3.9.12"
  },
  "papermill": {
   "default_parameters": {},
   "duration": 13.605537,
   "end_time": "2025-01-09T20:34:31.102504",
   "environment_variables": {},
   "exception": null,
   "input_path": "/Users/saitcakmak/botorch/tutorials/test3.ipynb",
   "output_path": "/Users/saitcakmak/botorch/tutorials/test3.ipynb",
   "parameters": {},
   "start_time": "2025-01-09T20:34:17.496967",
   "version": "2.6.0"
  }
 },
 "nbformat": 4,
 "nbformat_minor": 5
}
