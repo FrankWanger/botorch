{
 "cells": [
  {
   "cell_type": "code",
   "execution_count": 1,
   "id": "7e4cc903",
   "metadata": {
    "papermill": {
     "duration": 9.529573,
     "end_time": "2025-01-09T20:34:30.681692",
     "exception": false,
     "start_time": "2025-01-09T20:34:21.152119",
     "status": "completed"
    },
    "tags": []
   },
   "outputs": [
    {
     "name": "stdout",
     "output_type": "stream",
     "text": [
      "[KeOps] Warning : omp.h header is not in the path, disabling OpenMP. To fix this, you can set the environment\n",
      "                  variable OMP_PATH to the location of the header before importing keopscore or pykeops,\n",
      "                  e.g. using os.environ: import os; os.environ['OMP_PATH'] = '/path/to/omp/header'\n",
      "[KeOps] Warning : Cuda libraries were not detected on the system or could not be loaded ; using cpu only mode\n",
      "CPU times: user 2.14 s, sys: 917 ms, total: 3.06 s\n",
      "Wall time: 5.79 s\n"
     ]
    }
   ],
   "source": [
    "%%time\n",
    "import torch\n",
    "import numpy as np\n",
    "from scipy.optimize import minimize, Bounds\n",
    "import cProfile, io, pstats\n",
    "from pstats import SortKey\n",
    "from botorch.models.gp_regression import SingleTaskGP\n",
    "from botorch.acquisition.logei import qLogNoisyExpectedImprovement\n",
    "from gpytorch import ExactMarginalLogLikelihood\n",
    "from botorch import fit_gpytorch_mll\n",
    "\n",
    "torch.manual_seed(0)\n",
    "np.random.seed(0)\n",
    "\n",
    "torch.set_default_dtype(torch.double)\n",
    "\n",
    "train_X = torch.rand(50, 2)\n",
    "train_Y = torch.sin(train_X * 10).sum(dim=-1, keepdim=True)\n",
    "\n",
    "model = SingleTaskGP(train_X=train_X, train_Y=train_Y)\n",
    "model.posterior(train_X).mean  # set caches\n",
    "acqf = qLogNoisyExpectedImprovement(model, train_X, cache_root=False)\n",
    "\n",
    "bounds = Bounds(\n",
    "    lb=np.zeros(128),\n",
    "    ub=np.ones(128),\n",
    "    keep_feasible=True,\n",
    ")\n",
    "x0 = np.random.random(128)\n",
    "None"
   ]
  },
  {
   "cell_type": "code",
   "execution_count": 2,
   "id": "06d67fd6",
   "metadata": {},
   "outputs": [
    {
     "name": "stderr",
     "output_type": "stream",
     "text": [
      "/opt/anaconda3/envs/botorch/lib/python3.10/site-packages/linear_operator/utils/cholesky.py:40: NumericalWarning: A not p.d., added jitter of 1.0e-08 to the diagonal\n",
      "  warnings.warn(\n"
     ]
    },
    {
     "name": "stdout",
     "output_type": "stream",
     "text": [
      "         70166 function calls (67095 primitive calls) in 0.392 seconds\n",
      "\n",
      "   Ordered by: cumulative time\n",
      "   List reduced from 672 to 67 due to restriction <0.1>\n",
      "\n",
      "   ncalls  tottime  percall  cumtime  percall filename:lineno(function)\n",
      "        1    0.000    0.000    0.392    0.392 /opt/anaconda3/envs/botorch/lib/python3.10/site-packages/scipy/optimize/_minimize.py:53(minimize)\n",
      "        1    0.000    0.000    0.392    0.392 /opt/anaconda3/envs/botorch/lib/python3.10/site-packages/scipy/optimize/_lbfgsb_py.py:290(_minimize_lbfgsb)\n",
      "       46    0.001    0.000    0.389    0.008 /opt/anaconda3/envs/botorch/lib/python3.10/site-packages/scipy/optimize/_optimize.py:71(_compute_if_needed)\n",
      "       24    0.000    0.000    0.389    0.016 /opt/anaconda3/envs/botorch/lib/python3.10/site-packages/scipy/optimize/_differentiable_functions.py:293(_update_fun)\n",
      "       23    0.000    0.000    0.389    0.017 /opt/anaconda3/envs/botorch/lib/python3.10/site-packages/scipy/optimize/_differentiable_functions.py:16(wrapped)\n",
      "       23    0.000    0.000    0.389    0.017 /opt/anaconda3/envs/botorch/lib/python3.10/site-packages/scipy/optimize/_optimize.py:78(__call__)\n",
      "       23    0.000    0.000    0.388    0.017 <timed exec>:1(f_and_grad)\n",
      "       23    0.000    0.000    0.299    0.013 /opt/anaconda3/envs/botorch/lib/python3.10/site-packages/scipy/optimize/_differentiable_functions.py:341(fun_and_grad)\n",
      "    69/23    0.000    0.000    0.196    0.009 /opt/anaconda3/envs/botorch/lib/python3.10/site-packages/torch/nn/modules/module.py:1732(_wrapped_call_impl)\n",
      "    69/23    0.000    0.000    0.196    0.009 /opt/anaconda3/envs/botorch/lib/python3.10/site-packages/torch/nn/modules/module.py:1740(_call_impl)\n",
      "       23    0.000    0.000    0.196    0.009 /Users/saitcakmak/botorch/botorch/utils/transforms.py:340(decorated)\n",
      "       23    0.000    0.000    0.196    0.009 /Users/saitcakmak/botorch/botorch/utils/transforms.py:278(decorated)\n",
      "       23    0.000    0.000    0.196    0.009 /Users/saitcakmak/botorch/botorch/acquisition/monte_carlo.py:254(forward)\n",
      "    46/23    0.001    0.000    0.190    0.008 /opt/anaconda3/envs/botorch/lib/python3.10/site-packages/torch/autograd/__init__.py:358(grad)\n",
      "    46/23    0.000    0.000    0.184    0.008 /opt/anaconda3/envs/botorch/lib/python3.10/site-packages/torch/autograd/graph.py:816(_engine_run_backward)\n",
      "    46/23    0.134    0.003    0.184    0.008 {method 'run_backward' of 'torch._C._EngineBase' objects}\n",
      "       23    0.001    0.000    0.171    0.007 /Users/saitcakmak/botorch/botorch/acquisition/monte_carlo.py:277(_non_reduced_forward)\n",
      "       23    0.001    0.000    0.152    0.007 /Users/saitcakmak/botorch/botorch/acquisition/logei.py:450(_get_samples_and_objectives)\n",
      "        1    0.000    0.000    0.092    0.092 /opt/anaconda3/envs/botorch/lib/python3.10/site-packages/scipy/optimize/_optimize.py:203(_prepare_scalar_function)\n",
      "        1    0.000    0.000    0.092    0.092 /opt/anaconda3/envs/botorch/lib/python3.10/site-packages/scipy/optimize/_differentiable_functions.py:166(__init__)\n",
      "       23    0.000    0.000    0.077    0.003 /Users/saitcakmak/botorch/botorch/models/gpytorch.py:407(posterior)\n",
      "       23    0.001    0.000    0.067    0.003 /opt/anaconda3/envs/botorch/lib/python3.10/site-packages/gpytorch/models/exact_gp.py:252(__call__)\n",
      "       23    0.000    0.000    0.063    0.003 /Users/saitcakmak/botorch/botorch/acquisition/acquisition.py:128(get_posterior_samples)\n",
      "       23    0.000    0.000    0.062    0.003 /Users/saitcakmak/botorch/botorch/sampling/normal.py:34(forward)\n",
      "       23    0.001    0.000    0.061    0.003 /opt/anaconda3/envs/botorch/lib/python3.10/site-packages/gpytorch/models/exact_prediction_strategies.py:308(exact_prediction)\n",
      "    46/23    0.000    0.000    0.057    0.002 /opt/anaconda3/envs/botorch/lib/python3.10/site-packages/torch/autograd/function.py:292(apply)\n",
      "    46/23    0.001    0.000    0.057    0.002 /opt/anaconda3/envs/botorch/lib/python3.10/site-packages/linear_operator/functions/_matmul.py:33(backward)\n",
      "       23    0.000    0.000    0.057    0.002 /Users/saitcakmak/botorch/botorch/posteriors/gpytorch.py:86(rsample_from_base_samples)\n",
      "       23    0.009    0.000    0.056    0.002 /opt/anaconda3/envs/botorch/lib/python3.10/site-packages/gpytorch/distributions/multivariate_normal.py:198(rsample)\n",
      "       23    0.017    0.001    0.056    0.002 /opt/anaconda3/envs/botorch/lib/python3.10/site-packages/linear_operator/operators/_linear_operator.py:339(_bilinear_derivative)\n",
      "  161/138    0.000    0.000    0.050    0.000 /opt/anaconda3/envs/botorch/lib/python3.10/site-packages/gpytorch/utils/memoize.py:54(g)\n",
      "    69/46    0.000    0.000    0.050    0.001 /opt/anaconda3/envs/botorch/lib/python3.10/site-packages/gpytorch/lazy/lazy_evaluated_kernel_tensor.py:22(wrapped)\n",
      "       23    0.000    0.000    0.048    0.002 /opt/anaconda3/envs/botorch/lib/python3.10/site-packages/gpytorch/lazy/lazy_evaluated_kernel_tensor.py:408(to_dense)\n",
      "       23    0.000    0.000    0.048    0.002 /opt/anaconda3/envs/botorch/lib/python3.10/site-packages/gpytorch/lazy/lazy_evaluated_kernel_tensor.py:342(evaluate_kernel)\n",
      "    69/46    0.000    0.000    0.047    0.001 /opt/anaconda3/envs/botorch/lib/python3.10/site-packages/gpytorch/module.py:30(__call__)\n",
      "       46    0.000    0.000    0.046    0.001 /opt/anaconda3/envs/botorch/lib/python3.10/site-packages/gpytorch/kernels/kernel.py:459(__call__)\n",
      "       23    0.000    0.000    0.044    0.002 /opt/anaconda3/envs/botorch/lib/python3.10/site-packages/gpytorch/kernels/rbf_kernel.py:68(forward)\n",
      "       23    0.000    0.000    0.040    0.002 /opt/anaconda3/envs/botorch/lib/python3.10/site-packages/gpytorch/kernels/kernel.py:312(covar_dist)\n",
      "       23    0.001    0.000    0.040    0.002 /opt/anaconda3/envs/botorch/lib/python3.10/site-packages/gpytorch/kernels/kernel.py:26(sq_dist)\n",
      "    92/69    0.000    0.000    0.037    0.001 /opt/anaconda3/envs/botorch/lib/python3.10/site-packages/linear_operator/operators/_linear_operator.py:1817(matmul)\n",
      "       69    0.035    0.001    0.035    0.001 {built-in method torch.matmul}\n",
      "    69/46    0.000    0.000    0.035    0.001 /opt/anaconda3/envs/botorch/lib/python3.10/site-packages/torch/autograd/function.py:559(apply)\n",
      "       46    0.000    0.000    0.035    0.001 /opt/anaconda3/envs/botorch/lib/python3.10/site-packages/linear_operator/operators/triangular_linear_operator.py:104(_matmul)\n",
      "    69/46    0.001    0.000    0.034    0.001 {built-in method apply}\n",
      "       23    0.034    0.001    0.034    0.001 {method 'clamp_min_' of 'torch._C.TensorBase' objects}\n",
      "    69/46    0.000    0.000    0.034    0.001 /opt/anaconda3/envs/botorch/lib/python3.10/site-packages/linear_operator/functions/_matmul.py:9(forward)\n",
      "       46    0.000    0.000    0.032    0.001 /opt/anaconda3/envs/botorch/lib/python3.10/site-packages/linear_operator/operators/dense_linear_operator.py:61(_matmul)\n",
      "       46    0.004    0.000    0.024    0.001 /Users/saitcakmak/botorch/botorch/utils/safe_math.py:146(_inf_max_helper)\n",
      "       23    0.000    0.000    0.020    0.001 /Users/saitcakmak/botorch/botorch/utils/safe_math.py:318(fatmax)\n",
      "    92/23    0.000    0.000    0.019    0.001 /opt/anaconda3/envs/botorch/lib/python3.10/site-packages/linear_operator/utils/memoize.py:54(g)\n",
      "       23    0.000    0.000    0.019    0.001 /opt/anaconda3/envs/botorch/lib/python3.10/site-packages/linear_operator/operators/_linear_operator.py:2128(root_decomposition)\n",
      "       23    0.000    0.000    0.017    0.001 /opt/anaconda3/envs/botorch/lib/python3.10/site-packages/linear_operator/operators/_linear_operator.py:1301(cholesky)\n",
      "       23    0.000    0.000    0.017    0.001 /opt/anaconda3/envs/botorch/lib/python3.10/site-packages/linear_operator/operators/_linear_operator.py:500(_cholesky)\n",
      "       23    0.001    0.000    0.015    0.001 /Users/saitcakmak/botorch/botorch/acquisition/logei.py:349(_sample_forward)\n",
      "      325    0.001    0.000    0.014    0.000 /opt/anaconda3/envs/botorch/lib/python3.10/site-packages/torch/nn/modules/module.py:1935(__setattr__)\n",
      "       69    0.013    0.000    0.013    0.000 {method 'matmul' of 'torch._C.TensorBase' objects}\n",
      "       23    0.001    0.000    0.011    0.000 /Users/saitcakmak/botorch/botorch/acquisition/logei.py:515(_log_improvement)\n",
      "       23    0.000    0.000    0.010    0.000 /Users/saitcakmak/botorch/botorch/utils/safe_math.py:288(log_fatplus)\n",
      "       92    0.009    0.000    0.009    0.000 {method 'contiguous' of 'torch._C.TensorBase' objects}\n",
      "       23    0.000    0.000    0.009    0.000 /opt/anaconda3/envs/botorch/lib/python3.10/site-packages/linear_operator/utils/cholesky.py:50(psd_safe_cholesky)\n",
      "       23    0.000    0.000    0.009    0.000 /opt/anaconda3/envs/botorch/lib/python3.10/site-packages/linear_operator/utils/cholesky.py:12(_psd_safe_cholesky)\n",
      "       23    0.000    0.000    0.009    0.000 /opt/anaconda3/envs/botorch/lib/python3.10/site-packages/linear_operator/operators/dense_linear_operator.py:70(_bilinear_derivative)\n",
      "       23    0.005    0.000    0.009    0.000 /opt/anaconda3/envs/botorch/lib/python3.10/site-packages/gpytorch/models/exact_prediction_strategies.py:365(exact_predictive_covar)\n",
      "       23    0.001    0.000    0.008    0.000 /Users/saitcakmak/botorch/botorch/utils/safe_math.py:297(fatplus)\n",
      "       94    0.008    0.000    0.008    0.000 /opt/anaconda3/envs/botorch/lib/python3.10/site-packages/torch/nn/modules/module.py:519(register_buffer)\n",
      "       23    0.002    0.000    0.008    0.000 /Users/saitcakmak/botorch/botorch/utils/safe_math.py:342(max_fun)\n",
      "       23    0.001    0.000    0.007    0.000 /Users/saitcakmak/botorch/botorch/utils/safe_math.py:311(_fatplus)\n",
      "\n",
      "\n",
      "CPU times: user 1.04 s, sys: 981 ms, total: 2.02 s\n",
      "Wall time: 397 ms\n"
     ]
    }
   ],
   "source": [
    "%%time\n",
    "def f_and_grad(x):\n",
    "    X_tensor = torch.from_numpy(x.reshape((16, 4, 2))).contiguous().requires_grad_(True)\n",
    "    loss = acqf(X_tensor).sum()\n",
    "    grad = torch.autograd.grad(loss, X_tensor)[0].reshape(-1).numpy(force=True)\n",
    "    return loss.item(), grad\n",
    "\n",
    "with cProfile.Profile() as pr:\n",
    "    res = minimize(\n",
    "        fun=f_and_grad,\n",
    "        x0=x0,\n",
    "        method=\"L-BFGS-B\",\n",
    "        jac=True,\n",
    "        bounds=bounds,\n",
    "        options={\"maxfun\": 20},\n",
    "    )\n",
    "\n",
    "sortby = SortKey.CUMULATIVE\n",
    "ps = pstats.Stats(pr).sort_stats(sortby)\n",
    "ps.print_stats(.1)\n",
    "None"
   ]
  },
  {
   "cell_type": "code",
   "execution_count": 3,
   "id": "aa5e13c6-5fa7-4d28-9572-4ec22b5e386b",
   "metadata": {},
   "outputs": [
    {
     "name": "stdout",
     "output_type": "stream",
     "text": [
      "CPU times: user 910 ms, sys: 775 ms, total: 1.69 s\n",
      "Wall time: 294 ms\n"
     ]
    }
   ],
   "source": [
    "%%time\n",
    "X = np.random.random(128)\n",
    "\n",
    "with cProfile.Profile() as pr:\n",
    "    for _ in range(20):\n",
    "        f_and_grad(X)"
   ]
  }
 ],
 "metadata": {
  "kernelspec": {
   "display_name": "Python 3 (ipykernel)",
   "language": "python",
   "name": "python3"
  },
  "language_info": {
   "codemirror_mode": {
    "name": "ipython",
    "version": 3
   },
   "file_extension": ".py",
   "mimetype": "text/x-python",
   "name": "python",
   "nbconvert_exporter": "python",
   "pygments_lexer": "ipython3",
   "version": "3.10.14"
  },
  "papermill": {
   "default_parameters": {},
   "duration": 13.605537,
   "end_time": "2025-01-09T20:34:31.102504",
   "environment_variables": {},
   "exception": null,
   "input_path": "/Users/saitcakmak/botorch/tutorials/test3.ipynb",
   "output_path": "/Users/saitcakmak/botorch/tutorials/test3.ipynb",
   "parameters": {},
   "start_time": "2025-01-09T20:34:17.496967",
   "version": "2.6.0"
  }
 },
 "nbformat": 4,
 "nbformat_minor": 5
}
