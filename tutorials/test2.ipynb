{
 "cells": [
  {
   "cell_type": "code",
   "execution_count": 1,
   "metadata": {
    "executionStartTime": 1648577014352,
    "executionStopTime": 1648577015895,
    "originalKey": "8900645e-ef50-4d4d-b4ae-9b0f4152aff0",
    "requestMsgId": "8d7262fb-6bfe-454f-b465-478d269c184f"
   },
   "outputs": [
    {
     "name": "stdout",
     "output_type": "stream",
     "text": [
      "CPU times: user 2.11 s, sys: 2.24 s, total: 4.35 s\n",
      "Wall time: 3.88 s\n"
     ]
    },
    {
     "data": {
      "text/plain": [
       "'1.7.3'"
      ]
     },
     "execution_count": 1,
     "metadata": {},
     "output_type": "execute_result"
    }
   ],
   "source": [
    "%%time\n",
    "import math\n",
    "import torch\n",
    "\n",
    "from botorch.test_functions import SixHumpCamel\n",
    "from botorch.fit import fit_gpytorch_mll\n",
    "from botorch.models import SingleTaskGP\n",
    "from botorch.utils.transforms import standardize, normalize\n",
    "from gpytorch.mlls import ExactMarginalLogLikelihood\n",
    "from botorch.acquisition import (\n",
    "    ExpectedImprovement,\n",
    "    ProbabilityOfImprovement,\n",
    "    qMaxValueEntropy,\n",
    ")\n",
    "from botorch.acquisition.max_value_entropy_search import qLowerBoundMaxValueEntropy\n",
    "import matplotlib.pyplot as plt\n",
    "from botorch.optim import optimize_acqf\n",
    "from botorch.acquisition import qNoisyExpectedImprovement, qProbabilityOfImprovement\n",
    "from time import time\n",
    "import cProfile, io, pstats\n",
    "from pstats import SortKey\n",
    "import scipy\n",
    "\n",
    "SMOKE_TEST = True\n",
    "\n",
    "torch.manual_seed(123456)\n",
    "torch.set_default_dtype(torch.double)\n",
    "\n",
    "bounds = torch.tensor(SixHumpCamel._bounds).T\n",
    "bounds_norm = torch.tensor([[0.0, 0.0], [1.0, 1.0]])\n",
    "train_X = bounds[0] + (bounds[1] - bounds[0]) * torch.rand(5, 2)\n",
    "train_Y = SixHumpCamel(negate=True)(train_X).unsqueeze(-1)\n",
    "\n",
    "train_X = normalize(train_X, bounds=bounds)\n",
    "train_Y = standardize(train_Y + 0.05 * torch.randn_like(train_Y))\n",
    "\n",
    "model = SingleTaskGP(train_X, train_Y)\n",
    "mll = ExactMarginalLogLikelihood(model.likelihood, model)\n",
    "fit_gpytorch_mll(mll, max_attempts=1)\n",
    "scipy.__version__"
   ]
  },
  {
   "cell_type": "code",
   "execution_count": 4,
   "metadata": {
    "executionStartTime": 1648577020385,
    "executionStopTime": 1648577031509,
    "originalKey": "31ac3a12-eb78-4226-9170-31a22816f6c5",
    "requestMsgId": "a7e5671c-1735-46dc-b2f0-6f8b85a997e6"
   },
   "outputs": [
    {
     "name": "stdout",
     "output_type": "stream",
     "text": [
      "         156129 function calls (143631 primitive calls) in 0.171 seconds\n",
      "\n",
      "   Ordered by: cumulative time\n",
      "   List reduced from 455 to 46 due to restriction <0.1>\n",
      "\n",
      "   ncalls  tottime  percall  cumtime  percall filename:lineno(function)\n",
      "        1    0.000    0.000    0.171    0.171 /opt/anaconda3/lib/python3.9/site-packages/botorch/optim/optimize.py:415(optimize_acqf)\n",
      "        1    0.000    0.000    0.171    0.171 /opt/anaconda3/lib/python3.9/site-packages/botorch/optim/optimize.py:547(_optimize_acqf)\n",
      "        1    0.000    0.000    0.171    0.171 /opt/anaconda3/lib/python3.9/site-packages/botorch/optim/optimize.py:258(_optimize_acqf_batch)\n",
      "        1    0.000    0.000    0.165    0.165 /opt/anaconda3/lib/python3.9/site-packages/botorch/optim/optimize.py:294(_optimize_batch_candidates)\n",
      "        1    0.000    0.000    0.165    0.165 /opt/anaconda3/lib/python3.9/site-packages/botorch/generation/gen.py:43(gen_candidates_scipy)\n",
      "        1    0.000    0.000    0.164    0.164 /opt/anaconda3/lib/python3.9/site-packages/botorch/optim/utils/timeout.py:17(minimize_with_timeout)\n",
      "        1    0.000    0.000    0.164    0.164 /opt/anaconda3/lib/python3.9/site-packages/scipy/optimize/_minimize.py:45(minimize)\n",
      "        1    0.001    0.001    0.164    0.164 /opt/anaconda3/lib/python3.9/site-packages/scipy/optimize/lbfgsb.py:210(_minimize_lbfgsb)\n",
      "      103    0.000    0.000    0.160    0.002 /opt/anaconda3/lib/python3.9/site-packages/scipy/optimize/_differentiable_functions.py:264(fun_and_grad)\n",
      "      206    0.002    0.000    0.160    0.001 /opt/anaconda3/lib/python3.9/site-packages/scipy/optimize/optimize.py:65(_compute_if_needed)\n",
      "      104    0.000    0.000    0.160    0.002 /opt/anaconda3/lib/python3.9/site-packages/scipy/optimize/_differentiable_functions.py:231(_update_fun)\n",
      "      103    0.000    0.000    0.160    0.002 /opt/anaconda3/lib/python3.9/site-packages/scipy/optimize/_differentiable_functions.py:136(update_fun)\n",
      "      103    0.000    0.000    0.160    0.002 /opt/anaconda3/lib/python3.9/site-packages/scipy/optimize/_differentiable_functions.py:129(fun_wrapped)\n",
      "      103    0.000    0.000    0.159    0.002 /opt/anaconda3/lib/python3.9/site-packages/scipy/optimize/optimize.py:72(__call__)\n",
      "      103    0.001    0.000    0.158    0.002 /opt/anaconda3/lib/python3.9/site-packages/botorch/generation/gen.py:175(f_np_wrapper)\n",
      "  525/105    0.001    0.000    0.104    0.001 /opt/anaconda3/lib/python3.9/site-packages/torch/nn/modules/module.py:1494(_call_impl)\n",
      "      105    0.000    0.000    0.104    0.001 /opt/anaconda3/lib/python3.9/site-packages/botorch/utils/transforms.py:326(decorated)\n",
      "      105    0.001    0.000    0.104    0.001 /opt/anaconda3/lib/python3.9/site-packages/botorch/utils/transforms.py:266(decorated)\n",
      "      105    0.001    0.000    0.101    0.001 /opt/anaconda3/lib/python3.9/site-packages/botorch/acquisition/monte_carlo.py:325(forward)\n",
      "      103    0.000    0.000    0.099    0.001 /opt/anaconda3/lib/python3.9/site-packages/botorch/generation/gen.py:229(f)\n",
      "      105    0.001    0.000    0.062    0.001 /opt/anaconda3/lib/python3.9/site-packages/botorch/models/gpytorch.py:340(posterior)\n",
      "      103    0.000    0.000    0.055    0.001 /opt/anaconda3/lib/python3.9/site-packages/torch/autograd/__init__.py:204(grad)\n",
      "      103    0.054    0.001    0.054    0.001 {method 'run_backward' of 'torch._C._EngineBase' objects}\n",
      "      105    0.002    0.000    0.050    0.000 /opt/anaconda3/lib/python3.9/site-packages/gpytorch/models/exact_gp.py:251(__call__)\n",
      "      105    0.002    0.000    0.036    0.000 /opt/anaconda3/lib/python3.9/site-packages/botorch/acquisition/monte_carlo.py:296(_forward_cached)\n",
      "      105    0.001    0.000    0.034    0.000 /opt/anaconda3/lib/python3.9/site-packages/gpytorch/models/exact_prediction_strategies.py:259(exact_prediction)\n",
      "  315/210    0.000    0.000    0.026    0.000 /opt/anaconda3/lib/python3.9/site-packages/gpytorch/module.py:30(__call__)\n",
      "  735/630    0.001    0.000    0.026    0.000 /opt/anaconda3/lib/python3.9/site-packages/gpytorch/utils/memoize.py:54(g)\n",
      "      105    0.000    0.000    0.024    0.000 /opt/anaconda3/lib/python3.9/site-packages/botorch/acquisition/cached_cholesky.py:119(_get_f_X_samples)\n",
      "      105    0.005    0.000    0.024    0.000 /opt/anaconda3/lib/python3.9/site-packages/botorch/utils/low_rank.py:85(sample_cached_cholesky)\n",
      "  315/210    0.000    0.000    0.024    0.000 /opt/anaconda3/lib/python3.9/site-packages/gpytorch/lazy/lazy_evaluated_kernel_tensor.py:22(wrapped)\n",
      "      105    0.000    0.000    0.018    0.000 /opt/anaconda3/lib/python3.9/site-packages/gpytorch/lazy/lazy_evaluated_kernel_tensor.py:408(to_dense)\n",
      "      210    0.001    0.000    0.018    0.000 /opt/anaconda3/lib/python3.9/site-packages/gpytorch/kernels/kernel.py:453(__call__)\n",
      "      105    0.000    0.000    0.018    0.000 /opt/anaconda3/lib/python3.9/site-packages/gpytorch/lazy/lazy_evaluated_kernel_tensor.py:342(evaluate_kernel)\n",
      "      105    0.000    0.000    0.015    0.000 /opt/anaconda3/lib/python3.9/site-packages/gpytorch/kernels/scale_kernel.py:108(forward)\n",
      "      105    0.002    0.000    0.013    0.000 /opt/anaconda3/lib/python3.9/site-packages/gpytorch/kernels/matern_kernel.py:86(forward)\n",
      "      105    0.000    0.000    0.011    0.000 /opt/anaconda3/lib/python3.9/site-packages/botorch/models/gp_regression.py:174(forward)\n",
      "      210    0.000    0.000    0.008    0.000 /opt/anaconda3/lib/python3.9/site-packages/pyro/distributions/distribution.py:19(__call__)\n",
      "      210    0.001    0.000    0.008    0.000 /opt/anaconda3/lib/python3.9/site-packages/gpytorch/distributions/multivariate_normal.py:45(__init__)\n",
      "      105    0.000    0.000    0.007    0.000 /opt/anaconda3/lib/python3.9/site-packages/botorch/models/model.py:226(eval)\n",
      "      105    0.007    0.000    0.007    0.000 {method 'max' of 'torch._C._TensorBase' objects}\n",
      "      105    0.000    0.000    0.007    0.000 /opt/anaconda3/lib/python3.9/site-packages/torch/nn/modules/module.py:2291(eval)\n",
      "      105    0.000    0.000    0.007    0.000 /opt/anaconda3/lib/python3.9/site-packages/botorch/models/model.py:231(train)\n",
      "      525    0.000    0.000    0.007    0.000 /Users/saitcakmak/linear_operator/linear_operator/operators/_linear_operator.py:2289(shape)\n",
      "  630/315    0.001    0.000    0.006    0.000 /opt/anaconda3/lib/python3.9/site-packages/gpytorch/kernels/kernel.py:252(batch_shape)\n",
      "      105    0.004    0.000    0.006    0.000 /opt/anaconda3/lib/python3.9/site-packages/gpytorch/models/exact_prediction_strategies.py:293(exact_predictive_covar)\n",
      "\n",
      "\n",
      "CPU times: user 175 ms, sys: 45.7 ms, total: 221 ms\n",
      "Wall time: 189 ms\n"
     ]
    },
    {
     "data": {
      "text/plain": [
       "'1.7.3'"
      ]
     },
     "execution_count": 4,
     "metadata": {},
     "output_type": "execute_result"
    }
   ],
   "source": [
    "%%time\n",
    "\n",
    "# prep different acqusition functions\n",
    "candidate_set = torch.rand(\n",
    "    10000, bounds.size(1), device=bounds.device, dtype=bounds.dtype\n",
    ")\n",
    "acqs = {}\n",
    "# acqs[\"aa\"] = qLowerBoundMaxValueEntropy(model, candidate_set)\n",
    "# acqs[\"MES\"] = qMaxValueEntropy(model, candidate_set)\n",
    "acqs[\"EI\"] = qNoisyExpectedImprovement(model, train_X)\n",
    "# acqs[\"PI\"] = qProbabilityOfImprovement(model, best_f=train_Y.max())\n",
    "\n",
    "\n",
    "# eval and maximise acq functions\n",
    "with cProfile.Profile() as pr:\n",
    "    for acq in acqs.values():\n",
    "        optimize_acqf(\n",
    "            acq_function=acq,\n",
    "            bounds=bounds_norm,\n",
    "            q=5,\n",
    "            num_restarts=5,\n",
    "            raw_samples=5,\n",
    "            sequential=False,\n",
    "        )\n",
    "\n",
    "sortby = SortKey.CUMULATIVE\n",
    "ps = pstats.Stats(pr).sort_stats(sortby)\n",
    "ps.print_stats(.1)\n",
    "\n",
    "scipy.__version__"
   ]
  },
  {
   "cell_type": "code",
   "execution_count": null,
   "metadata": {},
   "outputs": [],
   "source": []
  }
 ],
 "metadata": {
  "fileHeader": "",
  "kernelspec": {
   "display_name": "Python 3 (ipykernel)",
   "language": "python",
   "name": "python3"
  },
  "language_info": {
   "codemirror_mode": {
    "name": "ipython",
    "version": 3
   },
   "file_extension": ".py",
   "mimetype": "text/x-python",
   "name": "python",
   "nbconvert_exporter": "python",
   "pygments_lexer": "ipython3",
   "version": "3.9.12"
  }
 },
 "nbformat": 4,
 "nbformat_minor": 2
}
