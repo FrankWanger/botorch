{
 "cells": [
  {
   "cell_type": "code",
   "execution_count": 1,
   "metadata": {
    "executionStartTime": 1648577014352,
    "executionStopTime": 1648577015895,
    "originalKey": "8900645e-ef50-4d4d-b4ae-9b0f4152aff0",
    "requestMsgId": "8d7262fb-6bfe-454f-b465-478d269c184f"
   },
   "outputs": [
    {
     "name": "stdout",
     "output_type": "stream",
     "text": [
      "CPU times: user 2.01 s, sys: 2.29 s, total: 4.3 s\n",
      "Wall time: 3.88 s\n"
     ]
    },
    {
     "data": {
      "text/plain": [
       "'1.7.3'"
      ]
     },
     "execution_count": 1,
     "metadata": {},
     "output_type": "execute_result"
    }
   ],
   "source": [
    "%%time\n",
    "import math\n",
    "import torch\n",
    "\n",
    "from botorch.test_functions import SixHumpCamel\n",
    "from botorch.fit import fit_gpytorch_mll\n",
    "from botorch.models import SingleTaskGP\n",
    "from botorch.utils.transforms import standardize, normalize\n",
    "from gpytorch.mlls import ExactMarginalLogLikelihood\n",
    "from botorch.acquisition import (\n",
    "    ExpectedImprovement,\n",
    "    ProbabilityOfImprovement,\n",
    "    qMaxValueEntropy,\n",
    ")\n",
    "from botorch.acquisition.max_value_entropy_search import qLowerBoundMaxValueEntropy\n",
    "import matplotlib.pyplot as plt\n",
    "from botorch.optim import optimize_acqf\n",
    "from botorch.acquisition import qNoisyExpectedImprovement, qProbabilityOfImprovement\n",
    "from time import time\n",
    "import cProfile, io, pstats\n",
    "from pstats import SortKey\n",
    "import scipy\n",
    "\n",
    "SMOKE_TEST = True\n",
    "\n",
    "torch.manual_seed(123456)\n",
    "torch.set_default_dtype(torch.double)\n",
    "\n",
    "bounds = torch.tensor(SixHumpCamel._bounds).T\n",
    "bounds_norm = torch.tensor([[0.0, 0.0], [1.0, 1.0]])\n",
    "train_X = bounds[0] + (bounds[1] - bounds[0]) * torch.rand(5, 2)\n",
    "train_Y = SixHumpCamel(negate=True)(train_X).unsqueeze(-1)\n",
    "\n",
    "train_X = normalize(train_X, bounds=bounds)\n",
    "train_Y = standardize(train_Y + 0.05 * torch.randn_like(train_Y))\n",
    "\n",
    "model = SingleTaskGP(train_X, train_Y)\n",
    "mll = ExactMarginalLogLikelihood(model.likelihood, model)\n",
    "fit_gpytorch_mll(mll, max_attempts=1)\n",
    "scipy.__version__"
   ]
  },
  {
   "cell_type": "code",
   "execution_count": 2,
   "metadata": {
    "executionStartTime": 1648577020385,
    "executionStopTime": 1648577031509,
    "originalKey": "31ac3a12-eb78-4226-9170-31a22816f6c5",
    "requestMsgId": "a7e5671c-1735-46dc-b2f0-6f8b85a997e6"
   },
   "outputs": [
    {
     "name": "stdout",
     "output_type": "stream",
     "text": [
      "         196165 function calls (180446 primitive calls) in 0.236 seconds\n",
      "\n",
      "   Ordered by: cumulative time\n",
      "   List reduced from 457 to 46 due to restriction <0.1>\n",
      "\n",
      "   ncalls  tottime  percall  cumtime  percall filename:lineno(function)\n",
      "        1    0.000    0.000    0.236    0.236 /opt/anaconda3/lib/python3.9/site-packages/botorch/optim/optimize.py:415(optimize_acqf)\n",
      "        1    0.000    0.000    0.236    0.236 /opt/anaconda3/lib/python3.9/site-packages/botorch/optim/optimize.py:547(_optimize_acqf)\n",
      "        1    0.000    0.000    0.236    0.236 /opt/anaconda3/lib/python3.9/site-packages/botorch/optim/optimize.py:258(_optimize_acqf_batch)\n",
      "        1    0.000    0.000    0.233    0.233 /opt/anaconda3/lib/python3.9/site-packages/botorch/optim/optimize.py:294(_optimize_batch_candidates)\n",
      "        1    0.000    0.000    0.233    0.233 /opt/anaconda3/lib/python3.9/site-packages/botorch/generation/gen.py:43(gen_candidates_scipy)\n",
      "        1    0.000    0.000    0.231    0.231 /opt/anaconda3/lib/python3.9/site-packages/botorch/optim/utils/timeout.py:17(minimize_with_timeout)\n",
      "        1    0.000    0.000    0.231    0.231 /opt/anaconda3/lib/python3.9/site-packages/scipy/optimize/_minimize.py:45(minimize)\n",
      "        1    0.002    0.002    0.231    0.231 /opt/anaconda3/lib/python3.9/site-packages/scipy/optimize/lbfgsb.py:210(_minimize_lbfgsb)\n",
      "      130    0.000    0.000    0.227    0.002 /opt/anaconda3/lib/python3.9/site-packages/scipy/optimize/_differentiable_functions.py:264(fun_and_grad)\n",
      "      260    0.002    0.000    0.226    0.001 /opt/anaconda3/lib/python3.9/site-packages/scipy/optimize/optimize.py:65(_compute_if_needed)\n",
      "      131    0.000    0.000    0.226    0.002 /opt/anaconda3/lib/python3.9/site-packages/scipy/optimize/_differentiable_functions.py:231(_update_fun)\n",
      "      130    0.000    0.000    0.226    0.002 /opt/anaconda3/lib/python3.9/site-packages/scipy/optimize/_differentiable_functions.py:136(update_fun)\n",
      "      130    0.000    0.000    0.225    0.002 /opt/anaconda3/lib/python3.9/site-packages/scipy/optimize/_differentiable_functions.py:129(fun_wrapped)\n",
      "      130    0.000    0.000    0.225    0.002 /opt/anaconda3/lib/python3.9/site-packages/scipy/optimize/optimize.py:72(__call__)\n",
      "      130    0.002    0.000    0.222    0.002 /opt/anaconda3/lib/python3.9/site-packages/botorch/generation/gen.py:175(f_np_wrapper)\n",
      "  660/132    0.001    0.000    0.143    0.001 /opt/anaconda3/lib/python3.9/site-packages/torch/nn/modules/module.py:1494(_call_impl)\n",
      "      132    0.000    0.000    0.143    0.001 /opt/anaconda3/lib/python3.9/site-packages/botorch/utils/transforms.py:326(decorated)\n",
      "      132    0.001    0.000    0.143    0.001 /opt/anaconda3/lib/python3.9/site-packages/botorch/utils/transforms.py:266(decorated)\n",
      "      130    0.000    0.000    0.141    0.001 /opt/anaconda3/lib/python3.9/site-packages/botorch/generation/gen.py:229(f)\n",
      "      132    0.002    0.000    0.140    0.001 /opt/anaconda3/lib/python3.9/site-packages/botorch/acquisition/monte_carlo.py:325(forward)\n",
      "      132    0.001    0.000    0.085    0.001 /opt/anaconda3/lib/python3.9/site-packages/botorch/models/gpytorch.py:340(posterior)\n",
      "      130    0.001    0.000    0.077    0.001 /opt/anaconda3/lib/python3.9/site-packages/torch/autograd/__init__.py:204(grad)\n",
      "      130    0.075    0.001    0.075    0.001 {method 'run_backward' of 'torch._C._EngineBase' objects}\n",
      "      132    0.002    0.000    0.069    0.001 /opt/anaconda3/lib/python3.9/site-packages/gpytorch/models/exact_gp.py:251(__call__)\n",
      "      132    0.003    0.000    0.050    0.000 /opt/anaconda3/lib/python3.9/site-packages/botorch/acquisition/monte_carlo.py:296(_forward_cached)\n",
      "      132    0.002    0.000    0.047    0.000 /opt/anaconda3/lib/python3.9/site-packages/gpytorch/models/exact_prediction_strategies.py:259(exact_prediction)\n",
      "  396/264    0.000    0.000    0.035    0.000 /opt/anaconda3/lib/python3.9/site-packages/gpytorch/module.py:30(__call__)\n",
      "      132    0.001    0.000    0.035    0.000 /opt/anaconda3/lib/python3.9/site-packages/botorch/acquisition/cached_cholesky.py:119(_get_f_X_samples)\n",
      "  924/792    0.001    0.000    0.035    0.000 /opt/anaconda3/lib/python3.9/site-packages/gpytorch/utils/memoize.py:54(g)\n",
      "      132    0.007    0.000    0.034    0.000 /opt/anaconda3/lib/python3.9/site-packages/botorch/utils/low_rank.py:85(sample_cached_cholesky)\n",
      "  396/264    0.001    0.000    0.032    0.000 /opt/anaconda3/lib/python3.9/site-packages/gpytorch/lazy/lazy_evaluated_kernel_tensor.py:22(wrapped)\n",
      "      132    0.000    0.000    0.025    0.000 /opt/anaconda3/lib/python3.9/site-packages/gpytorch/lazy/lazy_evaluated_kernel_tensor.py:408(to_dense)\n",
      "      264    0.001    0.000    0.024    0.000 /opt/anaconda3/lib/python3.9/site-packages/gpytorch/kernels/kernel.py:453(__call__)\n",
      "      132    0.001    0.000    0.024    0.000 /opt/anaconda3/lib/python3.9/site-packages/gpytorch/lazy/lazy_evaluated_kernel_tensor.py:342(evaluate_kernel)\n",
      "      132    0.001    0.000    0.021    0.000 /opt/anaconda3/lib/python3.9/site-packages/gpytorch/kernels/scale_kernel.py:108(forward)\n",
      "      132    0.003    0.000    0.019    0.000 /opt/anaconda3/lib/python3.9/site-packages/gpytorch/kernels/matern_kernel.py:86(forward)\n",
      "      132    0.000    0.000    0.014    0.000 /opt/anaconda3/lib/python3.9/site-packages/botorch/models/gp_regression.py:174(forward)\n",
      "      264    0.000    0.000    0.011    0.000 /opt/anaconda3/lib/python3.9/site-packages/pyro/distributions/distribution.py:19(__call__)\n",
      "      264    0.001    0.000    0.011    0.000 /opt/anaconda3/lib/python3.9/site-packages/gpytorch/distributions/multivariate_normal.py:45(__init__)\n",
      "      132    0.000    0.000    0.010    0.000 /opt/anaconda3/lib/python3.9/site-packages/botorch/models/model.py:226(eval)\n",
      "      132    0.009    0.000    0.009    0.000 {method 'max' of 'torch._C._TensorBase' objects}\n",
      "      132    0.006    0.000    0.009    0.000 /opt/anaconda3/lib/python3.9/site-packages/gpytorch/models/exact_prediction_strategies.py:293(exact_predictive_covar)\n",
      "      132    0.000    0.000    0.009    0.000 /opt/anaconda3/lib/python3.9/site-packages/torch/nn/modules/module.py:2291(eval)\n",
      "      132    0.000    0.000    0.009    0.000 /opt/anaconda3/lib/python3.9/site-packages/gpytorch/kernels/kernel.py:306(covar_dist)\n",
      "      132    0.000    0.000    0.009    0.000 /opt/anaconda3/lib/python3.9/site-packages/botorch/models/model.py:231(train)\n",
      "      132    0.000    0.000    0.009    0.000 /opt/anaconda3/lib/python3.9/site-packages/gpytorch/kernels/kernel.py:51(dist)\n",
      "\n",
      "\n",
      "CPU times: user 225 ms, sys: 71 ms, total: 296 ms\n",
      "Wall time: 245 ms\n"
     ]
    },
    {
     "data": {
      "text/plain": [
       "'1.7.3'"
      ]
     },
     "execution_count": 2,
     "metadata": {},
     "output_type": "execute_result"
    }
   ],
   "source": [
    "%%time\n",
    "\n",
    "acqf = qNoisyExpectedImprovement(model, train_X)\n",
    "\n",
    "# eval and maximise acq functions\n",
    "with cProfile.Profile() as pr:\n",
    "    optimize_acqf(\n",
    "        acq_function=acqf,\n",
    "        bounds=bounds_norm,\n",
    "        q=5,\n",
    "        num_restarts=5,\n",
    "        raw_samples=5,\n",
    "        sequential=False,\n",
    "    )\n",
    "\n",
    "sortby = SortKey.CUMULATIVE\n",
    "ps = pstats.Stats(pr).sort_stats(sortby)\n",
    "ps.print_stats(.1)\n",
    "\n",
    "scipy.__version__"
   ]
  },
  {
   "cell_type": "code",
   "execution_count": 5,
   "metadata": {},
   "outputs": [
    {
     "name": "stdout",
     "output_type": "stream",
     "text": [
      "         138702 function calls (126802 primitive calls) in 0.286 seconds\n",
      "\n",
      "   Ordered by: cumulative time\n",
      "   List reduced from 240 to 24 due to restriction <0.1>\n",
      "\n",
      "   ncalls  tottime  percall  cumtime  percall filename:lineno(function)\n",
      "  500/100    0.001    0.000    0.169    0.002 /opt/anaconda3/lib/python3.9/site-packages/torch/nn/modules/module.py:1494(_call_impl)\n",
      "      100    0.000    0.000    0.168    0.002 /opt/anaconda3/lib/python3.9/site-packages/botorch/utils/transforms.py:326(decorated)\n",
      "      100    0.001    0.000    0.168    0.002 /opt/anaconda3/lib/python3.9/site-packages/botorch/utils/transforms.py:266(decorated)\n",
      "      100    0.001    0.000    0.165    0.002 /opt/anaconda3/lib/python3.9/site-packages/botorch/acquisition/monte_carlo.py:325(forward)\n",
      "      100    0.000    0.000    0.116    0.001 /opt/anaconda3/lib/python3.9/site-packages/torch/_tensor.py:428(backward)\n",
      "      100    0.000    0.000    0.115    0.001 /opt/anaconda3/lib/python3.9/site-packages/torch/autograd/__init__.py:106(backward)\n",
      "      100    0.114    0.001    0.114    0.001 {method 'run_backward' of 'torch._C._EngineBase' objects}\n",
      "      100    0.001    0.000    0.086    0.001 /opt/anaconda3/lib/python3.9/site-packages/botorch/models/gpytorch.py:340(posterior)\n",
      "      100    0.003    0.000    0.074    0.001 /opt/anaconda3/lib/python3.9/site-packages/botorch/acquisition/monte_carlo.py:296(_forward_cached)\n",
      "      100    0.002    0.000    0.072    0.001 /opt/anaconda3/lib/python3.9/site-packages/gpytorch/models/exact_gp.py:251(__call__)\n",
      "      100    0.001    0.000    0.060    0.001 /opt/anaconda3/lib/python3.9/site-packages/botorch/acquisition/cached_cholesky.py:119(_get_f_X_samples)\n",
      "      100    0.010    0.000    0.059    0.001 /opt/anaconda3/lib/python3.9/site-packages/botorch/utils/low_rank.py:85(sample_cached_cholesky)\n",
      "      100    0.002    0.000    0.053    0.001 /opt/anaconda3/lib/python3.9/site-packages/gpytorch/models/exact_prediction_strategies.py:259(exact_prediction)\n",
      "  300/200    0.000    0.000    0.039    0.000 /opt/anaconda3/lib/python3.9/site-packages/gpytorch/module.py:30(__call__)\n",
      "  700/600    0.001    0.000    0.039    0.000 /opt/anaconda3/lib/python3.9/site-packages/gpytorch/utils/memoize.py:54(g)\n",
      "  300/200    0.000    0.000    0.036    0.000 /opt/anaconda3/lib/python3.9/site-packages/gpytorch/lazy/lazy_evaluated_kernel_tensor.py:22(wrapped)\n",
      "      100    0.000    0.000    0.030    0.000 /opt/anaconda3/lib/python3.9/site-packages/gpytorch/lazy/lazy_evaluated_kernel_tensor.py:408(to_dense)\n",
      "      200    0.001    0.000    0.029    0.000 /opt/anaconda3/lib/python3.9/site-packages/gpytorch/kernels/kernel.py:453(__call__)\n",
      "      100    0.001    0.000    0.029    0.000 /opt/anaconda3/lib/python3.9/site-packages/gpytorch/lazy/lazy_evaluated_kernel_tensor.py:342(evaluate_kernel)\n",
      "      100    0.001    0.000    0.026    0.000 /opt/anaconda3/lib/python3.9/site-packages/gpytorch/kernels/scale_kernel.py:108(forward)\n",
      "      100    0.004    0.000    0.024    0.000 /opt/anaconda3/lib/python3.9/site-packages/gpytorch/kernels/matern_kernel.py:86(forward)\n",
      "      100    0.000    0.000    0.012    0.000 /opt/anaconda3/lib/python3.9/site-packages/botorch/models/gp_regression.py:174(forward)\n",
      "      100    0.000    0.000    0.012    0.000 /opt/anaconda3/lib/python3.9/site-packages/gpytorch/kernels/kernel.py:306(covar_dist)\n",
      "      100    0.000    0.000    0.012    0.000 /opt/anaconda3/lib/python3.9/site-packages/gpytorch/kernels/kernel.py:51(dist)\n",
      "\n",
      "\n",
      "CPU times: user 261 ms, sys: 204 ms, total: 464 ms\n",
      "Wall time: 290 ms\n"
     ]
    },
    {
     "data": {
      "text/plain": [
       "'1.7.3'"
      ]
     },
     "execution_count": 5,
     "metadata": {},
     "output_type": "execute_result"
    }
   ],
   "source": [
    "%%time\n",
    "with cProfile.Profile() as pr:\n",
    "    for _ in range(100):\n",
    "        test_X = torch.rand(20, 5, 2, requires_grad=True)\n",
    "        acqf(test_X).sum().backward()\n",
    "\n",
    "sortby = SortKey.CUMULATIVE\n",
    "ps = pstats.Stats(pr).sort_stats(sortby)\n",
    "ps.print_stats(.1)\n",
    "\n",
    "scipy.__version__"
   ]
  }
 ],
 "metadata": {
  "fileHeader": "",
  "kernelspec": {
   "display_name": "Python 3 (ipykernel)",
   "language": "python",
   "name": "python3"
  },
  "language_info": {
   "codemirror_mode": {
    "name": "ipython",
    "version": 3
   },
   "file_extension": ".py",
   "mimetype": "text/x-python",
   "name": "python",
   "nbconvert_exporter": "python",
   "pygments_lexer": "ipython3",
   "version": "3.9.12"
  }
 },
 "nbformat": 4,
 "nbformat_minor": 2
}
