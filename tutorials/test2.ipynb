{
 "cells": [
  {
   "cell_type": "code",
   "execution_count": 5,
   "id": "babee257",
   "metadata": {
    "execution": {
     "iopub.execute_input": "2025-01-09T19:26:53.758367Z",
     "iopub.status.busy": "2025-01-09T19:26:53.758172Z",
     "iopub.status.idle": "2025-01-09T19:27:10.517246Z",
     "shell.execute_reply": "2025-01-09T19:27:10.516839Z"
    },
    "executionStartTime": 1648577014352,
    "executionStopTime": 1648577015895,
    "originalKey": "8900645e-ef50-4d4d-b4ae-9b0f4152aff0",
    "papermill": {
     "duration": 16.766519,
     "end_time": "2025-01-09T19:27:10.518597",
     "exception": false,
     "start_time": "2025-01-09T19:26:53.752078",
     "status": "completed"
    },
    "requestMsgId": "8d7262fb-6bfe-454f-b465-478d269c184f",
    "tags": []
   },
   "outputs": [
    {
     "name": "stdout",
     "output_type": "stream",
     "text": [
      "CPU times: user 56.7 ms, sys: 23.8 ms, total: 80.6 ms\n",
      "Wall time: 166 ms\n"
     ]
    },
    {
     "data": {
      "text/plain": [
       "'1.7.3'"
      ]
     },
     "execution_count": 5,
     "metadata": {},
     "output_type": "execute_result"
    }
   ],
   "source": [
    "%%time\n",
    "import math\n",
    "import torch\n",
    "\n",
    "from botorch.test_functions import SixHumpCamel\n",
    "from botorch.fit import fit_gpytorch_mll\n",
    "from botorch.models import SingleTaskGP\n",
    "from botorch.utils.transforms import standardize, normalize\n",
    "from gpytorch.mlls import ExactMarginalLogLikelihood\n",
    "from botorch.acquisition import (\n",
    "    ExpectedImprovement,\n",
    "    ProbabilityOfImprovement,\n",
    "    qMaxValueEntropy,\n",
    ")\n",
    "from botorch.acquisition.max_value_entropy_search import qLowerBoundMaxValueEntropy\n",
    "import matplotlib.pyplot as plt\n",
    "from botorch.optim import optimize_acqf\n",
    "from botorch.acquisition import qNoisyExpectedImprovement, qProbabilityOfImprovement\n",
    "from time import time\n",
    "import cProfile, io, pstats\n",
    "from pstats import SortKey\n",
    "import scipy\n",
    "\n",
    "SMOKE_TEST = True\n",
    "\n",
    "torch.manual_seed(123456)\n",
    "torch.set_default_dtype(torch.double)\n",
    "\n",
    "bounds = torch.tensor(SixHumpCamel._bounds).T\n",
    "bounds_norm = torch.tensor([[0.0, 0.0], [1.0, 1.0]])\n",
    "train_X = bounds[0] + (bounds[1] - bounds[0]) * torch.rand(5, 2)\n",
    "train_Y = SixHumpCamel(negate=True)(train_X).unsqueeze(-1)\n",
    "\n",
    "train_X = normalize(train_X, bounds=bounds)\n",
    "train_Y = standardize(train_Y + 0.05 * torch.randn_like(train_Y))\n",
    "\n",
    "model = SingleTaskGP(train_X, train_Y)\n",
    "mll = ExactMarginalLogLikelihood(model.likelihood, model)\n",
    "fit_gpytorch_mll(mll, max_attempts=1)\n",
    "scipy.__version__"
   ]
  },
  {
   "cell_type": "code",
   "execution_count": 6,
   "id": "0899558f",
   "metadata": {
    "execution": {
     "iopub.execute_input": "2025-01-09T19:27:10.541697Z",
     "iopub.status.busy": "2025-01-09T19:27:10.541463Z",
     "iopub.status.idle": "2025-01-09T19:27:10.799309Z",
     "shell.execute_reply": "2025-01-09T19:27:10.798827Z"
    },
    "executionStartTime": 1648577020385,
    "executionStopTime": 1648577031509,
    "originalKey": "31ac3a12-eb78-4226-9170-31a22816f6c5",
    "papermill": {
     "duration": 0.280331,
     "end_time": "2025-01-09T19:27:10.800965",
     "exception": false,
     "start_time": "2025-01-09T19:27:10.520634",
     "status": "completed"
    },
    "requestMsgId": "a7e5671c-1735-46dc-b2f0-6f8b85a997e6",
    "tags": []
   },
   "outputs": [
    {
     "name": "stdout",
     "output_type": "stream",
     "text": [
      "         196165 function calls (180446 primitive calls) in 0.268 seconds\n",
      "\n",
      "   Ordered by: cumulative time\n",
      "   List reduced from 457 to 46 due to restriction <0.1>\n",
      "\n",
      "   ncalls  tottime  percall  cumtime  percall filename:lineno(function)\n",
      "        1    0.000    0.000    0.268    0.268 /opt/anaconda3/lib/python3.9/site-packages/botorch/optim/optimize.py:415(optimize_acqf)\n",
      "        1    0.000    0.000    0.268    0.268 /opt/anaconda3/lib/python3.9/site-packages/botorch/optim/optimize.py:547(_optimize_acqf)\n",
      "        1    0.000    0.000    0.268    0.268 /opt/anaconda3/lib/python3.9/site-packages/botorch/optim/optimize.py:258(_optimize_acqf_batch)\n",
      "        1    0.000    0.000    0.264    0.264 /opt/anaconda3/lib/python3.9/site-packages/botorch/optim/optimize.py:294(_optimize_batch_candidates)\n",
      "        1    0.000    0.000    0.263    0.263 /opt/anaconda3/lib/python3.9/site-packages/botorch/generation/gen.py:43(gen_candidates_scipy)\n",
      "        1    0.000    0.000    0.260    0.260 /opt/anaconda3/lib/python3.9/site-packages/botorch/optim/utils/timeout.py:17(minimize_with_timeout)\n",
      "        1    0.000    0.000    0.260    0.260 /opt/anaconda3/lib/python3.9/site-packages/scipy/optimize/_minimize.py:45(minimize)\n",
      "        1    0.002    0.002    0.260    0.260 /opt/anaconda3/lib/python3.9/site-packages/scipy/optimize/lbfgsb.py:210(_minimize_lbfgsb)\n",
      "      260    0.003    0.000    0.255    0.001 /opt/anaconda3/lib/python3.9/site-packages/scipy/optimize/optimize.py:65(_compute_if_needed)\n",
      "      131    0.000    0.000    0.254    0.002 /opt/anaconda3/lib/python3.9/site-packages/scipy/optimize/_differentiable_functions.py:231(_update_fun)\n",
      "      130    0.000    0.000    0.254    0.002 /opt/anaconda3/lib/python3.9/site-packages/scipy/optimize/_differentiable_functions.py:136(update_fun)\n",
      "      130    0.000    0.000    0.254    0.002 /opt/anaconda3/lib/python3.9/site-packages/scipy/optimize/_differentiable_functions.py:129(fun_wrapped)\n",
      "      130    0.000    0.000    0.254    0.002 /opt/anaconda3/lib/python3.9/site-packages/scipy/optimize/optimize.py:72(__call__)\n",
      "      130    0.000    0.000    0.254    0.002 /opt/anaconda3/lib/python3.9/site-packages/scipy/optimize/_differentiable_functions.py:264(fun_and_grad)\n",
      "      130    0.002    0.000    0.251    0.002 /opt/anaconda3/lib/python3.9/site-packages/botorch/generation/gen.py:175(f_np_wrapper)\n",
      "  660/132    0.001    0.000    0.151    0.001 /opt/anaconda3/lib/python3.9/site-packages/torch/nn/modules/module.py:1494(_call_impl)\n",
      "      132    0.000    0.000    0.150    0.001 /opt/anaconda3/lib/python3.9/site-packages/botorch/utils/transforms.py:326(decorated)\n",
      "      132    0.001    0.000    0.150    0.001 /opt/anaconda3/lib/python3.9/site-packages/botorch/utils/transforms.py:266(decorated)\n",
      "      130    0.001    0.000    0.148    0.001 /opt/anaconda3/lib/python3.9/site-packages/botorch/generation/gen.py:229(f)\n",
      "      132    0.001    0.000    0.147    0.001 /opt/anaconda3/lib/python3.9/site-packages/botorch/acquisition/monte_carlo.py:325(forward)\n",
      "      130    0.001    0.000    0.097    0.001 /opt/anaconda3/lib/python3.9/site-packages/torch/autograd/__init__.py:204(grad)\n",
      "      130    0.096    0.001    0.096    0.001 {method 'run_backward' of 'torch._C._EngineBase' objects}\n",
      "      132    0.001    0.000    0.089    0.001 /opt/anaconda3/lib/python3.9/site-packages/botorch/models/gpytorch.py:340(posterior)\n",
      "      132    0.002    0.000    0.073    0.001 /opt/anaconda3/lib/python3.9/site-packages/gpytorch/models/exact_gp.py:251(__call__)\n",
      "      132    0.003    0.000    0.053    0.000 /opt/anaconda3/lib/python3.9/site-packages/botorch/acquisition/monte_carlo.py:296(_forward_cached)\n",
      "      132    0.002    0.000    0.051    0.000 /opt/anaconda3/lib/python3.9/site-packages/gpytorch/models/exact_prediction_strategies.py:259(exact_prediction)\n",
      "      132    0.001    0.000    0.038    0.000 /opt/anaconda3/lib/python3.9/site-packages/botorch/acquisition/cached_cholesky.py:119(_get_f_X_samples)\n",
      "  396/264    0.000    0.000    0.038    0.000 /opt/anaconda3/lib/python3.9/site-packages/gpytorch/module.py:30(__call__)\n",
      "      132    0.007    0.000    0.037    0.000 /opt/anaconda3/lib/python3.9/site-packages/botorch/utils/low_rank.py:85(sample_cached_cholesky)\n",
      "  924/792    0.001    0.000    0.037    0.000 /opt/anaconda3/lib/python3.9/site-packages/gpytorch/utils/memoize.py:54(g)\n",
      "  396/264    0.001    0.000    0.035    0.000 /opt/anaconda3/lib/python3.9/site-packages/gpytorch/lazy/lazy_evaluated_kernel_tensor.py:22(wrapped)\n",
      "      132    0.000    0.000    0.028    0.000 /opt/anaconda3/lib/python3.9/site-packages/gpytorch/lazy/lazy_evaluated_kernel_tensor.py:408(to_dense)\n",
      "      264    0.001    0.000    0.027    0.000 /opt/anaconda3/lib/python3.9/site-packages/gpytorch/kernels/kernel.py:453(__call__)\n",
      "      132    0.001    0.000    0.027    0.000 /opt/anaconda3/lib/python3.9/site-packages/gpytorch/lazy/lazy_evaluated_kernel_tensor.py:342(evaluate_kernel)\n",
      "      132    0.001    0.000    0.023    0.000 /opt/anaconda3/lib/python3.9/site-packages/gpytorch/kernels/scale_kernel.py:108(forward)\n",
      "      132    0.004    0.000    0.021    0.000 /opt/anaconda3/lib/python3.9/site-packages/gpytorch/kernels/matern_kernel.py:86(forward)\n",
      "      132    0.000    0.000    0.014    0.000 /opt/anaconda3/lib/python3.9/site-packages/botorch/models/gp_regression.py:174(forward)\n",
      "      264    0.000    0.000    0.011    0.000 /opt/anaconda3/lib/python3.9/site-packages/pyro/distributions/distribution.py:19(__call__)\n",
      "      264    0.001    0.000    0.011    0.000 /opt/anaconda3/lib/python3.9/site-packages/gpytorch/distributions/multivariate_normal.py:45(__init__)\n",
      "      132    0.000    0.000    0.010    0.000 /opt/anaconda3/lib/python3.9/site-packages/gpytorch/kernels/kernel.py:306(covar_dist)\n",
      "      132    0.000    0.000    0.010    0.000 /opt/anaconda3/lib/python3.9/site-packages/gpytorch/kernels/kernel.py:51(dist)\n",
      "      132    0.000    0.000    0.010    0.000 /opt/anaconda3/lib/python3.9/site-packages/botorch/models/model.py:226(eval)\n",
      "      132    0.007    0.000    0.010    0.000 /opt/anaconda3/lib/python3.9/site-packages/gpytorch/models/exact_prediction_strategies.py:293(exact_predictive_covar)\n",
      "      132    0.009    0.000    0.009    0.000 {method 'max' of 'torch._C._TensorBase' objects}\n",
      "      132    0.000    0.000    0.009    0.000 /opt/anaconda3/lib/python3.9/site-packages/torch/nn/modules/module.py:2291(eval)\n",
      "      132    0.000    0.000    0.009    0.000 /opt/anaconda3/lib/python3.9/site-packages/botorch/models/model.py:231(train)\n",
      "\n",
      "\n",
      "CPU times: user 260 ms, sys: 73.1 ms, total: 333 ms\n",
      "Wall time: 296 ms\n"
     ]
    },
    {
     "data": {
      "text/plain": [
       "'1.7.3'"
      ]
     },
     "execution_count": 6,
     "metadata": {},
     "output_type": "execute_result"
    }
   ],
   "source": [
    "%%time\n",
    "\n",
    "acqf = qNoisyExpectedImprovement(model, train_X)\n",
    "\n",
    "# eval and maximise acq functions\n",
    "with cProfile.Profile() as pr:\n",
    "    optimize_acqf(\n",
    "        acq_function=acqf,\n",
    "        bounds=bounds_norm,\n",
    "        q=5,\n",
    "        num_restarts=5,\n",
    "        raw_samples=5,\n",
    "        sequential=False,\n",
    "    )\n",
    "\n",
    "sortby = SortKey.CUMULATIVE\n",
    "ps = pstats.Stats(pr).sort_stats(sortby)\n",
    "ps.print_stats(.1)\n",
    "\n",
    "scipy.__version__"
   ]
  },
  {
   "cell_type": "code",
   "execution_count": 7,
   "id": "ba5144b0",
   "metadata": {},
   "outputs": [
    {
     "name": "stdout",
     "output_type": "stream",
     "text": [
      "         290123 function calls (267684 primitive calls) in 0.358 seconds\n",
      "\n",
      "   Ordered by: cumulative time\n",
      "   List reduced from 503 to 50 due to restriction <0.1>\n",
      "\n",
      "   ncalls  tottime  percall  cumtime  percall filename:lineno(function)\n",
      "        1    0.000    0.000    0.358    0.358 /opt/anaconda3/lib/python3.9/site-packages/botorch/optim/optimize.py:415(optimize_acqf)\n",
      "        1    0.000    0.000    0.358    0.358 /opt/anaconda3/lib/python3.9/site-packages/botorch/optim/optimize.py:547(_optimize_acqf)\n",
      "        1    0.000    0.000    0.358    0.358 /opt/anaconda3/lib/python3.9/site-packages/botorch/optim/optimize.py:258(_optimize_acqf_batch)\n",
      "        1    0.000    0.000    0.347    0.347 /opt/anaconda3/lib/python3.9/site-packages/botorch/optim/optimize.py:294(_optimize_batch_candidates)\n",
      "        1    0.000    0.000    0.347    0.347 /opt/anaconda3/lib/python3.9/site-packages/botorch/generation/gen.py:43(gen_candidates_scipy)\n",
      "        1    0.000    0.000    0.346    0.346 /opt/anaconda3/lib/python3.9/site-packages/botorch/optim/utils/timeout.py:17(minimize_with_timeout)\n",
      "        1    0.000    0.000    0.346    0.346 /opt/anaconda3/lib/python3.9/site-packages/scipy/optimize/_minimize.py:45(minimize)\n",
      "        1    0.003    0.003    0.345    0.345 /opt/anaconda3/lib/python3.9/site-packages/scipy/optimize/lbfgsb.py:210(_minimize_lbfgsb)\n",
      "      284    0.003    0.000    0.338    0.001 /opt/anaconda3/lib/python3.9/site-packages/scipy/optimize/optimize.py:65(_compute_if_needed)\n",
      "      142    0.000    0.000    0.338    0.002 /opt/anaconda3/lib/python3.9/site-packages/scipy/optimize/_differentiable_functions.py:264(fun_and_grad)\n",
      "      143    0.000    0.000    0.337    0.002 /opt/anaconda3/lib/python3.9/site-packages/scipy/optimize/_differentiable_functions.py:231(_update_fun)\n",
      "      142    0.000    0.000    0.337    0.002 /opt/anaconda3/lib/python3.9/site-packages/scipy/optimize/_differentiable_functions.py:136(update_fun)\n",
      "      142    0.000    0.000    0.337    0.002 /opt/anaconda3/lib/python3.9/site-packages/scipy/optimize/_differentiable_functions.py:129(fun_wrapped)\n",
      "      142    0.000    0.000    0.337    0.002 /opt/anaconda3/lib/python3.9/site-packages/scipy/optimize/optimize.py:72(__call__)\n",
      "      142    0.003    0.000    0.333    0.002 /opt/anaconda3/lib/python3.9/site-packages/botorch/generation/gen.py:175(f_np_wrapper)\n",
      "  864/144    0.002    0.000    0.206    0.001 /opt/anaconda3/lib/python3.9/site-packages/torch/nn/modules/module.py:1494(_call_impl)\n",
      "      144    0.000    0.000    0.205    0.001 /opt/anaconda3/lib/python3.9/site-packages/botorch/utils/transforms.py:326(decorated)\n",
      "      144    0.002    0.000    0.205    0.001 /opt/anaconda3/lib/python3.9/site-packages/botorch/utils/transforms.py:266(decorated)\n",
      "      144    0.004    0.000    0.200    0.001 /opt/anaconda3/lib/python3.9/site-packages/botorch/acquisition/monte_carlo.py:325(forward)\n",
      "      142    0.001    0.000    0.196    0.001 /opt/anaconda3/lib/python3.9/site-packages/botorch/generation/gen.py:229(f)\n",
      "  284/142    0.001    0.000    0.129    0.001 /opt/anaconda3/lib/python3.9/site-packages/torch/autograd/__init__.py:204(grad)\n",
      "  284/142    0.098    0.000    0.127    0.001 {method 'run_backward' of 'torch._C._EngineBase' objects}\n",
      "      144    0.001    0.000    0.114    0.001 /opt/anaconda3/lib/python3.9/site-packages/botorch/models/gpytorch.py:340(posterior)\n",
      "      144    0.003    0.000    0.094    0.001 /opt/anaconda3/lib/python3.9/site-packages/gpytorch/models/exact_gp.py:251(__call__)\n",
      "      144    0.002    0.000    0.065    0.000 /opt/anaconda3/lib/python3.9/site-packages/gpytorch/models/exact_prediction_strategies.py:259(exact_prediction)\n",
      "      144    0.000    0.000    0.055    0.000 /opt/anaconda3/lib/python3.9/site-packages/botorch/acquisition/acquisition.py:160(get_posterior_samples)\n",
      "      144    0.000    0.000    0.053    0.000 /opt/anaconda3/lib/python3.9/site-packages/botorch/sampling/normal.py:34(forward)\n",
      "  432/288    0.001    0.000    0.049    0.000 /opt/anaconda3/lib/python3.9/site-packages/gpytorch/module.py:30(__call__)\n",
      " 1008/864    0.001    0.000    0.048    0.000 /opt/anaconda3/lib/python3.9/site-packages/gpytorch/utils/memoize.py:54(g)\n",
      "      144    0.001    0.000    0.047    0.000 /opt/anaconda3/lib/python3.9/site-packages/botorch/posteriors/gpytorch.py:105(rsample_from_base_samples)\n",
      "  432/288    0.001    0.000    0.045    0.000 /opt/anaconda3/lib/python3.9/site-packages/gpytorch/lazy/lazy_evaluated_kernel_tensor.py:22(wrapped)\n",
      "      144    0.003    0.000    0.044    0.000 /opt/anaconda3/lib/python3.9/site-packages/gpytorch/distributions/multivariate_normal.py:198(rsample)\n",
      "      144    0.000    0.000    0.037    0.000 /opt/anaconda3/lib/python3.9/site-packages/gpytorch/lazy/lazy_evaluated_kernel_tensor.py:408(to_dense)\n",
      "      288    0.001    0.000    0.036    0.000 /opt/anaconda3/lib/python3.9/site-packages/gpytorch/kernels/kernel.py:453(__call__)\n",
      "      144    0.001    0.000    0.036    0.000 /opt/anaconda3/lib/python3.9/site-packages/gpytorch/lazy/lazy_evaluated_kernel_tensor.py:342(evaluate_kernel)\n",
      "  284/142    0.000    0.000    0.033    0.000 /opt/anaconda3/lib/python3.9/site-packages/torch/autograd/function.py:264(apply)\n",
      "  284/142    0.002    0.000    0.033    0.000 /Users/saitcakmak/linear_operator/linear_operator/functions/_matmul.py:33(backward)\n",
      "      144    0.001    0.000    0.031    0.000 /opt/anaconda3/lib/python3.9/site-packages/gpytorch/kernels/scale_kernel.py:108(forward)\n",
      "      142    0.004    0.000    0.028    0.000 /Users/saitcakmak/linear_operator/linear_operator/operators/_linear_operator.py:339(_bilinear_derivative)\n",
      "      144    0.007    0.000    0.028    0.000 /opt/anaconda3/lib/python3.9/site-packages/gpytorch/kernels/matern_kernel.py:86(forward)\n",
      "  430/286    0.001    0.000    0.025    0.000 /Users/saitcakmak/linear_operator/linear_operator/operators/_linear_operator.py:1815(matmul)\n",
      "      288    0.021    0.000    0.021    0.000 {method 'max' of 'torch._C._TensorBase' objects}\n",
      "  288/144    0.001    0.000    0.020    0.000 /Users/saitcakmak/linear_operator/linear_operator/utils/memoize.py:54(g)\n",
      "  430/286    0.001    0.000    0.019    0.000 /opt/anaconda3/lib/python3.9/site-packages/torch/autograd/function.py:501(apply)\n",
      "      144    0.001    0.000    0.019    0.000 /Users/saitcakmak/linear_operator/linear_operator/operators/_linear_operator.py:2126(root_decomposition)\n",
      "  430/286    0.003    0.000    0.018    0.000 {built-in method apply}\n",
      "      144    0.001    0.000    0.017    0.000 /opt/anaconda3/lib/python3.9/site-packages/botorch/models/gp_regression.py:174(forward)\n",
      "      286    0.000    0.000    0.017    0.000 /Users/saitcakmak/linear_operator/linear_operator/operators/triangular_linear_operator.py:104(_matmul)\n",
      "  430/286    0.001    0.000    0.016    0.000 /Users/saitcakmak/linear_operator/linear_operator/functions/_matmul.py:9(forward)\n",
      "      144    0.000    0.000    0.016    0.000 /Users/saitcakmak/linear_operator/linear_operator/operators/_linear_operator.py:1299(cholesky)\n",
      "\n",
      "\n",
      "CPU times: user 342 ms, sys: 88.3 ms, total: 430 ms\n",
      "Wall time: 369 ms\n"
     ]
    },
    {
     "data": {
      "text/plain": [
       "'1.7.3'"
      ]
     },
     "execution_count": 7,
     "metadata": {},
     "output_type": "execute_result"
    }
   ],
   "source": [
    "%%time\n",
    "\n",
    "acqf = qNoisyExpectedImprovement(model, train_X, cache_root=False)\n",
    "\n",
    "# eval and maximise acq functions\n",
    "with cProfile.Profile() as pr:\n",
    "    optimize_acqf(\n",
    "        acq_function=acqf,\n",
    "        bounds=bounds_norm,\n",
    "        q=5,\n",
    "        num_restarts=5,\n",
    "        raw_samples=5,\n",
    "        sequential=False,\n",
    "    )\n",
    "\n",
    "sortby = SortKey.CUMULATIVE\n",
    "ps = pstats.Stats(pr).sort_stats(sortby)\n",
    "ps.print_stats(.1)\n",
    "\n",
    "scipy.__version__"
   ]
  },
  {
   "cell_type": "code",
   "execution_count": 8,
   "id": "fb5c4839",
   "metadata": {
    "execution": {
     "iopub.execute_input": "2025-01-09T19:27:10.820010Z",
     "iopub.status.busy": "2025-01-09T19:27:10.819839Z",
     "iopub.status.idle": "2025-01-09T19:27:11.109268Z",
     "shell.execute_reply": "2025-01-09T19:27:11.108756Z"
    },
    "papermill": {
     "duration": 0.296138,
     "end_time": "2025-01-09T19:27:11.110450",
     "exception": false,
     "start_time": "2025-01-09T19:27:10.814312",
     "status": "completed"
    },
    "tags": []
   },
   "outputs": [
    {
     "name": "stdout",
     "output_type": "stream",
     "text": [
      "         192002 function calls (176502 primitive calls) in 0.382 seconds\n",
      "\n",
      "   Ordered by: cumulative time\n",
      "   List reduced from 290 to 29 due to restriction <0.1>\n",
      "\n",
      "   ncalls  tottime  percall  cumtime  percall filename:lineno(function)\n",
      "      100    0.000    0.000    0.192    0.002 /opt/anaconda3/lib/python3.9/site-packages/torch/_tensor.py:428(backward)\n",
      "      100    0.000    0.000    0.191    0.002 /opt/anaconda3/lib/python3.9/site-packages/torch/autograd/__init__.py:106(backward)\n",
      "  200/100    0.141    0.001    0.190    0.002 {method 'run_backward' of 'torch._C._EngineBase' objects}\n",
      "  600/100    0.002    0.000    0.188    0.002 /opt/anaconda3/lib/python3.9/site-packages/torch/nn/modules/module.py:1494(_call_impl)\n",
      "      100    0.000    0.000    0.188    0.002 /opt/anaconda3/lib/python3.9/site-packages/botorch/utils/transforms.py:326(decorated)\n",
      "      100    0.001    0.000    0.188    0.002 /opt/anaconda3/lib/python3.9/site-packages/botorch/utils/transforms.py:266(decorated)\n",
      "      100    0.005    0.000    0.184    0.002 /opt/anaconda3/lib/python3.9/site-packages/botorch/acquisition/monte_carlo.py:325(forward)\n",
      "      100    0.001    0.000    0.097    0.001 /opt/anaconda3/lib/python3.9/site-packages/botorch/models/gpytorch.py:340(posterior)\n",
      "      100    0.002    0.000    0.082    0.001 /opt/anaconda3/lib/python3.9/site-packages/gpytorch/models/exact_gp.py:251(__call__)\n",
      "      100    0.002    0.000    0.060    0.001 /opt/anaconda3/lib/python3.9/site-packages/gpytorch/models/exact_prediction_strategies.py:259(exact_prediction)\n",
      "      100    0.000    0.000    0.060    0.001 /opt/anaconda3/lib/python3.9/site-packages/botorch/acquisition/acquisition.py:160(get_posterior_samples)\n",
      "      100    0.000    0.000    0.059    0.001 /opt/anaconda3/lib/python3.9/site-packages/botorch/sampling/normal.py:34(forward)\n",
      "  200/100    0.000    0.000    0.056    0.001 /opt/anaconda3/lib/python3.9/site-packages/torch/autograd/function.py:264(apply)\n",
      "  200/100    0.002    0.000    0.055    0.001 /Users/saitcakmak/linear_operator/linear_operator/functions/_matmul.py:33(backward)\n",
      "      100    0.001    0.000    0.055    0.001 /opt/anaconda3/lib/python3.9/site-packages/botorch/posteriors/gpytorch.py:105(rsample_from_base_samples)\n",
      "      100    0.007    0.000    0.053    0.001 /opt/anaconda3/lib/python3.9/site-packages/gpytorch/distributions/multivariate_normal.py:198(rsample)\n",
      "      100    0.013    0.000    0.052    0.001 /Users/saitcakmak/linear_operator/linear_operator/operators/_linear_operator.py:339(_bilinear_derivative)\n",
      "  300/200    0.000    0.000    0.045    0.000 /opt/anaconda3/lib/python3.9/site-packages/gpytorch/module.py:30(__call__)\n",
      "  700/600    0.001    0.000    0.045    0.000 /opt/anaconda3/lib/python3.9/site-packages/gpytorch/utils/memoize.py:54(g)\n",
      "  300/200    0.001    0.000    0.042    0.000 /opt/anaconda3/lib/python3.9/site-packages/gpytorch/lazy/lazy_evaluated_kernel_tensor.py:22(wrapped)\n",
      "      100    0.000    0.000    0.036    0.000 /opt/anaconda3/lib/python3.9/site-packages/gpytorch/lazy/lazy_evaluated_kernel_tensor.py:408(to_dense)\n",
      "      100    0.001    0.000    0.035    0.000 /opt/anaconda3/lib/python3.9/site-packages/gpytorch/lazy/lazy_evaluated_kernel_tensor.py:342(evaluate_kernel)\n",
      "      200    0.001    0.000    0.035    0.000 /opt/anaconda3/lib/python3.9/site-packages/gpytorch/kernels/kernel.py:453(__call__)\n",
      "      100    0.001    0.000    0.031    0.000 /opt/anaconda3/lib/python3.9/site-packages/gpytorch/kernels/scale_kernel.py:108(forward)\n",
      "  300/200    0.001    0.000    0.030    0.000 /Users/saitcakmak/linear_operator/linear_operator/operators/_linear_operator.py:1815(matmul)\n",
      "      100    0.005    0.000    0.028    0.000 /opt/anaconda3/lib/python3.9/site-packages/gpytorch/kernels/matern_kernel.py:86(forward)\n",
      "  300/200    0.001    0.000    0.026    0.000 /opt/anaconda3/lib/python3.9/site-packages/torch/autograd/function.py:501(apply)\n",
      "  300/200    0.002    0.000    0.025    0.000 {built-in method apply}\n",
      "      200    0.000    0.000    0.025    0.000 /Users/saitcakmak/linear_operator/linear_operator/operators/triangular_linear_operator.py:104(_matmul)\n",
      "\n",
      "\n",
      "CPU times: user 363 ms, sys: 171 ms, total: 534 ms\n",
      "Wall time: 387 ms\n"
     ]
    },
    {
     "data": {
      "text/plain": [
       "'1.7.3'"
      ]
     },
     "execution_count": 8,
     "metadata": {},
     "output_type": "execute_result"
    }
   ],
   "source": [
    "%%time\n",
    "with cProfile.Profile() as pr:\n",
    "    for _ in range(100):\n",
    "        test_X = torch.rand(20, 5, 2, requires_grad=True)\n",
    "        acqf(test_X).sum().backward()\n",
    "\n",
    "sortby = SortKey.CUMULATIVE\n",
    "ps = pstats.Stats(pr).sort_stats(sortby)\n",
    "ps.print_stats(.1)\n",
    "\n",
    "scipy.__version__"
   ]
  }
 ],
 "metadata": {
  "fileHeader": "",
  "kernelspec": {
   "display_name": "Python 3 (ipykernel)",
   "language": "python",
   "name": "python3"
  },
  "language_info": {
   "codemirror_mode": {
    "name": "ipython",
    "version": 3
   },
   "file_extension": ".py",
   "mimetype": "text/x-python",
   "name": "python",
   "nbconvert_exporter": "python",
   "pygments_lexer": "ipython3",
   "version": "3.9.12"
  },
  "papermill": {
   "default_parameters": {},
   "duration": 21.791583,
   "end_time": "2025-01-09T19:27:11.737613",
   "environment_variables": {},
   "exception": null,
   "input_path": "/Users/saitcakmak/botorch/tutorials/test2.ipynb",
   "output_path": "/Users/saitcakmak/botorch/tutorials/test2.ipynb",
   "parameters": {},
   "start_time": "2025-01-09T19:26:49.946030",
   "version": "2.6.0"
  }
 },
 "nbformat": 4,
 "nbformat_minor": 5
}
