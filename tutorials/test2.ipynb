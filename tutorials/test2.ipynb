{
 "cells": [
  {
   "cell_type": "code",
   "execution_count": 1,
   "metadata": {
    "executionStartTime": 1648577014352,
    "executionStopTime": 1648577015895,
    "originalKey": "8900645e-ef50-4d4d-b4ae-9b0f4152aff0",
    "requestMsgId": "8d7262fb-6bfe-454f-b465-478d269c184f"
   },
   "outputs": [
    {
     "name": "stdout",
     "output_type": "stream",
     "text": [
      "CPU times: user 1.72 s, sys: 2.18 s, total: 3.91 s\n",
      "Wall time: 3 s\n"
     ]
    },
    {
     "name": "stderr",
     "output_type": "stream",
     "text": [
      "/opt/anaconda3/lib/python3.9/site-packages/botorch/models/gpytorch.py:129: UserWarning: The model inputs are of type torch.float32. It is strongly recommended to use double precision in BoTorch, as this improves both precision and stability and can help avoid numerical errors. See https://github.com/pytorch/botorch/discussions/1444\n",
      "  warnings.warn(_get_single_precision_warning(X.dtype), UserWarning)\n"
     ]
    }
   ],
   "source": [
    "%%time\n",
    "import math\n",
    "import torch\n",
    "\n",
    "from botorch.test_functions import SixHumpCamel\n",
    "from botorch.fit import fit_gpytorch_mll\n",
    "from botorch.models import SingleTaskGP\n",
    "from botorch.utils.transforms import standardize, normalize\n",
    "from gpytorch.mlls import ExactMarginalLogLikelihood\n",
    "\n",
    "SMOKE_TEST = True\n",
    "\n",
    "torch.manual_seed(123456)\n",
    "\n",
    "bounds = torch.tensor(SixHumpCamel._bounds).T\n",
    "bounds_norm = torch.tensor([[0.0, 0.0], [1.0, 1.0]])\n",
    "train_X = bounds[0] + (bounds[1] - bounds[0]) * torch.rand(5, 2)\n",
    "train_Y = SixHumpCamel(negate=True)(train_X).unsqueeze(-1)\n",
    "\n",
    "train_X = normalize(train_X, bounds=bounds)\n",
    "train_Y = standardize(train_Y + 0.05 * torch.randn_like(train_Y))\n",
    "\n",
    "model = SingleTaskGP(train_X, train_Y)\n",
    "mll = ExactMarginalLogLikelihood(model.likelihood, model)\n",
    "fit_gpytorch_mll(mll, max_attempts=10)\n",
    "None"
   ]
  },
  {
   "cell_type": "code",
   "execution_count": 2,
   "metadata": {
    "executionStartTime": 1648577015914,
    "executionStopTime": 1648577016144,
    "originalKey": "a01d0c4a-583a-4791-9259-02609b02d6d6",
    "requestMsgId": "ad226a16-8b53-418e-bfb2-d3460b270acd"
   },
   "outputs": [
    {
     "name": "stdout",
     "output_type": "stream",
     "text": [
      "CPU times: user 4.87 ms, sys: 799 µs, total: 5.67 ms\n",
      "Wall time: 5.14 ms\n"
     ]
    }
   ],
   "source": [
    "%%time\n",
    "\n",
    "from botorch.acquisition.max_value_entropy_search import qLowerBoundMaxValueEntropy\n",
    "\n",
    "candidate_set_size = 1000 if not SMOKE_TEST else 5\n",
    "candidate_set = torch.rand(\n",
    "    candidate_set_size, bounds_norm.size(1), device=bounds.device, dtype=bounds.dtype\n",
    ")\n",
    "qGIBBON = qLowerBoundMaxValueEntropy(model, candidate_set)"
   ]
  },
  {
   "cell_type": "code",
   "execution_count": 3,
   "metadata": {
    "executionStartTime": 1648577016206,
    "executionStopTime": 1648577016782,
    "originalKey": "6b2f24f7-93cb-419b-a36a-626e48077b6c",
    "requestMsgId": "dd3c847a-3bca-439f-bc9a-2acb698068a7"
   },
   "outputs": [
    {
     "name": "stdout",
     "output_type": "stream",
     "text": [
      "CPU times: user 46.3 ms, sys: 3.34 ms, total: 49.6 ms\n",
      "Wall time: 48.3 ms\n"
     ]
    },
    {
     "data": {
      "text/plain": [
       "(tensor([[0.2250, 0.0846]]), tensor(0.1546))"
      ]
     },
     "execution_count": 3,
     "metadata": {},
     "output_type": "execute_result"
    }
   ],
   "source": [
    "%%time\n",
    "\n",
    "from botorch.optim import optimize_acqf\n",
    "\n",
    "NUM_RESTARTS = 10 if not SMOKE_TEST else 2\n",
    "RAW_SAMPLES = 512 if not SMOKE_TEST else 4\n",
    "\n",
    "# for q = 1\n",
    "candidates, acq_value = optimize_acqf(\n",
    "    acq_function=qGIBBON,\n",
    "    bounds=bounds,\n",
    "    q=1,\n",
    "    num_restarts=NUM_RESTARTS,\n",
    "    raw_samples=RAW_SAMPLES,\n",
    ")\n",
    "candidates, acq_value"
   ]
  },
  {
   "cell_type": "code",
   "execution_count": 4,
   "metadata": {
    "executionStartTime": 1648577016794,
    "executionStopTime": 1648577017848,
    "originalKey": "7ffdf144-60eb-4980-b387-5c03762a1f91",
    "requestMsgId": "270506a8-d7dc-42d6-a6f5-b54f77746900"
   },
   "outputs": [
    {
     "name": "stdout",
     "output_type": "stream",
     "text": [
      "CPU times: user 193 ms, sys: 9.71 ms, total: 203 ms\n",
      "Wall time: 201 ms\n"
     ]
    },
    {
     "data": {
      "text/plain": [
       "(tensor([[0.2250, 0.0846],\n",
       "         [1.2674, 0.4576]]),\n",
       " tensor([0.1546, 0.1350]))"
      ]
     },
     "execution_count": 4,
     "metadata": {},
     "output_type": "execute_result"
    }
   ],
   "source": [
    "%%time\n",
    "\n",
    "from botorch.optim import optimize_acqf\n",
    "\n",
    "# for q = 2, sequential optimsiation\n",
    "candidates, acq_value = optimize_acqf(\n",
    "    acq_function=qGIBBON,\n",
    "    bounds=bounds,\n",
    "    q=2,\n",
    "    num_restarts=NUM_RESTARTS,\n",
    "    raw_samples=RAW_SAMPLES,\n",
    "    sequential=True,\n",
    ")\n",
    "candidates, acq_value"
   ]
  },
  {
   "cell_type": "code",
   "execution_count": 5,
   "metadata": {
    "code_folding": [],
    "executionStartTime": 1648577017895,
    "executionStopTime": 1648577020377,
    "hidden_ranges": [],
    "originalKey": "5a4c0f2d-7bd3-4173-9e61-207b02591da7",
    "requestMsgId": "e7a1e4c6-cec0-4168-b47a-e0634a7959e8"
   },
   "outputs": [
    {
     "name": "stderr",
     "output_type": "stream",
     "text": [
      "/opt/anaconda3/lib/python3.9/site-packages/torch/functional.py:504: UserWarning: torch.meshgrid: in an upcoming release, it will be required to pass the indexing argument. (Triggered internally at /Users/runner/work/pytorch/pytorch/pytorch/aten/src/ATen/native/TensorShape.cpp:3484.)\n",
      "  return _VF.meshgrid(tensors, **kwargs)  # type: ignore[attr-defined]\n"
     ]
    },
    {
     "name": "stdout",
     "output_type": "stream",
     "text": [
      "CPU times: user 615 ms, sys: 86.8 ms, total: 702 ms\n",
      "Wall time: 844 ms\n"
     ]
    }
   ],
   "source": [
    "%%time\n",
    "\n",
    "from botorch.acquisition import (\n",
    "    ExpectedImprovement,\n",
    "    ProbabilityOfImprovement,\n",
    "    qMaxValueEntropy,\n",
    ")\n",
    "import matplotlib.pyplot as plt\n",
    "\n",
    "%matplotlib inline\n",
    "\n",
    "# prep different acqusition functions\n",
    "acqs = {}\n",
    "candidate_set = torch.rand(\n",
    "    10000, bounds.size(1), device=bounds.device, dtype=bounds.dtype\n",
    ")\n",
    "acqs[\"GIBBON\"] = qLowerBoundMaxValueEntropy(model, candidate_set)\n",
    "acqs[\"MES\"] = qMaxValueEntropy(model, candidate_set)\n",
    "acqs[\"EI\"] = ExpectedImprovement(model, best_f=train_Y.max())\n",
    "acqs[\"PI\"] = ProbabilityOfImprovement(model, best_f=train_Y.max())\n",
    "\n",
    "# prep grid to evaluate acq functions\n",
    "n = 100 if not SMOKE_TEST else 2\n",
    "xv, yv = torch.meshgrid([torch.linspace(0, 1, n), torch.linspace(0, 1, n)])\n",
    "test_x = torch.stack([xv.reshape(n * n, 1), yv.reshape(n * n, 1)], -1)\n",
    "\n",
    "# eval and maximise acq functions\n",
    "evals = {}\n",
    "candidates = {}\n",
    "for acq in acqs.keys():\n",
    "    evals[acq] = acqs[acq](test_x).detach().reshape(n, n)\n",
    "    candidates[acq], _ = optimize_acqf(\n",
    "        acq_function=acqs[acq], bounds=bounds_norm, q=1, num_restarts=5, raw_samples=100\n",
    "    )\n",
    "\n",
    "None"
   ]
  },
  {
   "cell_type": "code",
   "execution_count": 6,
   "metadata": {
    "executionStartTime": 1648577020385,
    "executionStopTime": 1648577031509,
    "originalKey": "31ac3a12-eb78-4226-9170-31a22816f6c5",
    "requestMsgId": "a7e5671c-1735-46dc-b2f0-6f8b85a997e6"
   },
   "outputs": [
    {
     "name": "stderr",
     "output_type": "stream",
     "text": [
      "/opt/anaconda3/lib/python3.9/site-packages/botorch/models/gpytorch.py:106: BotorchTensorDimensionWarning: Non-strict enforcement of botorch tensor conventions. The following error would have been raised with strict enforcement: Expected X and Y to have the same number of dimensions (got X with dimension 2 and Y with dimension 3).\n",
      "  warnings.warn(\n",
      "/opt/anaconda3/lib/python3.9/site-packages/botorch/models/gpytorch.py:129: UserWarning: The model inputs are of type torch.float32. It is strongly recommended to use double precision in BoTorch, as this improves both precision and stability and can help avoid numerical errors. See https://github.com/pytorch/botorch/discussions/1444\n",
      "  warnings.warn(_get_single_precision_warning(X.dtype), UserWarning)\n",
      "/opt/anaconda3/lib/python3.9/site-packages/botorch/models/gpytorch.py:106: BotorchTensorDimensionWarning: Non-strict enforcement of botorch tensor conventions. The following error would have been raised with strict enforcement: Expected X and Y to have the same number of dimensions (got X with dimension 2 and Y with dimension 3).\n",
      "  warnings.warn(\n",
      "/opt/anaconda3/lib/python3.9/site-packages/botorch/models/gpytorch.py:129: UserWarning: The model inputs are of type torch.float32. It is strongly recommended to use double precision in BoTorch, as this improves both precision and stability and can help avoid numerical errors. See https://github.com/pytorch/botorch/discussions/1444\n",
      "  warnings.warn(_get_single_precision_warning(X.dtype), UserWarning)\n",
      "/opt/anaconda3/lib/python3.9/site-packages/botorch/models/gpytorch.py:106: BotorchTensorDimensionWarning: Non-strict enforcement of botorch tensor conventions. The following error would have been raised with strict enforcement: Expected X and Y to have the same number of dimensions (got X with dimension 2 and Y with dimension 3).\n",
      "  warnings.warn(\n",
      "/opt/anaconda3/lib/python3.9/site-packages/botorch/models/gpytorch.py:129: UserWarning: The model inputs are of type torch.float32. It is strongly recommended to use double precision in BoTorch, as this improves both precision and stability and can help avoid numerical errors. See https://github.com/pytorch/botorch/discussions/1444\n",
      "  warnings.warn(_get_single_precision_warning(X.dtype), UserWarning)\n"
     ]
    },
    {
     "name": "stdout",
     "output_type": "stream",
     "text": [
      "CPU times: user 3.14 s, sys: 725 ms, total: 3.87 s\n",
      "Wall time: 3.18 s\n"
     ]
    }
   ],
   "source": [
    "%%time\n",
    "\n",
    "from botorch.acquisition import qNoisyExpectedImprovement, qProbabilityOfImprovement\n",
    "from time import time\n",
    "\n",
    "# prep different acqusition functions\n",
    "acqs = {}\n",
    "candidate_set = torch.rand(\n",
    "    10000, bounds.size(1), device=bounds.device, dtype=bounds.dtype\n",
    ")\n",
    "acqs[\"GIBBON\"] = qLowerBoundMaxValueEntropy(model, candidate_set)\n",
    "acqs[\"MES\"] = qMaxValueEntropy(model, candidate_set)\n",
    "acqs[\"EI\"] = qNoisyExpectedImprovement(model, train_X)\n",
    "acqs[\"PI\"] = qProbabilityOfImprovement(model, best_f=train_Y.max())\n",
    "\n",
    "# prep grid to evaluate acq functions\n",
    "n = 100 if not SMOKE_TEST else 2\n",
    "xv, yv = torch.meshgrid([torch.linspace(0, 1, n), torch.linspace(0, 1, n)])\n",
    "test_x = torch.stack([xv.reshape(n * n, 1), yv.reshape(n * n, 1)], -1)\n",
    "\n",
    "# eval and maximise acq functions\n",
    "evals = {}\n",
    "candidates = {}\n",
    "times = {}\n",
    "for acq in acqs.keys():\n",
    "    evals[acq] = acqs[acq](test_x).detach().reshape(n, n)\n",
    "    t_0 = time()\n",
    "    candidates[acq], _ = optimize_acqf(\n",
    "        acq_function=acqs[acq],\n",
    "        bounds=bounds_norm,\n",
    "        q=3,\n",
    "        num_restarts=5,\n",
    "        raw_samples=100,\n",
    "        sequential=True,\n",
    "    )\n",
    "    times[acq] = time() - t_0\n",
    "\n",
    "\n",
    "None"
   ]
  },
  {
   "cell_type": "code",
   "execution_count": null,
   "metadata": {},
   "outputs": [],
   "source": []
  }
 ],
 "metadata": {
  "fileHeader": "",
  "kernelspec": {
   "display_name": "Python 3 (ipykernel)",
   "language": "python",
   "name": "python3"
  },
  "language_info": {
   "codemirror_mode": {
    "name": "ipython",
    "version": 3
   },
   "file_extension": ".py",
   "mimetype": "text/x-python",
   "name": "python",
   "nbconvert_exporter": "python",
   "pygments_lexer": "ipython3",
   "version": "3.9.12"
  }
 },
 "nbformat": 4,
 "nbformat_minor": 2
}
