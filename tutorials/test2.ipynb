{
 "cells": [
  {
   "cell_type": "code",
   "execution_count": 8,
   "id": "babee257",
   "metadata": {
    "execution": {
     "iopub.execute_input": "2025-01-09T19:26:53.758367Z",
     "iopub.status.busy": "2025-01-09T19:26:53.758172Z",
     "iopub.status.idle": "2025-01-09T19:27:10.517246Z",
     "shell.execute_reply": "2025-01-09T19:27:10.516839Z"
    },
    "executionStartTime": 1648577014352,
    "executionStopTime": 1648577015895,
    "originalKey": "8900645e-ef50-4d4d-b4ae-9b0f4152aff0",
    "papermill": {
     "duration": 16.766519,
     "end_time": "2025-01-09T19:27:10.518597",
     "exception": false,
     "start_time": "2025-01-09T19:26:53.752078",
     "status": "completed"
    },
    "requestMsgId": "8d7262fb-6bfe-454f-b465-478d269c184f",
    "tags": []
   },
   "outputs": [
    {
     "name": "stdout",
     "output_type": "stream",
     "text": [
      "CPU times: user 340 ms, sys: 67.2 ms, total: 407 ms\n",
      "Wall time: 99.2 ms\n"
     ]
    },
    {
     "data": {
      "text/plain": [
       "'1.15.0'"
      ]
     },
     "execution_count": 8,
     "metadata": {},
     "output_type": "execute_result"
    }
   ],
   "source": [
    "%%time\n",
    "import math\n",
    "import torch\n",
    "import numpy as np\n",
    "\n",
    "from botorch.test_functions import SixHumpCamel\n",
    "from botorch.fit import fit_gpytorch_mll\n",
    "from botorch.models import SingleTaskGP\n",
    "from botorch.utils.transforms import standardize, normalize\n",
    "from gpytorch.mlls import ExactMarginalLogLikelihood\n",
    "from botorch.acquisition import (\n",
    "    ExpectedImprovement,\n",
    "    ProbabilityOfImprovement,\n",
    "    qMaxValueEntropy,\n",
    ")\n",
    "from botorch.acquisition.max_value_entropy_search import qLowerBoundMaxValueEntropy\n",
    "import matplotlib.pyplot as plt\n",
    "from botorch.optim import optimize_acqf\n",
    "from botorch.acquisition import qNoisyExpectedImprovement, qProbabilityOfImprovement\n",
    "from time import time\n",
    "import cProfile, io, pstats\n",
    "from pstats import SortKey\n",
    "import scipy\n",
    "from scipy.optimize import minimize, Bounds\n",
    "\n",
    "SMOKE_TEST = True\n",
    "\n",
    "torch.manual_seed(123456)\n",
    "torch.set_default_dtype(torch.double)\n",
    "\n",
    "bounds = torch.tensor(SixHumpCamel._bounds).T\n",
    "bounds_norm = torch.tensor([[0.0, 0.0], [1.0, 1.0]])\n",
    "train_X = bounds[0] + (bounds[1] - bounds[0]) * torch.rand(5, 2)\n",
    "train_Y = SixHumpCamel(negate=True)(train_X).unsqueeze(-1)\n",
    "\n",
    "train_X = normalize(train_X, bounds=bounds)\n",
    "train_Y = standardize(train_Y + 0.05 * torch.randn_like(train_Y))\n",
    "\n",
    "model = SingleTaskGP(train_X, train_Y)\n",
    "mll = ExactMarginalLogLikelihood(model.likelihood, model)\n",
    "fit_gpytorch_mll(mll, max_attempts=1)\n",
    "scipy.__version__"
   ]
  },
  {
   "cell_type": "code",
   "execution_count": 9,
   "id": "8dcbbd87",
   "metadata": {},
   "outputs": [
    {
     "name": "stdout",
     "output_type": "stream",
     "text": [
      "\n",
      "\n",
      "\n",
      "\n",
      "\n",
      "\n",
      " optimize_acqf \n",
      "\n",
      "\n"
     ]
    },
    {
     "name": "stderr",
     "output_type": "stream",
     "text": [
      "/Users/saitcakmak/botorch/botorch/acquisition/monte_carlo.py:496: NumericsWarning: qNoisyExpectedImprovement has known numerical issues that lead to suboptimal optimization performance. It is strongly recommended to simply replace\n",
      "\n",
      "\t qNoisyExpectedImprovement \t --> \t qLogNoisyExpectedImprovement \n",
      "\n",
      "instead, which fixes the issues and has the same API. See https://arxiv.org/abs/2310.20708 for details.\n",
      "  legacy_ei_numerics_warning(legacy_name=type(self).__name__)\n"
     ]
    },
    {
     "name": "stdout",
     "output_type": "stream",
     "text": [
      "         630577 function calls (601743 primitive calls) in 1.008 seconds\n",
      "\n",
      "   Ordered by: cumulative time\n",
      "   List reduced from 550 to 55 due to restriction <0.1>\n",
      "\n",
      "   ncalls  tottime  percall  cumtime  percall filename:lineno(function)\n",
      "        1    0.000    0.000    1.008    1.008 /Users/saitcakmak/botorch/botorch/optim/optimize.py:479(optimize_acqf)\n",
      "        1    0.000    0.000    1.008    1.008 /Users/saitcakmak/botorch/botorch/optim/optimize.py:630(_optimize_acqf)\n",
      "        1    0.000    0.000    1.008    1.008 /Users/saitcakmak/botorch/botorch/optim/optimize.py:310(_optimize_acqf_batch)\n",
      "        1    0.000    0.000    0.998    0.998 /Users/saitcakmak/botorch/botorch/optim/optimize.py:353(_optimize_batch_candidates)\n",
      "        1    0.000    0.000    0.998    0.998 /Users/saitcakmak/botorch/botorch/generation/gen.py:44(gen_candidates_scipy)\n",
      "        1    0.000    0.000    0.990    0.990 /Users/saitcakmak/botorch/botorch/optim/utils/timeout.py:19(minimize_with_timeout)\n",
      "        1    0.000    0.000    0.990    0.990 /opt/anaconda3/envs/botorch/lib/python3.10/site-packages/scipy/optimize/_minimize.py:53(minimize)\n",
      "        1    0.001    0.001    0.990    0.990 /opt/anaconda3/envs/botorch/lib/python3.10/site-packages/scipy/optimize/_lbfgsb_py.py:290(_minimize_lbfgsb)\n",
      "      430    0.002    0.000    0.979    0.002 /opt/anaconda3/envs/botorch/lib/python3.10/site-packages/scipy/optimize/_optimize.py:71(_compute_if_needed)\n",
      "      216    0.000    0.000    0.979    0.005 /opt/anaconda3/envs/botorch/lib/python3.10/site-packages/scipy/optimize/_differentiable_functions.py:293(_update_fun)\n",
      "      215    0.000    0.000    0.979    0.005 /opt/anaconda3/envs/botorch/lib/python3.10/site-packages/scipy/optimize/_differentiable_functions.py:16(wrapped)\n",
      "      215    0.000    0.000    0.978    0.005 /opt/anaconda3/envs/botorch/lib/python3.10/site-packages/scipy/optimize/_optimize.py:78(__call__)\n",
      "      215    0.003    0.000    0.976    0.005 /Users/saitcakmak/botorch/botorch/generation/gen.py:182(f_np_wrapper)\n",
      "      215    0.000    0.000    0.962    0.004 /opt/anaconda3/envs/botorch/lib/python3.10/site-packages/scipy/optimize/_differentiable_functions.py:341(fun_and_grad)\n",
      "  651/217    0.001    0.000    0.626    0.003 /opt/anaconda3/envs/botorch/lib/python3.10/site-packages/torch/nn/modules/module.py:1732(_wrapped_call_impl)\n",
      "  651/217    0.001    0.000    0.626    0.003 /opt/anaconda3/envs/botorch/lib/python3.10/site-packages/torch/nn/modules/module.py:1740(_call_impl)\n",
      "      217    0.000    0.000    0.625    0.003 /Users/saitcakmak/botorch/botorch/utils/transforms.py:340(decorated)\n",
      "      217    0.001    0.000    0.625    0.003 /Users/saitcakmak/botorch/botorch/utils/transforms.py:278(decorated)\n",
      "      217    0.005    0.000    0.622    0.003 /Users/saitcakmak/botorch/botorch/acquisition/monte_carlo.py:254(forward)\n",
      "      217    0.001    0.000    0.617    0.003 /Users/saitcakmak/botorch/botorch/acquisition/monte_carlo.py:277(_non_reduced_forward)\n",
      "      215    0.001    0.000    0.611    0.003 /Users/saitcakmak/botorch/botorch/generation/gen.py:237(f)\n",
      "      217    0.005    0.000    0.601    0.003 /Users/saitcakmak/botorch/botorch/acquisition/monte_carlo.py:592(_get_samples_and_objectives)\n",
      "      217    0.000    0.000    0.417    0.002 /Users/saitcakmak/botorch/botorch/acquisition/acquisition.py:128(get_posterior_samples)\n",
      "      217    0.001    0.000    0.416    0.002 /Users/saitcakmak/botorch/botorch/sampling/normal.py:34(forward)\n",
      "      217    0.001    0.000    0.404    0.002 /Users/saitcakmak/botorch/botorch/posteriors/gpytorch.py:86(rsample_from_base_samples)\n",
      "      217    0.005    0.000    0.401    0.002 /opt/anaconda3/envs/botorch/lib/python3.10/site-packages/gpytorch/distributions/multivariate_normal.py:198(rsample)\n",
      "  868/217    0.002    0.000    0.366    0.002 /opt/anaconda3/envs/botorch/lib/python3.10/site-packages/linear_operator/utils/memoize.py:54(g)\n",
      "      217    0.001    0.000    0.365    0.002 /opt/anaconda3/envs/botorch/lib/python3.10/site-packages/linear_operator/operators/_linear_operator.py:2128(root_decomposition)\n",
      "  430/215    0.003    0.000    0.356    0.002 /opt/anaconda3/envs/botorch/lib/python3.10/site-packages/torch/autograd/__init__.py:358(grad)\n",
      "      217    0.000    0.000    0.353    0.002 /opt/anaconda3/envs/botorch/lib/python3.10/site-packages/linear_operator/operators/_linear_operator.py:1301(cholesky)\n",
      "  430/215    0.001    0.000    0.351    0.002 /opt/anaconda3/envs/botorch/lib/python3.10/site-packages/torch/autograd/graph.py:816(_engine_run_backward)\n",
      "      217    0.001    0.000    0.351    0.002 /opt/anaconda3/envs/botorch/lib/python3.10/site-packages/linear_operator/operators/_linear_operator.py:500(_cholesky)\n",
      "  430/215    0.308    0.001    0.350    0.002 {method 'run_backward' of 'torch._C._EngineBase' objects}\n",
      "      217    0.000    0.000    0.325    0.001 /opt/anaconda3/envs/botorch/lib/python3.10/site-packages/linear_operator/utils/cholesky.py:50(psd_safe_cholesky)\n",
      "      217    0.001    0.000    0.325    0.001 /opt/anaconda3/envs/botorch/lib/python3.10/site-packages/linear_operator/utils/cholesky.py:12(_psd_safe_cholesky)\n",
      "      218    0.322    0.001    0.322    0.001 {built-in method torch._C._linalg.linalg_cholesky_ex}\n",
      "      217    0.002    0.000    0.151    0.001 /Users/saitcakmak/botorch/botorch/models/gpytorch.py:407(posterior)\n",
      "      217    0.004    0.000    0.102    0.000 /opt/anaconda3/envs/botorch/lib/python3.10/site-packages/gpytorch/models/exact_gp.py:252(__call__)\n",
      "      217    0.003    0.000    0.069    0.000 /opt/anaconda3/envs/botorch/lib/python3.10/site-packages/gpytorch/models/exact_prediction_strategies.py:308(exact_prediction)\n",
      "1519/1302    0.002    0.000    0.054    0.000 /opt/anaconda3/envs/botorch/lib/python3.10/site-packages/gpytorch/utils/memoize.py:54(g)\n",
      "  651/434    0.001    0.000    0.052    0.000 /opt/anaconda3/envs/botorch/lib/python3.10/site-packages/gpytorch/lazy/lazy_evaluated_kernel_tensor.py:22(wrapped)\n",
      "  430/215    0.001    0.000    0.047    0.000 /opt/anaconda3/envs/botorch/lib/python3.10/site-packages/torch/autograd/function.py:292(apply)\n",
      "  430/215    0.003    0.000    0.047    0.000 /opt/anaconda3/envs/botorch/lib/python3.10/site-packages/linear_operator/functions/_matmul.py:33(backward)\n",
      "     3041    0.006    0.000    0.047    0.000 /opt/anaconda3/envs/botorch/lib/python3.10/site-packages/torch/nn/modules/module.py:1935(__setattr__)\n",
      "  866/649    0.002    0.000    0.045    0.000 /opt/anaconda3/envs/botorch/lib/python3.10/site-packages/linear_operator/operators/_linear_operator.py:1817(matmul)\n",
      "      217    0.000    0.000    0.044    0.000 /opt/anaconda3/envs/botorch/lib/python3.10/site-packages/gpytorch/lazy/lazy_evaluated_kernel_tensor.py:408(to_dense)\n",
      "      217    0.001    0.000    0.042    0.000 /opt/anaconda3/envs/botorch/lib/python3.10/site-packages/gpytorch/lazy/lazy_evaluated_kernel_tensor.py:342(evaluate_kernel)\n",
      "      215    0.007    0.000    0.042    0.000 /opt/anaconda3/envs/botorch/lib/python3.10/site-packages/linear_operator/operators/_linear_operator.py:339(_bilinear_derivative)\n",
      "  651/434    0.001    0.000    0.039    0.000 /opt/anaconda3/envs/botorch/lib/python3.10/site-packages/gpytorch/module.py:30(__call__)\n",
      "9307/4545    0.007    0.000    0.037    0.000 /opt/anaconda3/envs/botorch/lib/python3.10/site-packages/gpytorch/lazy/lazy_tensor.py:32(__init__)\n",
      "     4338    0.018    0.000    0.029    0.000 /opt/anaconda3/envs/botorch/lib/python3.10/site-packages/torch/functional.py:79(broadcast_shapes)\n",
      "  649/432    0.001    0.000    0.027    0.000 /opt/anaconda3/envs/botorch/lib/python3.10/site-packages/torch/autograd/function.py:559(apply)\n",
      "      868    0.000    0.000    0.026    0.000 /opt/anaconda3/envs/botorch/lib/python3.10/inspect.py:3252(signature)\n",
      "      434    0.001    0.000    0.026    0.000 /opt/anaconda3/envs/botorch/lib/python3.10/site-packages/gpytorch/kernels/kernel.py:459(__call__)\n",
      "      868    0.001    0.000    0.026    0.000 /opt/anaconda3/envs/botorch/lib/python3.10/inspect.py:2998(from_callable)\n",
      "\n",
      "\n",
      "CPU times: user 5.52 s, sys: 756 ms, total: 6.28 s\n",
      "Wall time: 1.02 s\n"
     ]
    },
    {
     "data": {
      "text/plain": [
       "'1.15.0'"
      ]
     },
     "execution_count": 9,
     "metadata": {},
     "output_type": "execute_result"
    }
   ],
   "source": [
    "%%time\n",
    "print(\"\\n\\n\\n\\n\\n\\n optimize_acqf \\n\\n\")\n",
    "\n",
    "acqf = qNoisyExpectedImprovement(model, train_X, cache_root=False)\n",
    "\n",
    "# eval and maximise acq functions\n",
    "with cProfile.Profile() as pr:\n",
    "    optimize_acqf(\n",
    "        acq_function=acqf,\n",
    "        bounds=bounds_norm,\n",
    "        q=5,\n",
    "        num_restarts=5,\n",
    "        raw_samples=5,\n",
    "        sequential=False,\n",
    "    )\n",
    "\n",
    "sortby = SortKey.CUMULATIVE\n",
    "ps = pstats.Stats(pr).sort_stats(sortby)\n",
    "ps.print_stats(.1)\n",
    "\n",
    "scipy.__version__"
   ]
  },
  {
   "cell_type": "code",
   "execution_count": 10,
   "id": "9004d987",
   "metadata": {},
   "outputs": [
    {
     "name": "stdout",
     "output_type": "stream",
     "text": [
      "\n",
      "\n",
      "\n",
      "\n",
      "\n",
      "\n",
      " calling minimize directly \n",
      "\n",
      "\n",
      "         508933 function calls (485525 primitive calls) in 0.825 seconds\n",
      "\n",
      "   Ordered by: cumulative time\n",
      "   List reduced from 492 to 49 due to restriction <0.1>\n",
      "\n",
      "   ncalls  tottime  percall  cumtime  percall filename:lineno(function)\n",
      "        1    0.000    0.000    0.825    0.825 /opt/anaconda3/envs/botorch/lib/python3.10/site-packages/scipy/optimize/_minimize.py:53(minimize)\n",
      "        1    0.001    0.001    0.825    0.825 /opt/anaconda3/envs/botorch/lib/python3.10/site-packages/scipy/optimize/_lbfgsb_py.py:290(_minimize_lbfgsb)\n",
      "      352    0.002    0.000    0.817    0.002 /opt/anaconda3/envs/botorch/lib/python3.10/site-packages/scipy/optimize/_optimize.py:71(_compute_if_needed)\n",
      "      181    0.000    0.000    0.816    0.005 /opt/anaconda3/envs/botorch/lib/python3.10/site-packages/scipy/optimize/_differentiable_functions.py:293(_update_fun)\n",
      "      176    0.000    0.000    0.816    0.005 /opt/anaconda3/envs/botorch/lib/python3.10/site-packages/scipy/optimize/_differentiable_functions.py:16(wrapped)\n",
      "      176    0.000    0.000    0.815    0.005 /opt/anaconda3/envs/botorch/lib/python3.10/site-packages/scipy/optimize/_optimize.py:78(__call__)\n",
      "      176    0.001    0.000    0.814    0.005 <timed exec>:4(f_and_grad)\n",
      "      180    0.000    0.000    0.813    0.005 /opt/anaconda3/envs/botorch/lib/python3.10/site-packages/scipy/optimize/_differentiable_functions.py:341(fun_and_grad)\n",
      "  528/176    0.001    0.000    0.502    0.003 /opt/anaconda3/envs/botorch/lib/python3.10/site-packages/torch/nn/modules/module.py:1732(_wrapped_call_impl)\n",
      "  528/176    0.001    0.000    0.502    0.003 /opt/anaconda3/envs/botorch/lib/python3.10/site-packages/torch/nn/modules/module.py:1740(_call_impl)\n",
      "      176    0.000    0.000    0.501    0.003 /Users/saitcakmak/botorch/botorch/utils/transforms.py:340(decorated)\n",
      "      176    0.001    0.000    0.501    0.003 /Users/saitcakmak/botorch/botorch/utils/transforms.py:278(decorated)\n",
      "      176    0.004    0.000    0.499    0.003 /Users/saitcakmak/botorch/botorch/acquisition/monte_carlo.py:254(forward)\n",
      "      176    0.001    0.000    0.495    0.003 /Users/saitcakmak/botorch/botorch/acquisition/monte_carlo.py:277(_non_reduced_forward)\n",
      "      176    0.004    0.000    0.482    0.003 /Users/saitcakmak/botorch/botorch/acquisition/monte_carlo.py:592(_get_samples_and_objectives)\n",
      "      176    0.000    0.000    0.336    0.002 /Users/saitcakmak/botorch/botorch/acquisition/acquisition.py:128(get_posterior_samples)\n",
      "      176    0.000    0.000    0.335    0.002 /Users/saitcakmak/botorch/botorch/sampling/normal.py:34(forward)\n",
      "      176    0.001    0.000    0.330    0.002 /Users/saitcakmak/botorch/botorch/posteriors/gpytorch.py:86(rsample_from_base_samples)\n",
      "      176    0.004    0.000    0.328    0.002 /opt/anaconda3/envs/botorch/lib/python3.10/site-packages/gpytorch/distributions/multivariate_normal.py:198(rsample)\n",
      "  352/176    0.002    0.000    0.307    0.002 /opt/anaconda3/envs/botorch/lib/python3.10/site-packages/torch/autograd/__init__.py:358(grad)\n",
      "  352/176    0.001    0.000    0.304    0.002 /opt/anaconda3/envs/botorch/lib/python3.10/site-packages/torch/autograd/graph.py:816(_engine_run_backward)\n",
      "  352/176    0.269    0.001    0.303    0.002 {method 'run_backward' of 'torch._C._EngineBase' objects}\n",
      "  704/176    0.001    0.000    0.301    0.002 /opt/anaconda3/envs/botorch/lib/python3.10/site-packages/linear_operator/utils/memoize.py:54(g)\n",
      "      176    0.001    0.000    0.300    0.002 /opt/anaconda3/envs/botorch/lib/python3.10/site-packages/linear_operator/operators/_linear_operator.py:2128(root_decomposition)\n",
      "      176    0.000    0.000    0.290    0.002 /opt/anaconda3/envs/botorch/lib/python3.10/site-packages/linear_operator/operators/_linear_operator.py:1301(cholesky)\n",
      "      176    0.001    0.000    0.288    0.002 /opt/anaconda3/envs/botorch/lib/python3.10/site-packages/linear_operator/operators/_linear_operator.py:500(_cholesky)\n",
      "      176    0.000    0.000    0.268    0.002 /opt/anaconda3/envs/botorch/lib/python3.10/site-packages/linear_operator/utils/cholesky.py:50(psd_safe_cholesky)\n",
      "      176    0.001    0.000    0.268    0.002 /opt/anaconda3/envs/botorch/lib/python3.10/site-packages/linear_operator/utils/cholesky.py:12(_psd_safe_cholesky)\n",
      "      178    0.249    0.001    0.249    0.001 {built-in method torch._C._linalg.linalg_cholesky_ex}\n",
      "      176    0.002    0.000    0.120    0.001 /Users/saitcakmak/botorch/botorch/models/gpytorch.py:407(posterior)\n",
      "      176    0.003    0.000    0.080    0.000 /opt/anaconda3/envs/botorch/lib/python3.10/site-packages/gpytorch/models/exact_gp.py:252(__call__)\n",
      "      176    0.002    0.000    0.055    0.000 /opt/anaconda3/envs/botorch/lib/python3.10/site-packages/gpytorch/models/exact_prediction_strategies.py:308(exact_prediction)\n",
      "1232/1056    0.001    0.000    0.043    0.000 /opt/anaconda3/envs/botorch/lib/python3.10/site-packages/gpytorch/utils/memoize.py:54(g)\n",
      "  528/352    0.001    0.000    0.042    0.000 /opt/anaconda3/envs/botorch/lib/python3.10/site-packages/gpytorch/lazy/lazy_evaluated_kernel_tensor.py:22(wrapped)\n",
      "  352/176    0.001    0.000    0.038    0.000 /opt/anaconda3/envs/botorch/lib/python3.10/site-packages/torch/autograd/function.py:292(apply)\n",
      "  352/176    0.002    0.000    0.038    0.000 /opt/anaconda3/envs/botorch/lib/python3.10/site-packages/linear_operator/functions/_matmul.py:33(backward)\n",
      "     2464    0.005    0.000    0.037    0.000 /opt/anaconda3/envs/botorch/lib/python3.10/site-packages/torch/nn/modules/module.py:1935(__setattr__)\n",
      "  704/528    0.002    0.000    0.035    0.000 /opt/anaconda3/envs/botorch/lib/python3.10/site-packages/linear_operator/operators/_linear_operator.py:1817(matmul)\n",
      "      176    0.000    0.000    0.035    0.000 /opt/anaconda3/envs/botorch/lib/python3.10/site-packages/gpytorch/lazy/lazy_evaluated_kernel_tensor.py:408(to_dense)\n",
      "      176    0.006    0.000    0.034    0.000 /opt/anaconda3/envs/botorch/lib/python3.10/site-packages/linear_operator/operators/_linear_operator.py:339(_bilinear_derivative)\n",
      "      176    0.001    0.000    0.033    0.000 /opt/anaconda3/envs/botorch/lib/python3.10/site-packages/gpytorch/lazy/lazy_evaluated_kernel_tensor.py:342(evaluate_kernel)\n",
      "  528/352    0.001    0.000    0.031    0.000 /opt/anaconda3/envs/botorch/lib/python3.10/site-packages/gpytorch/module.py:30(__call__)\n",
      "7568/3696    0.005    0.000    0.029    0.000 /opt/anaconda3/envs/botorch/lib/python3.10/site-packages/gpytorch/lazy/lazy_tensor.py:32(__init__)\n",
      "     3520    0.014    0.000    0.023    0.000 /opt/anaconda3/envs/botorch/lib/python3.10/site-packages/torch/functional.py:79(broadcast_shapes)\n",
      "  528/352    0.001    0.000    0.021    0.000 /opt/anaconda3/envs/botorch/lib/python3.10/site-packages/torch/autograd/function.py:559(apply)\n",
      "      704    0.000    0.000    0.021    0.000 /opt/anaconda3/envs/botorch/lib/python3.10/inspect.py:3252(signature)\n",
      "      352    0.001    0.000    0.021    0.000 /opt/anaconda3/envs/botorch/lib/python3.10/site-packages/gpytorch/kernels/kernel.py:459(__call__)\n",
      "      704    0.000    0.000    0.021    0.000 /opt/anaconda3/envs/botorch/lib/python3.10/inspect.py:2998(from_callable)\n",
      " 1408/704    0.003    0.000    0.020    0.000 /opt/anaconda3/envs/botorch/lib/python3.10/inspect.py:2375(_signature_from_callable)\n",
      "\n",
      "\n",
      "CPU times: user 4.21 s, sys: 694 ms, total: 4.9 s\n",
      "Wall time: 828 ms\n"
     ]
    },
    {
     "name": "stderr",
     "output_type": "stream",
     "text": [
      "/opt/anaconda3/envs/botorch/lib/python3.10/site-packages/linear_operator/utils/cholesky.py:40: NumericalWarning: A not p.d., added jitter of 1.0e-08 to the diagonal\n",
      "  warnings.warn(\n"
     ]
    },
    {
     "data": {
      "text/plain": [
       "'1.15.0'"
      ]
     },
     "execution_count": 10,
     "metadata": {},
     "output_type": "execute_result"
    }
   ],
   "source": [
    "%%time\n",
    "print(\"\\n\\n\\n\\n\\n\\n calling minimize directly \\n\\n\")\n",
    "\n",
    "\n",
    "def f_and_grad(x):\n",
    "    X_tensor = torch.from_numpy(x.reshape((5, 5, 2))).contiguous().requires_grad_(True)\n",
    "    loss = acqf(X_tensor).sum()\n",
    "    grad = torch.autograd.grad(loss, X_tensor)[0].reshape(-1).numpy(force=True)\n",
    "    return loss.item(), grad\n",
    "\n",
    "bounds = Bounds(\n",
    "    lb=np.zeros(50),\n",
    "    ub=np.ones(50),\n",
    "    keep_feasible=True,\n",
    ")\n",
    "x0 = np.random.random(50)\n",
    "\n",
    "with cProfile.Profile() as pr:\n",
    "    res = minimize(\n",
    "        fun=f_and_grad,\n",
    "        x0=x0,\n",
    "        method=\"L-BFGS-B\",\n",
    "        jac=True,\n",
    "        bounds=bounds,\n",
    "    )\n",
    "\n",
    "sortby = SortKey.CUMULATIVE\n",
    "ps = pstats.Stats(pr).sort_stats(sortby)\n",
    "ps.print_stats(.1)\n",
    "\n",
    "scipy.__version__"
   ]
  },
  {
   "cell_type": "code",
   "execution_count": 11,
   "id": "fb5c4839",
   "metadata": {
    "execution": {
     "iopub.execute_input": "2025-01-09T19:27:10.820010Z",
     "iopub.status.busy": "2025-01-09T19:27:10.819839Z",
     "iopub.status.idle": "2025-01-09T19:27:11.109268Z",
     "shell.execute_reply": "2025-01-09T19:27:11.108756Z"
    },
    "papermill": {
     "duration": 0.296138,
     "end_time": "2025-01-09T19:27:11.110450",
     "exception": false,
     "start_time": "2025-01-09T19:27:10.814312",
     "status": "completed"
    },
    "tags": []
   },
   "outputs": [
    {
     "name": "stdout",
     "output_type": "stream",
     "text": [
      "\n",
      "\n",
      "\n",
      "\n",
      "\n",
      "\n",
      " 100 acqf evaluations \n",
      "\n",
      "\n",
      "CPU times: user 32.4 ms, sys: 8.85 ms, total: 41.2 ms\n",
      "Wall time: 69.5 ms\n"
     ]
    },
    {
     "data": {
      "text/plain": [
       "'1.15.0'"
      ]
     },
     "execution_count": 11,
     "metadata": {},
     "output_type": "execute_result"
    }
   ],
   "source": [
    "%%time\n",
    "print(\"\\n\\n\\n\\n\\n\\n 100 acqf evaluations \\n\\n\")\n",
    "\n",
    "with cProfile.Profile() as pr:\n",
    "    for _ in range(1):\n",
    "        test_X = torch.rand(20, 5, 2, requires_grad=True)\n",
    "        acqf(test_X).sum().backward()\n",
    "\n",
    "# sortby = SortKey.CUMULATIVE\n",
    "# ps = pstats.Stats(pr).sort_stats(sortby)\n",
    "# ps.print_stats(.1)\n",
    "\n",
    "scipy.__version__"
   ]
  }
 ],
 "metadata": {
  "fileHeader": "",
  "kernelspec": {
   "display_name": "Python 3 (ipykernel)",
   "language": "python",
   "name": "python3"
  },
  "language_info": {
   "codemirror_mode": {
    "name": "ipython",
    "version": 3
   },
   "file_extension": ".py",
   "mimetype": "text/x-python",
   "name": "python",
   "nbconvert_exporter": "python",
   "pygments_lexer": "ipython3",
   "version": "3.10.14"
  },
  "papermill": {
   "default_parameters": {},
   "duration": 21.791583,
   "end_time": "2025-01-09T19:27:11.737613",
   "environment_variables": {},
   "exception": null,
   "input_path": "/Users/saitcakmak/botorch/tutorials/test2.ipynb",
   "output_path": "/Users/saitcakmak/botorch/tutorials/test2.ipynb",
   "parameters": {},
   "start_time": "2025-01-09T19:26:49.946030",
   "version": "2.6.0"
  }
 },
 "nbformat": 4,
 "nbformat_minor": 5
}
