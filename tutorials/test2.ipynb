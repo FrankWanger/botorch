{
 "cells": [
  {
   "cell_type": "code",
   "execution_count": 1,
   "id": "babee257",
   "metadata": {
    "execution": {
     "iopub.execute_input": "2025-01-09T19:26:53.758367Z",
     "iopub.status.busy": "2025-01-09T19:26:53.758172Z",
     "iopub.status.idle": "2025-01-09T19:27:10.517246Z",
     "shell.execute_reply": "2025-01-09T19:27:10.516839Z"
    },
    "executionStartTime": 1648577014352,
    "executionStopTime": 1648577015895,
    "originalKey": "8900645e-ef50-4d4d-b4ae-9b0f4152aff0",
    "papermill": {
     "duration": 16.766519,
     "end_time": "2025-01-09T19:27:10.518597",
     "exception": false,
     "start_time": "2025-01-09T19:26:53.752078",
     "status": "completed"
    },
    "requestMsgId": "8d7262fb-6bfe-454f-b465-478d269c184f",
    "tags": []
   },
   "outputs": [
    {
     "name": "stdout",
     "output_type": "stream",
     "text": [
      "[KeOps] Warning : omp.h header is not in the path, disabling OpenMP. To fix this, you can set the environment\n",
      "                  variable OMP_PATH to the location of the header before importing keopscore or pykeops,\n",
      "                  e.g. using os.environ: import os; os.environ['OMP_PATH'] = '/path/to/omp/header'\n",
      "[KeOps] Warning : Cuda libraries were not detected on the system or could not be loaded ; using cpu only mode\n",
      "CPU times: user 4.2 s, sys: 1.65 s, total: 5.85 s\n",
      "Wall time: 16.7 s\n"
     ]
    },
    {
     "data": {
      "text/plain": [
       "'1.15.0'"
      ]
     },
     "execution_count": 1,
     "metadata": {},
     "output_type": "execute_result"
    }
   ],
   "source": [
    "%%time\n",
    "import math\n",
    "import torch\n",
    "\n",
    "from botorch.test_functions import SixHumpCamel\n",
    "from botorch.fit import fit_gpytorch_mll\n",
    "from botorch.models import SingleTaskGP\n",
    "from botorch.utils.transforms import standardize, normalize\n",
    "from gpytorch.mlls import ExactMarginalLogLikelihood\n",
    "from botorch.acquisition import (\n",
    "    ExpectedImprovement,\n",
    "    ProbabilityOfImprovement,\n",
    "    qMaxValueEntropy,\n",
    ")\n",
    "from botorch.acquisition.max_value_entropy_search import qLowerBoundMaxValueEntropy\n",
    "import matplotlib.pyplot as plt\n",
    "from botorch.optim import optimize_acqf\n",
    "from botorch.acquisition import qNoisyExpectedImprovement, qProbabilityOfImprovement\n",
    "from time import time\n",
    "import cProfile, io, pstats\n",
    "from pstats import SortKey\n",
    "import scipy\n",
    "\n",
    "SMOKE_TEST = True\n",
    "\n",
    "torch.manual_seed(123456)\n",
    "torch.set_default_dtype(torch.double)\n",
    "\n",
    "bounds = torch.tensor(SixHumpCamel._bounds).T\n",
    "bounds_norm = torch.tensor([[0.0, 0.0], [1.0, 1.0]])\n",
    "train_X = bounds[0] + (bounds[1] - bounds[0]) * torch.rand(5, 2)\n",
    "train_Y = SixHumpCamel(negate=True)(train_X).unsqueeze(-1)\n",
    "\n",
    "train_X = normalize(train_X, bounds=bounds)\n",
    "train_Y = standardize(train_Y + 0.05 * torch.randn_like(train_Y))\n",
    "\n",
    "model = SingleTaskGP(train_X, train_Y)\n",
    "mll = ExactMarginalLogLikelihood(model.likelihood, model)\n",
    "fit_gpytorch_mll(mll, max_attempts=1)\n",
    "scipy.__version__"
   ]
  },
  {
   "cell_type": "code",
   "execution_count": 2,
   "id": "0899558f",
   "metadata": {
    "execution": {
     "iopub.execute_input": "2025-01-09T19:27:10.541697Z",
     "iopub.status.busy": "2025-01-09T19:27:10.541463Z",
     "iopub.status.idle": "2025-01-09T19:27:10.799309Z",
     "shell.execute_reply": "2025-01-09T19:27:10.798827Z"
    },
    "executionStartTime": 1648577020385,
    "executionStopTime": 1648577031509,
    "originalKey": "31ac3a12-eb78-4226-9170-31a22816f6c5",
    "papermill": {
     "duration": 0.280331,
     "end_time": "2025-01-09T19:27:10.800965",
     "exception": false,
     "start_time": "2025-01-09T19:27:10.520634",
     "status": "completed"
    },
    "requestMsgId": "a7e5671c-1735-46dc-b2f0-6f8b85a997e6",
    "tags": []
   },
   "outputs": [
    {
     "name": "stdout",
     "output_type": "stream",
     "text": [
      "X.shape=torch.Size([5, 5, 2]), X.dtype=torch.float64, X.stride()=(10, 2, 1)\n",
      "X.shape=torch.Size([5, 5, 2]), X.dtype=torch.float64, X.stride()=(10, 2, 1)\n",
      "X.shape=torch.Size([5, 5, 2]), X.dtype=torch.float64, X.stride()=(10, 2, 1)\n",
      "X.shape=torch.Size([5, 5, 2]), X.dtype=torch.float64, X.stride()=(10, 2, 1)\n",
      "X.shape=torch.Size([5, 5, 2]), X.dtype=torch.float64, X.stride()=(10, 2, 1)\n",
      "X.shape=torch.Size([5, 5, 2]), X.dtype=torch.float64, X.stride()=(10, 2, 1)\n",
      "X.shape=torch.Size([5, 5, 2]), X.dtype=torch.float64, X.stride()=(10, 2, 1)\n",
      "X.shape=torch.Size([5, 5, 2]), X.dtype=torch.float64, X.stride()=(10, 2, 1)\n",
      "X.shape=torch.Size([5, 5, 2]), X.dtype=torch.float64, X.stride()=(10, 2, 1)\n",
      "X.shape=torch.Size([5, 5, 2]), X.dtype=torch.float64, X.stride()=(10, 2, 1)\n",
      "X.shape=torch.Size([5, 5, 2]), X.dtype=torch.float64, X.stride()=(10, 2, 1)\n",
      "X.shape=torch.Size([5, 5, 2]), X.dtype=torch.float64, X.stride()=(10, 2, 1)\n",
      "X.shape=torch.Size([5, 5, 2]), X.dtype=torch.float64, X.stride()=(10, 2, 1)\n",
      "X.shape=torch.Size([5, 5, 2]), X.dtype=torch.float64, X.stride()=(10, 2, 1)\n",
      "X.shape=torch.Size([5, 5, 2]), X.dtype=torch.float64, X.stride()=(10, 2, 1)\n",
      "X.shape=torch.Size([5, 5, 2]), X.dtype=torch.float64, X.stride()=(10, 2, 1)\n",
      "X.shape=torch.Size([5, 5, 2]), X.dtype=torch.float64, X.stride()=(10, 2, 1)\n",
      "X.shape=torch.Size([5, 5, 2]), X.dtype=torch.float64, X.stride()=(10, 2, 1)\n",
      "X.shape=torch.Size([5, 5, 2]), X.dtype=torch.float64, X.stride()=(10, 2, 1)\n",
      "X.shape=torch.Size([5, 5, 2]), X.dtype=torch.float64, X.stride()=(10, 2, 1)\n",
      "X.shape=torch.Size([5, 5, 2]), X.dtype=torch.float64, X.stride()=(10, 2, 1)\n",
      "X.shape=torch.Size([5, 5, 2]), X.dtype=torch.float64, X.stride()=(10, 2, 1)\n"
     ]
    },
    {
     "name": "stderr",
     "output_type": "stream",
     "text": [
      "/Users/saitcakmak/botorch/botorch/acquisition/monte_carlo.py:496: NumericsWarning: qNoisyExpectedImprovement has known numerical issues that lead to suboptimal optimization performance. It is strongly recommended to simply replace\n",
      "\n",
      "\t qNoisyExpectedImprovement \t --> \t qLogNoisyExpectedImprovement \n",
      "\n",
      "instead, which fixes the issues and has the same API. See https://arxiv.org/abs/2310.20708 for details.\n",
      "  legacy_ei_numerics_warning(legacy_name=type(self).__name__)\n"
     ]
    },
    {
     "name": "stdout",
     "output_type": "stream",
     "text": [
      "X.shape=torch.Size([5, 5, 2]), X.dtype=torch.float64, X.stride()=(10, 2, 1)\n",
      "X.shape=torch.Size([5, 5, 2]), X.dtype=torch.float64, X.stride()=(10, 2, 1)\n",
      "X.shape=torch.Size([5, 5, 2]), X.dtype=torch.float64, X.stride()=(10, 2, 1)\n",
      "X.shape=torch.Size([5, 5, 2]), X.dtype=torch.float64, X.stride()=(10, 2, 1)\n",
      "X.shape=torch.Size([5, 5, 2]), X.dtype=torch.float64, X.stride()=(10, 2, 1)\n",
      "X.shape=torch.Size([5, 5, 2]), X.dtype=torch.float64, X.stride()=(10, 2, 1)\n",
      "X.shape=torch.Size([5, 5, 2]), X.dtype=torch.float64, X.stride()=(10, 2, 1)\n",
      "X.shape=torch.Size([5, 5, 2]), X.dtype=torch.float64, X.stride()=(10, 2, 1)\n",
      "X.shape=torch.Size([5, 5, 2]), X.dtype=torch.float64, X.stride()=(10, 2, 1)\n",
      "X.shape=torch.Size([5, 5, 2]), X.dtype=torch.float64, X.stride()=(10, 2, 1)\n",
      "X.shape=torch.Size([5, 5, 2]), X.dtype=torch.float64, X.stride()=(10, 2, 1)\n",
      "X.shape=torch.Size([5, 5, 2]), X.dtype=torch.float64, X.stride()=(10, 2, 1)\n",
      "X.shape=torch.Size([5, 5, 2]), X.dtype=torch.float64, X.stride()=(10, 2, 1)\n",
      "X.shape=torch.Size([5, 5, 2]), X.dtype=torch.float64, X.stride()=(10, 2, 1)\n",
      "X.shape=torch.Size([5, 5, 2]), X.dtype=torch.float64, X.stride()=(10, 2, 1)\n",
      "X.shape=torch.Size([5, 5, 2]), X.dtype=torch.float64, X.stride()=(10, 2, 1)\n",
      "X.shape=torch.Size([5, 5, 2]), X.dtype=torch.float64, X.stride()=(10, 2, 1)\n",
      "X.shape=torch.Size([5, 5, 2]), X.dtype=torch.float64, X.stride()=(10, 2, 1)\n",
      "X.shape=torch.Size([5, 5, 2]), X.dtype=torch.float64, X.stride()=(10, 2, 1)\n",
      "X.shape=torch.Size([5, 5, 2]), X.dtype=torch.float64, X.stride()=(10, 2, 1)\n",
      "X.shape=torch.Size([5, 5, 2]), X.dtype=torch.float64, X.stride()=(10, 2, 1)\n",
      "X.shape=torch.Size([5, 5, 2]), X.dtype=torch.float64, X.stride()=(10, 2, 1)\n",
      "X.shape=torch.Size([5, 5, 2]), X.dtype=torch.float64, X.stride()=(10, 2, 1)\n",
      "X.shape=torch.Size([5, 5, 2]), X.dtype=torch.float64, X.stride()=(10, 2, 1)\n",
      "X.shape=torch.Size([5, 5, 2]), X.dtype=torch.float64, X.stride()=(10, 2, 1)\n",
      "X.shape=torch.Size([5, 5, 2]), X.dtype=torch.float64, X.stride()=(10, 2, 1)\n",
      "X.shape=torch.Size([5, 5, 2]), X.dtype=torch.float64, X.stride()=(10, 2, 1)\n",
      "X.shape=torch.Size([5, 5, 2]), X.dtype=torch.float64, X.stride()=(10, 2, 1)\n",
      "X.shape=torch.Size([5, 5, 2]), X.dtype=torch.float64, X.stride()=(10, 2, 1)\n",
      "X.shape=torch.Size([5, 5, 2]), X.dtype=torch.float64, X.stride()=(10, 2, 1)\n",
      "X.shape=torch.Size([5, 5, 2]), X.dtype=torch.float64, X.stride()=(10, 2, 1)\n",
      "         116178 function calls (111929 primitive calls) in 0.176 seconds\n",
      "\n",
      "   Ordered by: cumulative time\n",
      "   List reduced from 563 to 56 due to restriction <0.1>\n",
      "\n",
      "   ncalls  tottime  percall  cumtime  percall filename:lineno(function)\n",
      "        1    0.000    0.000    0.176    0.176 /Users/saitcakmak/botorch/botorch/optim/optimize.py:479(optimize_acqf)\n",
      "        1    0.000    0.000    0.176    0.176 /Users/saitcakmak/botorch/botorch/optim/optimize.py:630(_optimize_acqf)\n",
      "        1    0.000    0.000    0.176    0.176 /Users/saitcakmak/botorch/botorch/optim/optimize.py:310(_optimize_acqf_batch)\n",
      "        1    0.000    0.000    0.171    0.171 /Users/saitcakmak/botorch/botorch/optim/optimize.py:353(_optimize_batch_candidates)\n",
      "        1    0.000    0.000    0.171    0.171 /Users/saitcakmak/botorch/botorch/generation/gen.py:44(gen_candidates_scipy)\n",
      "        1    0.000    0.000    0.166    0.166 /Users/saitcakmak/botorch/botorch/optim/utils/timeout.py:19(minimize_with_timeout)\n",
      "        1    0.000    0.000    0.166    0.166 /opt/anaconda3/envs/botorch/lib/python3.10/site-packages/scipy/optimize/_minimize.py:53(minimize)\n",
      "        1    0.013    0.013    0.166    0.166 /opt/anaconda3/envs/botorch/lib/python3.10/site-packages/scipy/optimize/_slsqp_py.py:216(_minimize_slsqp)\n",
      "       54    0.000    0.000    0.150    0.003 /opt/anaconda3/envs/botorch/lib/python3.10/site-packages/scipy/optimize/_differentiable_functions.py:293(_update_fun)\n",
      "       97    0.001    0.000    0.150    0.002 /opt/anaconda3/envs/botorch/lib/python3.10/site-packages/scipy/optimize/_optimize.py:71(_compute_if_needed)\n",
      "       53    0.000    0.000    0.150    0.003 /opt/anaconda3/envs/botorch/lib/python3.10/site-packages/scipy/optimize/_differentiable_functions.py:16(wrapped)\n",
      "       53    0.000    0.000    0.150    0.003 /opt/anaconda3/envs/botorch/lib/python3.10/site-packages/scipy/optimize/_optimize.py:78(__call__)\n",
      "       53    0.001    0.000    0.148    0.003 /Users/saitcakmak/botorch/botorch/generation/gen.py:182(f_np_wrapper)\n",
      "       97    0.000    0.000    0.147    0.002 /opt/anaconda3/envs/botorch/lib/python3.10/site-packages/scipy/optimize/_optimize.py:303(eval)\n",
      "       53    0.000    0.000    0.146    0.003 /opt/anaconda3/envs/botorch/lib/python3.10/site-packages/scipy/optimize/_differentiable_functions.py:323(fun)\n",
      "   110/55    0.000    0.000    0.102    0.002 /opt/anaconda3/envs/botorch/lib/python3.10/site-packages/torch/nn/modules/module.py:1732(_wrapped_call_impl)\n",
      "   110/55    0.000    0.000    0.102    0.002 /opt/anaconda3/envs/botorch/lib/python3.10/site-packages/torch/nn/modules/module.py:1740(_call_impl)\n",
      "       55    0.000    0.000    0.102    0.002 /Users/saitcakmak/botorch/botorch/utils/transforms.py:340(decorated)\n",
      "       55    0.000    0.000    0.102    0.002 /Users/saitcakmak/botorch/botorch/utils/transforms.py:278(decorated)\n",
      "       55    0.002    0.000    0.101    0.002 /Users/saitcakmak/botorch/botorch/acquisition/monte_carlo.py:254(forward)\n",
      "       55    0.000    0.000    0.099    0.002 /Users/saitcakmak/botorch/botorch/acquisition/monte_carlo.py:277(_non_reduced_forward)\n",
      "       53    0.000    0.000    0.098    0.002 /Users/saitcakmak/botorch/botorch/generation/gen.py:238(f)\n",
      "       55    0.001    0.000    0.096    0.002 /Users/saitcakmak/botorch/botorch/acquisition/monte_carlo.py:592(_get_samples_and_objectives)\n",
      "       55    0.000    0.000    0.050    0.001 /Users/saitcakmak/botorch/botorch/acquisition/cached_cholesky.py:123(_get_f_X_samples)\n",
      "       55    0.002    0.000    0.050    0.001 /Users/saitcakmak/botorch/botorch/utils/low_rank.py:85(sample_cached_cholesky)\n",
      "       53    0.000    0.000    0.048    0.001 /opt/anaconda3/envs/botorch/lib/python3.10/site-packages/torch/autograd/__init__.py:358(grad)\n",
      "       53    0.000    0.000    0.046    0.001 /opt/anaconda3/envs/botorch/lib/python3.10/site-packages/torch/autograd/graph.py:816(_engine_run_backward)\n",
      "       53    0.046    0.001    0.046    0.001 {method 'run_backward' of 'torch._C._EngineBase' objects}\n",
      "       55    0.000    0.000    0.042    0.001 /Users/saitcakmak/botorch/botorch/models/gpytorch.py:407(posterior)\n",
      "       55    0.000    0.000    0.030    0.001 /opt/anaconda3/envs/botorch/lib/python3.10/site-packages/linear_operator/utils/cholesky.py:50(psd_safe_cholesky)\n",
      "       55    0.000    0.000    0.030    0.001 /opt/anaconda3/envs/botorch/lib/python3.10/site-packages/linear_operator/utils/cholesky.py:12(_psd_safe_cholesky)\n",
      "       55    0.001    0.000    0.029    0.001 /opt/anaconda3/envs/botorch/lib/python3.10/site-packages/gpytorch/models/exact_gp.py:252(__call__)\n",
      "       55    0.029    0.001    0.029    0.001 {built-in method torch._C._linalg.linalg_cholesky_ex}\n",
      "       55    0.001    0.000    0.020    0.000 /opt/anaconda3/envs/botorch/lib/python3.10/site-packages/gpytorch/models/exact_prediction_strategies.py:308(exact_prediction)\n",
      "  385/330    0.000    0.000    0.015    0.000 /opt/anaconda3/envs/botorch/lib/python3.10/site-packages/gpytorch/utils/memoize.py:54(g)\n",
      "  165/110    0.000    0.000    0.015    0.000 /opt/anaconda3/envs/botorch/lib/python3.10/site-packages/gpytorch/lazy/lazy_evaluated_kernel_tensor.py:22(wrapped)\n",
      "       55    0.000    0.000    0.012    0.000 /opt/anaconda3/envs/botorch/lib/python3.10/site-packages/gpytorch/lazy/lazy_evaluated_kernel_tensor.py:408(to_dense)\n",
      "       55    0.000    0.000    0.012    0.000 /opt/anaconda3/envs/botorch/lib/python3.10/site-packages/gpytorch/lazy/lazy_evaluated_kernel_tensor.py:342(evaluate_kernel)\n",
      "  165/110    0.000    0.000    0.011    0.000 /opt/anaconda3/envs/botorch/lib/python3.10/site-packages/gpytorch/module.py:30(__call__)\n",
      "      110    0.000    0.000    0.008    0.000 /opt/anaconda3/envs/botorch/lib/python3.10/site-packages/gpytorch/kernels/kernel.py:459(__call__)\n",
      "      990    0.004    0.000    0.007    0.000 /opt/anaconda3/envs/botorch/lib/python3.10/site-packages/torch/functional.py:79(broadcast_shapes)\n",
      "      661    0.001    0.000    0.007    0.000 /opt/anaconda3/envs/botorch/lib/python3.10/site-packages/torch/nn/modules/module.py:1935(__setattr__)\n",
      "       55    0.001    0.000    0.006    0.000 /Users/saitcakmak/botorch/botorch/models/transforms/outcome.py:372(untransform_posterior)\n",
      "       55    0.001    0.000    0.006    0.000 /opt/anaconda3/envs/botorch/lib/python3.10/site-packages/linear_operator/operators/_linear_operator.py:2788(__getitem__)\n",
      "       55    0.000    0.000    0.006    0.000 /opt/anaconda3/envs/botorch/lib/python3.10/site-packages/gpytorch/kernels/rbf_kernel.py:68(forward)\n",
      "  990/550    0.001    0.000    0.006    0.000 /opt/anaconda3/envs/botorch/lib/python3.10/site-packages/gpytorch/lazy/lazy_tensor.py:32(__init__)\n",
      "2035/1595    0.001    0.000    0.005    0.000 /opt/anaconda3/envs/botorch/lib/python3.10/site-packages/linear_operator/operators/_linear_operator.py:2291(shape)\n",
      "        1    0.000    0.000    0.005    0.005 /opt/anaconda3/envs/botorch/lib/python3.10/site-packages/scipy/optimize/_optimize.py:203(_prepare_scalar_function)\n",
      "        1    0.000    0.000    0.005    0.005 /opt/anaconda3/envs/botorch/lib/python3.10/site-packages/scipy/optimize/_differentiable_functions.py:166(__init__)\n",
      "        1    0.000    0.000    0.005    0.005 /Users/saitcakmak/botorch/botorch/optim/initializers.py:245(gen_batch_initial_conditions)\n",
      "       55    0.000    0.000    0.005    0.000 /Users/saitcakmak/botorch/botorch/models/gp_regression.py:239(forward)\n",
      "      165    0.000    0.000    0.005    0.000 /opt/anaconda3/envs/botorch/lib/python3.10/site-packages/pyro/distributions/distribution.py:21(__call__)\n",
      "       55    0.000    0.000    0.004    0.000 /opt/anaconda3/envs/botorch/lib/python3.10/site-packages/gpytorch/kernels/kernel.py:312(covar_dist)\n",
      "      165    0.001    0.000    0.004    0.000 /opt/anaconda3/envs/botorch/lib/python3.10/site-packages/gpytorch/distributions/multivariate_normal.py:45(__init__)\n",
      "       55    0.001    0.000    0.004    0.000 /opt/anaconda3/envs/botorch/lib/python3.10/site-packages/gpytorch/kernels/kernel.py:26(sq_dist)\n",
      "       55    0.000    0.000    0.004    0.000 /Users/saitcakmak/botorch/botorch/models/model.py:248(eval)\n",
      "\n",
      "\n",
      "CPU times: user 1.13 s, sys: 437 ms, total: 1.57 s\n",
      "Wall time: 254 ms\n"
     ]
    },
    {
     "data": {
      "text/plain": [
       "'1.15.0'"
      ]
     },
     "execution_count": 2,
     "metadata": {},
     "output_type": "execute_result"
    }
   ],
   "source": [
    "%%time\n",
    "\n",
    "acqf = qNoisyExpectedImprovement(model, train_X)\n",
    "\n",
    "# eval and maximise acq functions\n",
    "with cProfile.Profile() as pr:\n",
    "    optimize_acqf(\n",
    "        acq_function=acqf,\n",
    "        bounds=bounds_norm,\n",
    "        q=5,\n",
    "        num_restarts=5,\n",
    "        raw_samples=5,\n",
    "        sequential=False,\n",
    "    )\n",
    "\n",
    "sortby = SortKey.CUMULATIVE\n",
    "ps = pstats.Stats(pr).sort_stats(sortby)\n",
    "ps.print_stats(.1)\n",
    "\n",
    "scipy.__version__"
   ]
  },
  {
   "cell_type": "code",
   "execution_count": 3,
   "id": "fb5c4839",
   "metadata": {
    "execution": {
     "iopub.execute_input": "2025-01-09T19:27:10.820010Z",
     "iopub.status.busy": "2025-01-09T19:27:10.819839Z",
     "iopub.status.idle": "2025-01-09T19:27:11.109268Z",
     "shell.execute_reply": "2025-01-09T19:27:11.108756Z"
    },
    "papermill": {
     "duration": 0.296138,
     "end_time": "2025-01-09T19:27:11.110450",
     "exception": false,
     "start_time": "2025-01-09T19:27:10.814312",
     "status": "completed"
    },
    "tags": []
   },
   "outputs": [
    {
     "name": "stdout",
     "output_type": "stream",
     "text": [
      "         195202 function calls (187502 primitive calls) in 0.282 seconds\n",
      "\n",
      "   Ordered by: cumulative time\n",
      "   List reduced from 297 to 30 due to restriction <0.1>\n",
      "\n",
      "   ncalls  tottime  percall  cumtime  percall filename:lineno(function)\n",
      "  200/100    0.000    0.000    0.178    0.002 /opt/anaconda3/envs/botorch/lib/python3.10/site-packages/torch/nn/modules/module.py:1732(_wrapped_call_impl)\n",
      "  200/100    0.001    0.000    0.177    0.002 /opt/anaconda3/envs/botorch/lib/python3.10/site-packages/torch/nn/modules/module.py:1740(_call_impl)\n",
      "      100    0.000    0.000    0.177    0.002 /Users/saitcakmak/botorch/botorch/utils/transforms.py:340(decorated)\n",
      "      100    0.000    0.000    0.177    0.002 /Users/saitcakmak/botorch/botorch/utils/transforms.py:278(decorated)\n",
      "      100    0.005    0.000    0.175    0.002 /Users/saitcakmak/botorch/botorch/acquisition/monte_carlo.py:254(forward)\n",
      "      100    0.001    0.000    0.170    0.002 /Users/saitcakmak/botorch/botorch/acquisition/monte_carlo.py:277(_non_reduced_forward)\n",
      "      100    0.002    0.000    0.158    0.002 /Users/saitcakmak/botorch/botorch/acquisition/monte_carlo.py:592(_get_samples_and_objectives)\n",
      "      100    0.000    0.000    0.103    0.001 /opt/anaconda3/envs/botorch/lib/python3.10/site-packages/torch/_tensor.py:525(backward)\n",
      "      100    0.000    0.000    0.103    0.001 /opt/anaconda3/envs/botorch/lib/python3.10/site-packages/torch/autograd/__init__.py:242(backward)\n",
      "      100    0.000    0.000    0.101    0.001 /opt/anaconda3/envs/botorch/lib/python3.10/site-packages/torch/autograd/graph.py:816(_engine_run_backward)\n",
      "      100    0.100    0.001    0.100    0.001 {method 'run_backward' of 'torch._C._EngineBase' objects}\n",
      "      100    0.001    0.000    0.088    0.001 /Users/saitcakmak/botorch/botorch/models/gpytorch.py:407(posterior)\n",
      "      100    0.001    0.000    0.065    0.001 /Users/saitcakmak/botorch/botorch/acquisition/cached_cholesky.py:123(_get_f_X_samples)\n",
      "      100    0.006    0.000    0.064    0.001 /Users/saitcakmak/botorch/botorch/utils/low_rank.py:85(sample_cached_cholesky)\n",
      "      100    0.002    0.000    0.063    0.001 /opt/anaconda3/envs/botorch/lib/python3.10/site-packages/gpytorch/models/exact_gp.py:252(__call__)\n",
      "      100    0.002    0.000    0.045    0.000 /opt/anaconda3/envs/botorch/lib/python3.10/site-packages/gpytorch/models/exact_prediction_strategies.py:308(exact_prediction)\n",
      "  700/600    0.001    0.000    0.035    0.000 /opt/anaconda3/envs/botorch/lib/python3.10/site-packages/gpytorch/utils/memoize.py:54(g)\n",
      "  300/200    0.000    0.000    0.034    0.000 /opt/anaconda3/envs/botorch/lib/python3.10/site-packages/gpytorch/lazy/lazy_evaluated_kernel_tensor.py:22(wrapped)\n",
      "      100    0.000    0.000    0.030    0.000 /opt/anaconda3/envs/botorch/lib/python3.10/site-packages/gpytorch/lazy/lazy_evaluated_kernel_tensor.py:408(to_dense)\n",
      "      100    0.001    0.000    0.029    0.000 /opt/anaconda3/envs/botorch/lib/python3.10/site-packages/gpytorch/lazy/lazy_evaluated_kernel_tensor.py:342(evaluate_kernel)\n",
      "  300/200    0.001    0.000    0.026    0.000 /opt/anaconda3/envs/botorch/lib/python3.10/site-packages/gpytorch/module.py:30(__call__)\n",
      "      200    0.001    0.000    0.020    0.000 /opt/anaconda3/envs/botorch/lib/python3.10/site-packages/gpytorch/kernels/kernel.py:459(__call__)\n",
      "      100    0.000    0.000    0.016    0.000 /opt/anaconda3/envs/botorch/lib/python3.10/site-packages/gpytorch/kernels/rbf_kernel.py:68(forward)\n",
      "     1200    0.002    0.000    0.013    0.000 /opt/anaconda3/envs/botorch/lib/python3.10/site-packages/torch/nn/modules/module.py:1935(__setattr__)\n",
      "     1800    0.008    0.000    0.013    0.000 /opt/anaconda3/envs/botorch/lib/python3.10/site-packages/torch/functional.py:79(broadcast_shapes)\n",
      "      300    0.012    0.000    0.012    0.000 {method 'matmul' of 'torch._C.TensorBase' objects}\n",
      "      100    0.002    0.000    0.012    0.000 /Users/saitcakmak/botorch/botorch/models/transforms/outcome.py:372(untransform_posterior)\n",
      "      100    0.001    0.000    0.012    0.000 /opt/anaconda3/envs/botorch/lib/python3.10/site-packages/linear_operator/operators/_linear_operator.py:2788(__getitem__)\n",
      "      100    0.000    0.000    0.011    0.000 /opt/anaconda3/envs/botorch/lib/python3.10/site-packages/gpytorch/kernels/kernel.py:312(covar_dist)\n",
      "1800/1000    0.001    0.000    0.011    0.000 /opt/anaconda3/envs/botorch/lib/python3.10/site-packages/gpytorch/lazy/lazy_tensor.py:32(__init__)\n",
      "\n",
      "\n",
      "CPU times: user 1.15 s, sys: 629 ms, total: 1.78 s\n",
      "Wall time: 286 ms\n"
     ]
    },
    {
     "data": {
      "text/plain": [
       "'1.15.0'"
      ]
     },
     "execution_count": 3,
     "metadata": {},
     "output_type": "execute_result"
    }
   ],
   "source": [
    "%%time\n",
    "with cProfile.Profile() as pr:\n",
    "    for _ in range(100):\n",
    "        test_X = torch.rand(20, 5, 2, requires_grad=True)\n",
    "        acqf(test_X).sum().backward()\n",
    "\n",
    "sortby = SortKey.CUMULATIVE\n",
    "ps = pstats.Stats(pr).sort_stats(sortby)\n",
    "ps.print_stats(.1)\n",
    "\n",
    "scipy.__version__"
   ]
  }
 ],
 "metadata": {
  "fileHeader": "",
  "kernelspec": {
   "display_name": "Python 3 (ipykernel)",
   "language": "python",
   "name": "python3"
  },
  "language_info": {
   "codemirror_mode": {
    "name": "ipython",
    "version": 3
   },
   "file_extension": ".py",
   "mimetype": "text/x-python",
   "name": "python",
   "nbconvert_exporter": "python",
   "pygments_lexer": "ipython3",
   "version": "3.9.12"
  },
  "papermill": {
   "default_parameters": {},
   "duration": 21.791583,
   "end_time": "2025-01-09T19:27:11.737613",
   "environment_variables": {},
   "exception": null,
   "input_path": "/Users/saitcakmak/botorch/tutorials/test2.ipynb",
   "output_path": "/Users/saitcakmak/botorch/tutorials/test2.ipynb",
   "parameters": {},
   "start_time": "2025-01-09T19:26:49.946030",
   "version": "2.6.0"
  }
 },
 "nbformat": 4,
 "nbformat_minor": 5
}
