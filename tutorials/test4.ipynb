{
 "cells": [
  {
   "cell_type": "code",
   "execution_count": 1,
   "id": "a2ef0e60-b6d5-49a7-9f82-28d226f0db00",
   "metadata": {},
   "outputs": [
    {
     "name": "stdout",
     "output_type": "stream",
     "text": [
      "CPU times: user 1.53 s, sys: 685 ms, total: 2.22 s\n",
      "Wall time: 9.32 s\n"
     ]
    }
   ],
   "source": [
    "%%time\n",
    "import torch\n",
    "import numpy as np\n",
    "from scipy.optimize import minimize, Bounds\n",
    "import cProfile, io, pstats\n",
    "from pstats import SortKey\n",
    "\n",
    "torch.manual_seed(0)\n",
    "np.random.seed(0)\n",
    "\n",
    "torch.set_default_dtype(torch.double)\n",
    "\n",
    "bounds = Bounds(\n",
    "    lb=np.zeros(128),\n",
    "    ub=np.ones(128),\n",
    "    keep_feasible=True,\n",
    ")\n",
    "x0 = np.random.random(128)\n",
    "None"
   ]
  },
  {
   "cell_type": "code",
   "execution_count": 2,
   "id": "4d3ea515-311f-4281-99fb-f95c5de86187",
   "metadata": {},
   "outputs": [
    {
     "name": "stdout",
     "output_type": "stream",
     "text": [
      "\n",
      "\n",
      "\n",
      "\n",
      "\n",
      "\n",
      " Optimize a simple matmul \n",
      "\n",
      "\n",
      "         3734 function calls (3731 primitive calls) in 10.443 seconds\n",
      "\n",
      "   Ordered by: cumulative time\n",
      "   List reduced from 260 to 26 due to restriction <0.1>\n",
      "\n",
      "   ncalls  tottime  percall  cumtime  percall filename:lineno(function)\n",
      "        1    0.000    0.000   10.443   10.443 /opt/anaconda3/envs/botorch/lib/python3.10/site-packages/scipy/optimize/_minimize.py:53(minimize)\n",
      "        1    0.000    0.000   10.443   10.443 /opt/anaconda3/envs/botorch/lib/python3.10/site-packages/scipy/optimize/_lbfgsb_py.py:290(_minimize_lbfgsb)\n",
      "       42    0.155    0.004   10.440    0.249 /opt/anaconda3/envs/botorch/lib/python3.10/site-packages/scipy/optimize/_optimize.py:71(_compute_if_needed)\n",
      "       22    0.000    0.000   10.440    0.475 /opt/anaconda3/envs/botorch/lib/python3.10/site-packages/scipy/optimize/_differentiable_functions.py:293(_update_fun)\n",
      "       21    0.000    0.000   10.440    0.497 /opt/anaconda3/envs/botorch/lib/python3.10/site-packages/scipy/optimize/_differentiable_functions.py:16(wrapped)\n",
      "       21    0.000    0.000   10.439    0.497 /opt/anaconda3/envs/botorch/lib/python3.10/site-packages/scipy/optimize/_optimize.py:78(__call__)\n",
      "       21    3.130    0.149   10.284    0.490 <timed exec>:5(f_and_grad)\n",
      "       21    0.000    0.000    9.535    0.454 /opt/anaconda3/envs/botorch/lib/python3.10/site-packages/scipy/optimize/_differentiable_functions.py:341(fun_and_grad)\n",
      "       21    0.000    0.000    7.011    0.334 /opt/anaconda3/envs/botorch/lib/python3.10/site-packages/torch/autograd/__init__.py:358(grad)\n",
      "       21    0.000    0.000    6.993    0.333 /opt/anaconda3/envs/botorch/lib/python3.10/site-packages/torch/autograd/graph.py:816(_engine_run_backward)\n",
      "       21    6.993    0.333    6.993    0.333 {method 'run_backward' of 'torch._C._EngineBase' objects}\n",
      "        1    0.000    0.000    0.907    0.907 /opt/anaconda3/envs/botorch/lib/python3.10/site-packages/scipy/optimize/_optimize.py:203(_prepare_scalar_function)\n",
      "        1    0.000    0.000    0.907    0.907 /opt/anaconda3/envs/botorch/lib/python3.10/site-packages/scipy/optimize/_differentiable_functions.py:166(__init__)\n",
      "       21    0.142    0.007    0.142    0.007 {method 'sum' of 'torch._C.TensorBase' objects}\n",
      "       21    0.000    0.000    0.018    0.001 /opt/anaconda3/envs/botorch/lib/python3.10/site-packages/torch/autograd/__init__.py:88(_make_grads)\n",
      "      2/1    0.000    0.000    0.017    0.017 <frozen importlib._bootstrap>:1022(_find_and_load)\n",
      "      2/1    0.000    0.000    0.017    0.017 <frozen importlib._bootstrap>:987(_find_and_load_unlocked)\n",
      "        2    0.000    0.000    0.016    0.008 <frozen importlib._bootstrap>:664(_load_unlocked)\n",
      "        2    0.000    0.000    0.016    0.008 <frozen importlib._bootstrap_external>:877(exec_module)\n",
      "        2    0.000    0.000    0.016    0.008 <frozen importlib._bootstrap_external>:950(get_code)\n",
      "        2    0.000    0.000    0.016    0.008 <frozen importlib._bootstrap_external>:1070(get_data)\n",
      "        2    0.016    0.008    0.016    0.008 {built-in method io.open_code}\n",
      "      3/2    0.000    0.000    0.009    0.004 <frozen importlib._bootstrap>:233(_call_with_frames_removed)\n",
      "        1    0.000    0.000    0.008    0.008 {built-in method builtins.__import__}\n",
      "       22    0.000    0.000    0.001    0.000 /opt/anaconda3/envs/botorch/lib/python3.10/site-packages/scipy/optimize/_differentiable_functions.py:303(_update_grad)\n",
      "       21    0.000    0.000    0.001    0.000 /opt/anaconda3/envs/botorch/lib/python3.10/site-packages/scipy/optimize/_differentiable_functions.py:39(wrapped)\n",
      "\n",
      "\n",
      "CPU times: user 44 s, sys: 16.4 s, total: 1min\n",
      "Wall time: 10.7 s\n"
     ]
    }
   ],
   "source": [
    "%%time\n",
    "\n",
    "print(\"\\n\\n\\n\\n\\n\\n Optimize a simple matmul \\n\\n\")\n",
    "\n",
    "rand_tensor = torch.rand(128, 128, 128)\n",
    "\n",
    "def f_and_grad(x):\n",
    "    X_tensor = torch.from_numpy(x).contiguous().requires_grad_(True)\n",
    "    diff = rand_tensor - X_tensor\n",
    "    loss = (diff @ diff).sum()\n",
    "    grad = torch.autograd.grad(loss, X_tensor)[0].reshape(-1).numpy(force=True)\n",
    "    return loss.item(), grad\n",
    "\n",
    "with cProfile.Profile() as pr:\n",
    "    res = minimize(\n",
    "        fun=f_and_grad,\n",
    "        x0=x0,\n",
    "        method=\"L-BFGS-B\",\n",
    "        jac=True,\n",
    "        bounds=bounds,\n",
    "        options={\"maxfun\": 20},\n",
    "    )\n",
    "\n",
    "sortby = SortKey.CUMULATIVE\n",
    "ps = pstats.Stats(pr).sort_stats(sortby)\n",
    "ps.print_stats(.1)\n",
    "None"
   ]
  },
  {
   "cell_type": "code",
   "execution_count": 3,
   "id": "a3421a54-e488-4c56-8c36-f18ae2d4efb1",
   "metadata": {},
   "outputs": [
    {
     "name": "stdout",
     "output_type": "stream",
     "text": [
      "\n",
      "\n",
      "\n",
      "\n",
      "\n",
      "\n",
      " 20 reference evaluations of f_and_grad \n",
      "\n",
      "\n",
      "CPU times: user 44.7 s, sys: 14.1 s, total: 58.8 s\n",
      "Wall time: 9.31 s\n"
     ]
    }
   ],
   "source": [
    "%%time\n",
    "\n",
    "print(\"\\n\\n\\n\\n\\n\\n 20 reference evaluations of f_and_grad \\n\\n\")\n",
    "\n",
    "X = np.random.random(128)\n",
    "\n",
    "with cProfile.Profile() as pr:\n",
    "    for _ in range(20):\n",
    "        f_and_grad(X)\n",
    "\n",
    "ps = pstats.Stats(pr).sort_stats(sortby)\n",
    "ps.print_stats(.1)\n",
    "None"
   ]
  }
 ],
 "metadata": {
  "kernelspec": {
   "display_name": "Python 3 (ipykernel)",
   "language": "python",
   "name": "python3"
  },
  "language_info": {
   "codemirror_mode": {
    "name": "ipython",
    "version": 3
   },
   "file_extension": ".py",
   "mimetype": "text/x-python",
   "name": "python",
   "nbconvert_exporter": "python",
   "pygments_lexer": "ipython3",
   "version": "3.10.14"
  }
 },
 "nbformat": 4,
 "nbformat_minor": 5
}
