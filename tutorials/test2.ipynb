{
 "cells": [
  {
   "cell_type": "code",
   "execution_count": 1,
   "id": "babee257",
   "metadata": {
    "execution": {
     "iopub.execute_input": "2025-01-09T19:26:53.758367Z",
     "iopub.status.busy": "2025-01-09T19:26:53.758172Z",
     "iopub.status.idle": "2025-01-09T19:27:10.517246Z",
     "shell.execute_reply": "2025-01-09T19:27:10.516839Z"
    },
    "executionStartTime": 1648577014352,
    "executionStopTime": 1648577015895,
    "originalKey": "8900645e-ef50-4d4d-b4ae-9b0f4152aff0",
    "papermill": {
     "duration": 16.766519,
     "end_time": "2025-01-09T19:27:10.518597",
     "exception": false,
     "start_time": "2025-01-09T19:26:53.752078",
     "status": "completed"
    },
    "requestMsgId": "8d7262fb-6bfe-454f-b465-478d269c184f",
    "tags": []
   },
   "outputs": [
    {
     "name": "stdout",
     "output_type": "stream",
     "text": [
      "[KeOps] Warning : omp.h header is not in the path, disabling OpenMP. To fix this, you can set the environment\n",
      "                  variable OMP_PATH to the location of the header before importing keopscore or pykeops,\n",
      "                  e.g. using os.environ: import os; os.environ['OMP_PATH'] = '/path/to/omp/header'\n",
      "[KeOps] Warning : Cuda libraries were not detected on the system or could not be loaded ; using cpu only mode\n",
      "CPU times: user 2.72 s, sys: 834 ms, total: 3.55 s\n",
      "Wall time: 5.25 s\n"
     ]
    },
    {
     "data": {
      "text/plain": [
       "'1.15.0'"
      ]
     },
     "execution_count": 1,
     "metadata": {},
     "output_type": "execute_result"
    }
   ],
   "source": [
    "%%time\n",
    "import math\n",
    "import torch\n",
    "import numpy as np\n",
    "\n",
    "from botorch.test_functions import SixHumpCamel\n",
    "from botorch.fit import fit_gpytorch_mll\n",
    "from botorch.models import SingleTaskGP\n",
    "from botorch.utils.transforms import standardize, normalize\n",
    "from gpytorch.mlls import ExactMarginalLogLikelihood\n",
    "from botorch.acquisition import (\n",
    "    ExpectedImprovement,\n",
    "    ProbabilityOfImprovement,\n",
    "    qMaxValueEntropy,\n",
    ")\n",
    "from botorch.acquisition.max_value_entropy_search import qLowerBoundMaxValueEntropy\n",
    "import matplotlib.pyplot as plt\n",
    "from botorch.optim import optimize_acqf\n",
    "from botorch.acquisition import qNoisyExpectedImprovement, PosteriorMean, qSimpleRegret\n",
    "from time import time\n",
    "import cProfile, io, pstats\n",
    "from pstats import SortKey\n",
    "import scipy\n",
    "from scipy.optimize import minimize, Bounds\n",
    "\n",
    "SMOKE_TEST = True\n",
    "\n",
    "# torch.set_num_interop_threads(1)\n",
    "# torch.set_num_threads(1)\n",
    "\n",
    "torch.manual_seed(123456)\n",
    "torch.set_default_dtype(torch.double)\n",
    "\n",
    "bounds = torch.tensor(SixHumpCamel._bounds).T\n",
    "bounds_norm = torch.tensor([[0.0, 0.0], [1.0, 1.0]])\n",
    "train_X = bounds[0] + (bounds[1] - bounds[0]) * torch.rand(5, 2)\n",
    "train_Y = SixHumpCamel(negate=True)(train_X).unsqueeze(-1)\n",
    "\n",
    "train_X = normalize(train_X, bounds=bounds)\n",
    "train_Y = standardize(train_Y + 0.05 * torch.randn_like(train_Y))\n",
    "\n",
    "model = SingleTaskGP(train_X, train_Y)\n",
    "mll = ExactMarginalLogLikelihood(model.likelihood, model)\n",
    "fit_gpytorch_mll(mll, max_attempts=1)\n",
    "\n",
    "# acqf = qNoisyExpectedImprovement(model, train_X, cache_root=False)\n",
    "acqf = qSimpleRegret(model)\n",
    "\n",
    "scipy.__version__"
   ]
  },
  {
   "cell_type": "code",
   "execution_count": 2,
   "id": "313674bd",
   "metadata": {},
   "outputs": [],
   "source": [
    "# %%time\n",
    "# print(\"\\n\\n\\n\\n\\n\\n optimize_acqf \\n\\n\")\n",
    "\n",
    "# # eval and maximise acq functions\n",
    "# with cProfile.Profile() as pr:\n",
    "#     optimize_acqf(\n",
    "#         acq_function=acqf,\n",
    "#         bounds=bounds_norm,\n",
    "#         q=5,\n",
    "#         num_restarts=5,\n",
    "#         raw_samples=5,\n",
    "#         sequential=False,\n",
    "#     )\n",
    "\n",
    "# sortby = SortKey.CUMULATIVE\n",
    "# ps = pstats.Stats(pr).sort_stats(sortby)\n",
    "# ps.print_stats(.1)\n",
    "\n",
    "# scipy.__version__"
   ]
  },
  {
   "cell_type": "code",
   "execution_count": 5,
   "id": "8f2a4bc7",
   "metadata": {},
   "outputs": [
    {
     "name": "stdout",
     "output_type": "stream",
     "text": [
      "\n",
      "\n",
      "\n",
      "\n",
      "\n",
      "\n",
      " calling minimize directly \n",
      "\n",
      "\n",
      "         230848 function calls (219730 primitive calls) in 0.168 seconds\n",
      "\n",
      "   Ordered by: cumulative time\n",
      "   List reduced from 419 to 42 due to restriction <0.1>\n",
      "\n",
      "   ncalls  tottime  percall  cumtime  percall filename:lineno(function)\n",
      "        1    0.000    0.000    0.168    0.168 /opt/anaconda3/envs/botorch/lib/python3.10/site-packages/scipy/optimize/_minimize.py:53(minimize)\n",
      "        1    0.000    0.000    0.166    0.166 /opt/anaconda3/envs/botorch/lib/python3.10/site-packages/scipy/optimize/_lbfgsb_py.py:290(_minimize_lbfgsb)\n",
      "      102    0.002    0.000    0.163    0.002 /opt/anaconda3/envs/botorch/lib/python3.10/site-packages/scipy/optimize/_differentiable_functions.py:16(wrapped)\n",
      "      102    0.000    0.000    0.160    0.002 <timed exec>:4(f_and_grad)\n",
      "  306/102    0.000    0.000    0.159    0.002 /opt/anaconda3/envs/botorch/lib/python3.10/site-packages/torch/nn/modules/module.py:1732(_wrapped_call_impl)\n",
      "  306/102    0.001    0.000    0.158    0.002 /opt/anaconda3/envs/botorch/lib/python3.10/site-packages/torch/nn/modules/module.py:1740(_call_impl)\n",
      "      102    0.000    0.000    0.158    0.002 /Users/saitcakmak/botorch/botorch/utils/transforms.py:340(decorated)\n",
      "      102    0.000    0.000    0.158    0.002 /Users/saitcakmak/botorch/botorch/utils/transforms.py:278(decorated)\n",
      "      102    0.004    0.000    0.157    0.002 /Users/saitcakmak/botorch/botorch/acquisition/monte_carlo.py:254(forward)\n",
      "      102    0.001    0.000    0.153    0.002 /Users/saitcakmak/botorch/botorch/acquisition/monte_carlo.py:277(_non_reduced_forward)\n",
      "      102    0.001    0.000    0.151    0.001 /Users/saitcakmak/botorch/botorch/acquisition/monte_carlo.py:108(_get_samples_and_objectives)\n",
      "        3    0.000    0.000    0.146    0.049 /opt/anaconda3/envs/botorch/lib/python3.10/site-packages/scipy/optimize/_differentiable_functions.py:303(_update_grad)\n",
      "        2    0.000    0.000    0.146    0.073 /opt/anaconda3/envs/botorch/lib/python3.10/site-packages/scipy/optimize/_differentiable_functions.py:46(wrapped1)\n",
      "        2    0.000    0.000    0.146    0.073 /opt/anaconda3/envs/botorch/lib/python3.10/site-packages/scipy/optimize/_numdiff.py:277(approx_derivative)\n",
      "        2    0.001    0.001    0.145    0.073 /opt/anaconda3/envs/botorch/lib/python3.10/site-packages/scipy/optimize/_numdiff.py:584(_dense_difference)\n",
      "      100    0.000    0.000    0.144    0.001 /opt/anaconda3/envs/botorch/lib/python3.10/site-packages/scipy/optimize/_numdiff.py:468(fun_wrapped)\n",
      "        1    0.000    0.000    0.097    0.097 /opt/anaconda3/envs/botorch/lib/python3.10/site-packages/scipy/optimize/_optimize.py:203(_prepare_scalar_function)\n",
      "        1    0.000    0.000    0.097    0.097 /opt/anaconda3/envs/botorch/lib/python3.10/site-packages/scipy/optimize/_differentiable_functions.py:166(__init__)\n",
      "      102    0.001    0.000    0.089    0.001 /Users/saitcakmak/botorch/botorch/models/gpytorch.py:407(posterior)\n",
      "        2    0.000    0.000    0.069    0.035 /opt/anaconda3/envs/botorch/lib/python3.10/site-packages/scipy/optimize/_differentiable_functions.py:341(fun_and_grad)\n",
      "      102    0.002    0.000    0.063    0.001 /opt/anaconda3/envs/botorch/lib/python3.10/site-packages/gpytorch/models/exact_gp.py:252(__call__)\n",
      "      102    0.000    0.000    0.060    0.001 /Users/saitcakmak/botorch/botorch/acquisition/acquisition.py:128(get_posterior_samples)\n",
      "      102    0.000    0.000    0.059    0.001 /Users/saitcakmak/botorch/botorch/sampling/normal.py:34(forward)\n",
      "      102    0.001    0.000    0.056    0.001 /Users/saitcakmak/botorch/botorch/posteriors/gpytorch.py:86(rsample_from_base_samples)\n",
      "      102    0.003    0.000    0.054    0.001 /opt/anaconda3/envs/botorch/lib/python3.10/site-packages/gpytorch/distributions/multivariate_normal.py:198(rsample)\n",
      "      102    0.002    0.000    0.044    0.000 /opt/anaconda3/envs/botorch/lib/python3.10/site-packages/gpytorch/models/exact_prediction_strategies.py:308(exact_prediction)\n",
      "  408/102    0.001    0.000    0.036    0.000 /opt/anaconda3/envs/botorch/lib/python3.10/site-packages/linear_operator/utils/memoize.py:54(g)\n",
      "      102    0.001    0.000    0.035    0.000 /opt/anaconda3/envs/botorch/lib/python3.10/site-packages/linear_operator/operators/_linear_operator.py:2128(root_decomposition)\n",
      "  714/612    0.001    0.000    0.031    0.000 /opt/anaconda3/envs/botorch/lib/python3.10/site-packages/gpytorch/utils/memoize.py:54(g)\n",
      "  306/204    0.000    0.000    0.030    0.000 /opt/anaconda3/envs/botorch/lib/python3.10/site-packages/gpytorch/lazy/lazy_evaluated_kernel_tensor.py:22(wrapped)\n",
      "      102    0.000    0.000    0.029    0.000 /opt/anaconda3/envs/botorch/lib/python3.10/site-packages/linear_operator/operators/_linear_operator.py:1301(cholesky)\n",
      "      102    0.001    0.000    0.028    0.000 /opt/anaconda3/envs/botorch/lib/python3.10/site-packages/linear_operator/operators/_linear_operator.py:500(_cholesky)\n",
      "      102    0.000    0.000    0.026    0.000 /opt/anaconda3/envs/botorch/lib/python3.10/site-packages/gpytorch/lazy/lazy_evaluated_kernel_tensor.py:408(to_dense)\n",
      "      102    0.001    0.000    0.025    0.000 /opt/anaconda3/envs/botorch/lib/python3.10/site-packages/gpytorch/lazy/lazy_evaluated_kernel_tensor.py:342(evaluate_kernel)\n",
      "  306/204    0.001    0.000    0.023    0.000 /opt/anaconda3/envs/botorch/lib/python3.10/site-packages/gpytorch/module.py:30(__call__)\n",
      "        5    0.000    0.000    0.020    0.004 /opt/anaconda3/envs/botorch/lib/python3.10/site-packages/scipy/optimize/_differentiable_functions.py:293(_update_fun)\n",
      "  306/204    0.001    0.000    0.017    0.000 /opt/anaconda3/envs/botorch/lib/python3.10/site-packages/linear_operator/operators/_linear_operator.py:1817(matmul)\n",
      "      204    0.001    0.000    0.016    0.000 /opt/anaconda3/envs/botorch/lib/python3.10/site-packages/gpytorch/kernels/kernel.py:459(__call__)\n",
      "      102    0.000    0.000    0.016    0.000 /opt/anaconda3/envs/botorch/lib/python3.10/site-packages/linear_operator/utils/cholesky.py:50(psd_safe_cholesky)\n",
      "      102    0.001    0.000    0.015    0.000 /opt/anaconda3/envs/botorch/lib/python3.10/site-packages/linear_operator/utils/cholesky.py:12(_psd_safe_cholesky)\n",
      "3162/1530    0.002    0.000    0.015    0.000 /opt/anaconda3/envs/botorch/lib/python3.10/site-packages/gpytorch/lazy/lazy_tensor.py:32(__init__)\n",
      "      102    0.014    0.000    0.014    0.000 {built-in method torch._C._linalg.linalg_cholesky_ex}\n",
      "\n",
      "\n",
      "CPU times: user 486 ms, sys: 408 ms, total: 893 ms\n",
      "Wall time: 173 ms\n"
     ]
    },
    {
     "data": {
      "text/plain": [
       "'1.15.0'"
      ]
     },
     "execution_count": 5,
     "metadata": {},
     "output_type": "execute_result"
    }
   ],
   "source": [
    "%%time\n",
    "print(\"\\n\\n\\n\\n\\n\\n calling minimize directly \\n\\n\")\n",
    "\n",
    "\n",
    "def f_and_grad(x):\n",
    "    X_tensor = torch.from_numpy(x.reshape((5, 5, 2))).contiguous().requires_grad_(True)\n",
    "    loss = acqf(X_tensor).sum()\n",
    "#     grad = torch.autograd.grad(loss, X_tensor)[0].reshape(-1).numpy(force=True)\n",
    "#     return loss.item(), grad\n",
    "    return loss.item()\n",
    "\n",
    "bounds = Bounds(\n",
    "    lb=np.zeros(50),\n",
    "    ub=np.ones(50),\n",
    "    keep_feasible=True,\n",
    ")\n",
    "x0 = np.random.random(50)\n",
    "\n",
    "with cProfile.Profile() as pr:\n",
    "    res = minimize(\n",
    "        fun=f_and_grad,\n",
    "        x0=x0,\n",
    "        method=\"L-BFGS-B\",\n",
    "        jac=False,\n",
    "        bounds=bounds,\n",
    "        options={\"maxfun\": 100}\n",
    "    )\n",
    "\n",
    "sortby = SortKey.CUMULATIVE\n",
    "ps = pstats.Stats(pr).sort_stats(sortby)\n",
    "ps.print_stats(.1)\n",
    "\n",
    "scipy.__version__"
   ]
  },
  {
   "cell_type": "code",
   "execution_count": 6,
   "id": "fb5c4839",
   "metadata": {
    "execution": {
     "iopub.execute_input": "2025-01-09T19:27:10.820010Z",
     "iopub.status.busy": "2025-01-09T19:27:10.819839Z",
     "iopub.status.idle": "2025-01-09T19:27:11.109268Z",
     "shell.execute_reply": "2025-01-09T19:27:11.108756Z"
    },
    "papermill": {
     "duration": 0.296138,
     "end_time": "2025-01-09T19:27:11.110450",
     "exception": false,
     "start_time": "2025-01-09T19:27:10.814312",
     "status": "completed"
    },
    "tags": []
   },
   "outputs": [
    {
     "name": "stdout",
     "output_type": "stream",
     "text": [
      "\n",
      "\n",
      "\n",
      "\n",
      "\n",
      "\n",
      " 100 f_and_grad evaluations \n",
      "\n",
      "\n",
      "CPU times: user 413 ms, sys: 368 ms, total: 781 ms\n",
      "Wall time: 162 ms\n"
     ]
    },
    {
     "data": {
      "text/plain": [
       "'1.15.0'"
      ]
     },
     "execution_count": 6,
     "metadata": {},
     "output_type": "execute_result"
    }
   ],
   "source": [
    "%%time\n",
    "print(\"\\n\\n\\n\\n\\n\\n 100 f_and_grad evaluations \\n\\n\")\n",
    "\n",
    "with cProfile.Profile() as pr:\n",
    "    for _ in range(100):\n",
    "        f_and_grad(x=np.random.random((50,)))\n",
    "\n",
    "# sortby = SortKey.CUMULATIVE\n",
    "# ps = pstats.Stats(pr).sort_stats(sortby)\n",
    "# ps.print_stats(.1)\n",
    "\n",
    "scipy.__version__"
   ]
  }
 ],
 "metadata": {
  "fileHeader": "",
  "kernelspec": {
   "display_name": "Python 3 (ipykernel)",
   "language": "python",
   "name": "python3"
  },
  "language_info": {
   "codemirror_mode": {
    "name": "ipython",
    "version": 3
   },
   "file_extension": ".py",
   "mimetype": "text/x-python",
   "name": "python",
   "nbconvert_exporter": "python",
   "pygments_lexer": "ipython3",
   "version": "3.10.14"
  },
  "papermill": {
   "default_parameters": {},
   "duration": 21.791583,
   "end_time": "2025-01-09T19:27:11.737613",
   "environment_variables": {},
   "exception": null,
   "input_path": "/Users/saitcakmak/botorch/tutorials/test2.ipynb",
   "output_path": "/Users/saitcakmak/botorch/tutorials/test2.ipynb",
   "parameters": {},
   "start_time": "2025-01-09T19:26:49.946030",
   "version": "2.6.0"
  }
 },
 "nbformat": 4,
 "nbformat_minor": 5
}
