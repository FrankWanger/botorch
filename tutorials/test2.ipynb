{
 "cells": [
  {
   "cell_type": "code",
   "execution_count": 5,
   "id": "babee257",
   "metadata": {
    "execution": {
     "iopub.execute_input": "2025-01-09T19:26:53.758367Z",
     "iopub.status.busy": "2025-01-09T19:26:53.758172Z",
     "iopub.status.idle": "2025-01-09T19:27:10.517246Z",
     "shell.execute_reply": "2025-01-09T19:27:10.516839Z"
    },
    "executionStartTime": 1648577014352,
    "executionStopTime": 1648577015895,
    "originalKey": "8900645e-ef50-4d4d-b4ae-9b0f4152aff0",
    "papermill": {
     "duration": 16.766519,
     "end_time": "2025-01-09T19:27:10.518597",
     "exception": false,
     "start_time": "2025-01-09T19:26:53.752078",
     "status": "completed"
    },
    "requestMsgId": "8d7262fb-6bfe-454f-b465-478d269c184f",
    "tags": []
   },
   "outputs": [
    {
     "name": "stdout",
     "output_type": "stream",
     "text": [
      "CPU times: user 104 ms, sys: 85.8 ms, total: 190 ms\n",
      "Wall time: 47.4 ms\n"
     ]
    },
    {
     "data": {
      "text/plain": [
       "'1.15.0'"
      ]
     },
     "execution_count": 5,
     "metadata": {},
     "output_type": "execute_result"
    }
   ],
   "source": [
    "%%time\n",
    "import math\n",
    "import torch\n",
    "import numpy as np\n",
    "\n",
    "from botorch.test_functions import SixHumpCamel\n",
    "from botorch.fit import fit_gpytorch_mll\n",
    "from botorch.models import SingleTaskGP\n",
    "from botorch.utils.transforms import standardize, normalize\n",
    "from gpytorch.mlls import ExactMarginalLogLikelihood\n",
    "from botorch.acquisition import (\n",
    "    ExpectedImprovement,\n",
    "    ProbabilityOfImprovement,\n",
    "    qMaxValueEntropy,\n",
    ")\n",
    "from botorch.acquisition.max_value_entropy_search import qLowerBoundMaxValueEntropy\n",
    "import matplotlib.pyplot as plt\n",
    "from botorch.optim import optimize_acqf\n",
    "from botorch.acquisition import qNoisyExpectedImprovement, PosteriorMean, qSimpleRegret\n",
    "from time import time\n",
    "import cProfile, io, pstats\n",
    "from pstats import SortKey\n",
    "import scipy\n",
    "from scipy.optimize import minimize, Bounds\n",
    "\n",
    "SMOKE_TEST = True\n",
    "\n",
    "torch.manual_seed(123456)\n",
    "torch.set_default_dtype(torch.double)\n",
    "\n",
    "bounds = torch.tensor(SixHumpCamel._bounds).T\n",
    "bounds_norm = torch.tensor([[0.0, 0.0], [1.0, 1.0]])\n",
    "train_X = bounds[0] + (bounds[1] - bounds[0]) * torch.rand(5, 2)\n",
    "train_Y = SixHumpCamel(negate=True)(train_X).unsqueeze(-1)\n",
    "\n",
    "train_X = normalize(train_X, bounds=bounds)\n",
    "train_Y = standardize(train_Y + 0.05 * torch.randn_like(train_Y))\n",
    "\n",
    "model = SingleTaskGP(train_X, train_Y)\n",
    "mll = ExactMarginalLogLikelihood(model.likelihood, model)\n",
    "fit_gpytorch_mll(mll, max_attempts=1)\n",
    "\n",
    "# acqf = qNoisyExpectedImprovement(model, train_X, cache_root=False)\n",
    "acqf = qSimpleRegret(model)\n",
    "\n",
    "scipy.__version__"
   ]
  },
  {
   "cell_type": "code",
   "execution_count": 6,
   "id": "cc8682a1",
   "metadata": {},
   "outputs": [],
   "source": [
    "# %%time\n",
    "# print(\"\\n\\n\\n\\n\\n\\n optimize_acqf \\n\\n\")\n",
    "\n",
    "# # eval and maximise acq functions\n",
    "# with cProfile.Profile() as pr:\n",
    "#     optimize_acqf(\n",
    "#         acq_function=acqf,\n",
    "#         bounds=bounds_norm,\n",
    "#         q=5,\n",
    "#         num_restarts=5,\n",
    "#         raw_samples=5,\n",
    "#         sequential=False,\n",
    "#     )\n",
    "\n",
    "# sortby = SortKey.CUMULATIVE\n",
    "# ps = pstats.Stats(pr).sort_stats(sortby)\n",
    "# ps.print_stats(.1)\n",
    "\n",
    "# scipy.__version__"
   ]
  },
  {
   "cell_type": "code",
   "execution_count": 7,
   "id": "f009f0f9",
   "metadata": {},
   "outputs": [
    {
     "name": "stdout",
     "output_type": "stream",
     "text": [
      "\n",
      "\n",
      "\n",
      "\n",
      "\n",
      "\n",
      " calling minimize directly \n",
      "\n",
      "\n",
      "         216563 function calls (206307 primitive calls) in 0.225 seconds\n",
      "\n",
      "   Ordered by: cumulative time\n",
      "   List reduced from 578 to 58 due to restriction <0.1>\n",
      "\n",
      "   ncalls  tottime  percall  cumtime  percall filename:lineno(function)\n",
      "        1    0.000    0.000    0.225    0.225 /opt/anaconda3/envs/botorch/lib/python3.10/site-packages/scipy/optimize/_minimize.py:53(minimize)\n",
      "        1    0.001    0.001    0.225    0.225 /opt/anaconda3/envs/botorch/lib/python3.10/site-packages/scipy/optimize/_lbfgsb_py.py:290(_minimize_lbfgsb)\n",
      "      162    0.002    0.000    0.220    0.001 /opt/anaconda3/envs/botorch/lib/python3.10/site-packages/scipy/optimize/_optimize.py:71(_compute_if_needed)\n",
      "       82    0.000    0.000    0.220    0.003 /opt/anaconda3/envs/botorch/lib/python3.10/site-packages/scipy/optimize/_differentiable_functions.py:293(_update_fun)\n",
      "       81    0.000    0.000    0.220    0.003 /opt/anaconda3/envs/botorch/lib/python3.10/site-packages/scipy/optimize/_differentiable_functions.py:16(wrapped)\n",
      "       81    0.000    0.000    0.219    0.003 /opt/anaconda3/envs/botorch/lib/python3.10/site-packages/scipy/optimize/_optimize.py:78(__call__)\n",
      "       81    0.001    0.000    0.218    0.003 <timed exec>:4(f_and_grad)\n",
      "       81    0.000    0.000    0.208    0.003 /opt/anaconda3/envs/botorch/lib/python3.10/site-packages/scipy/optimize/_differentiable_functions.py:341(fun_and_grad)\n",
      "   243/81    0.000    0.000    0.159    0.002 /opt/anaconda3/envs/botorch/lib/python3.10/site-packages/torch/nn/modules/module.py:1732(_wrapped_call_impl)\n",
      "   243/81    0.000    0.000    0.159    0.002 /opt/anaconda3/envs/botorch/lib/python3.10/site-packages/torch/nn/modules/module.py:1740(_call_impl)\n",
      "       81    0.000    0.000    0.159    0.002 /Users/saitcakmak/botorch/botorch/utils/transforms.py:340(decorated)\n",
      "       81    0.000    0.000    0.159    0.002 /Users/saitcakmak/botorch/botorch/utils/transforms.py:278(decorated)\n",
      "       81    0.002    0.000    0.158    0.002 /Users/saitcakmak/botorch/botorch/acquisition/monte_carlo.py:254(forward)\n",
      "       81    0.000    0.000    0.156    0.002 /Users/saitcakmak/botorch/botorch/acquisition/monte_carlo.py:277(_non_reduced_forward)\n",
      "       81    0.001    0.000    0.155    0.002 /Users/saitcakmak/botorch/botorch/acquisition/monte_carlo.py:108(_get_samples_and_objectives)\n",
      "       81    0.000    0.000    0.084    0.001 /Users/saitcakmak/botorch/botorch/acquisition/acquisition.py:128(get_posterior_samples)\n",
      "       81    0.000    0.000    0.084    0.001 /Users/saitcakmak/botorch/botorch/sampling/normal.py:34(forward)\n",
      "       81    0.000    0.000    0.080    0.001 /Users/saitcakmak/botorch/botorch/posteriors/gpytorch.py:86(rsample_from_base_samples)\n",
      "       81    0.002    0.000    0.079    0.001 /opt/anaconda3/envs/botorch/lib/python3.10/site-packages/gpytorch/distributions/multivariate_normal.py:198(rsample)\n",
      "       81    0.001    0.000    0.069    0.001 /Users/saitcakmak/botorch/botorch/models/gpytorch.py:407(posterior)\n",
      "   331/83    0.001    0.000    0.069    0.001 /opt/anaconda3/envs/botorch/lib/python3.10/site-packages/linear_operator/utils/memoize.py:54(g)\n",
      "       81    0.000    0.000    0.066    0.001 /opt/anaconda3/envs/botorch/lib/python3.10/site-packages/linear_operator/operators/_linear_operator.py:2128(root_decomposition)\n",
      "       83    0.000    0.000    0.063    0.001 /opt/anaconda3/envs/botorch/lib/python3.10/site-packages/linear_operator/operators/_linear_operator.py:1301(cholesky)\n",
      "       83    0.001    0.000    0.062    0.001 /opt/anaconda3/envs/botorch/lib/python3.10/site-packages/linear_operator/operators/_linear_operator.py:500(_cholesky)\n",
      "   162/81    0.001    0.000    0.057    0.001 /opt/anaconda3/envs/botorch/lib/python3.10/site-packages/torch/autograd/__init__.py:358(grad)\n",
      "   162/81    0.000    0.000    0.055    0.001 /opt/anaconda3/envs/botorch/lib/python3.10/site-packages/torch/autograd/graph.py:816(_engine_run_backward)\n",
      "   162/81    0.039    0.000    0.055    0.001 {method 'run_backward' of 'torch._C._EngineBase' objects}\n",
      "       83    0.000    0.000    0.052    0.001 /opt/anaconda3/envs/botorch/lib/python3.10/site-packages/linear_operator/utils/cholesky.py:50(psd_safe_cholesky)\n",
      "       83    0.001    0.000    0.052    0.001 /opt/anaconda3/envs/botorch/lib/python3.10/site-packages/linear_operator/utils/cholesky.py:12(_psd_safe_cholesky)\n",
      "       81    0.002    0.000    0.049    0.001 /opt/anaconda3/envs/botorch/lib/python3.10/site-packages/gpytorch/models/exact_gp.py:252(__call__)\n",
      "       98    0.041    0.000    0.041    0.000 {built-in method torch._C._linalg.linalg_cholesky_ex}\n",
      "       81    0.001    0.000    0.033    0.000 /opt/anaconda3/envs/botorch/lib/python3.10/site-packages/gpytorch/models/exact_prediction_strategies.py:308(exact_prediction)\n",
      "  584/490    0.001    0.000    0.026    0.000 /opt/anaconda3/envs/botorch/lib/python3.10/site-packages/gpytorch/utils/memoize.py:54(g)\n",
      "  244/163    0.000    0.000    0.022    0.000 /opt/anaconda3/envs/botorch/lib/python3.10/site-packages/gpytorch/lazy/lazy_evaluated_kernel_tensor.py:22(wrapped)\n",
      "       81    0.000    0.000    0.018    0.000 /opt/anaconda3/envs/botorch/lib/python3.10/site-packages/gpytorch/lazy/lazy_evaluated_kernel_tensor.py:408(to_dense)\n",
      "       82    0.000    0.000    0.018    0.000 /opt/anaconda3/envs/botorch/lib/python3.10/site-packages/gpytorch/lazy/lazy_evaluated_kernel_tensor.py:342(evaluate_kernel)\n",
      "   162/81    0.000    0.000    0.017    0.000 /opt/anaconda3/envs/botorch/lib/python3.10/site-packages/torch/autograd/function.py:292(apply)\n",
      "   162/81    0.001    0.000    0.017    0.000 /opt/anaconda3/envs/botorch/lib/python3.10/site-packages/linear_operator/functions/_matmul.py:33(backward)\n",
      "  248/166    0.000    0.000    0.017    0.000 /opt/anaconda3/envs/botorch/lib/python3.10/site-packages/gpytorch/module.py:30(__call__)\n",
      "  324/243    0.001    0.000    0.016    0.000 /opt/anaconda3/envs/botorch/lib/python3.10/site-packages/linear_operator/operators/_linear_operator.py:1817(matmul)\n",
      "3547/1726    0.003    0.000    0.015    0.000 /opt/anaconda3/envs/botorch/lib/python3.10/site-packages/gpytorch/lazy/lazy_tensor.py:32(__init__)\n",
      "       81    0.002    0.000    0.015    0.000 /opt/anaconda3/envs/botorch/lib/python3.10/site-packages/linear_operator/operators/_linear_operator.py:339(_bilinear_derivative)\n",
      "        1    0.000    0.000    0.015    0.015 /opt/anaconda3/envs/botorch/lib/python3.10/site-packages/scipy/optimize/_optimize.py:203(_prepare_scalar_function)\n",
      "        1    0.000    0.000    0.015    0.015 /opt/anaconda3/envs/botorch/lib/python3.10/site-packages/scipy/optimize/_differentiable_functions.py:166(__init__)\n",
      "     1644    0.007    0.000    0.012    0.000 /opt/anaconda3/envs/botorch/lib/python3.10/site-packages/torch/functional.py:79(broadcast_shapes)\n",
      "  244/163    0.000    0.000    0.011    0.000 /opt/anaconda3/envs/botorch/lib/python3.10/site-packages/torch/autograd/function.py:559(apply)\n",
      "      978    0.002    0.000    0.011    0.000 /opt/anaconda3/envs/botorch/lib/python3.10/site-packages/torch/nn/modules/module.py:1935(__setattr__)\n",
      "      164    0.001    0.000    0.011    0.000 /opt/anaconda3/envs/botorch/lib/python3.10/site-packages/gpytorch/kernels/kernel.py:459(__call__)\n",
      "  244/163    0.001    0.000    0.010    0.000 {built-in method apply}\n",
      "       81    0.001    0.000    0.009    0.000 /Users/saitcakmak/botorch/botorch/models/transforms/outcome.py:372(untransform_posterior)\n",
      "  984/571    0.001    0.000    0.009    0.000 /opt/anaconda3/envs/botorch/lib/python3.10/site-packages/linear_operator/operators/linear_operator_representation_tree.py:22(__call__)\n",
      "       15    0.000    0.000    0.009    0.001 {built-in method _warnings.warn}\n",
      "        1    0.000    0.000    0.009    0.009 /opt/anaconda3/envs/botorch/lib/python3.10/warnings.py:96(_showwarnmsg)\n",
      "        1    0.000    0.000    0.009    0.009 /opt/anaconda3/envs/botorch/lib/python3.10/warnings.py:20(_showwarnmsg_impl)\n",
      "      162    0.000    0.000    0.009    0.000 /opt/anaconda3/envs/botorch/lib/python3.10/site-packages/linear_operator/operators/triangular_linear_operator.py:104(_matmul)\n",
      "        1    0.000    0.000    0.009    0.009 /opt/anaconda3/envs/botorch/lib/python3.10/warnings.py:117(_formatwarnmsg)\n",
      "        1    0.000    0.000    0.009    0.009 /opt/anaconda3/envs/botorch/lib/python3.10/warnings.py:35(_formatwarnmsg_impl)\n",
      "        1    0.000    0.000    0.009    0.009 /opt/anaconda3/envs/botorch/lib/python3.10/linecache.py:26(getline)\n",
      "\n",
      "\n",
      "CPU times: user 1.04 s, sys: 395 ms, total: 1.43 s\n",
      "Wall time: 230 ms\n"
     ]
    },
    {
     "name": "stderr",
     "output_type": "stream",
     "text": [
      "/opt/anaconda3/envs/botorch/lib/python3.10/site-packages/linear_operator/utils/cholesky.py:40: NumericalWarning: A not p.d., added jitter of 1.0e-08 to the diagonal\n",
      "  warnings.warn(\n"
     ]
    },
    {
     "data": {
      "text/plain": [
       "'1.15.0'"
      ]
     },
     "execution_count": 7,
     "metadata": {},
     "output_type": "execute_result"
    }
   ],
   "source": [
    "%%time\n",
    "print(\"\\n\\n\\n\\n\\n\\n calling minimize directly \\n\\n\")\n",
    "\n",
    "\n",
    "def f_and_grad(x):\n",
    "    X_tensor = torch.from_numpy(x.reshape((5, 5, 2))).contiguous().requires_grad_(True)\n",
    "    loss = acqf(X_tensor).sum()\n",
    "    grad = torch.autograd.grad(loss, X_tensor)[0].reshape(-1).numpy(force=True)\n",
    "    return loss.item(), grad\n",
    "\n",
    "bounds = Bounds(\n",
    "    lb=np.zeros(50),\n",
    "    ub=np.ones(50),\n",
    "    keep_feasible=True,\n",
    ")\n",
    "x0 = np.random.random(50)\n",
    "\n",
    "with cProfile.Profile() as pr:\n",
    "    res = minimize(\n",
    "        fun=f_and_grad,\n",
    "        x0=x0,\n",
    "        method=\"L-BFGS-B\",\n",
    "        jac=True,\n",
    "        bounds=bounds,\n",
    "    )\n",
    "\n",
    "sortby = SortKey.CUMULATIVE\n",
    "ps = pstats.Stats(pr).sort_stats(sortby)\n",
    "ps.print_stats(.1)\n",
    "\n",
    "scipy.__version__"
   ]
  },
  {
   "cell_type": "code",
   "execution_count": 8,
   "id": "fb5c4839",
   "metadata": {
    "execution": {
     "iopub.execute_input": "2025-01-09T19:27:10.820010Z",
     "iopub.status.busy": "2025-01-09T19:27:10.819839Z",
     "iopub.status.idle": "2025-01-09T19:27:11.109268Z",
     "shell.execute_reply": "2025-01-09T19:27:11.108756Z"
    },
    "papermill": {
     "duration": 0.296138,
     "end_time": "2025-01-09T19:27:11.110450",
     "exception": false,
     "start_time": "2025-01-09T19:27:10.814312",
     "status": "completed"
    },
    "tags": []
   },
   "outputs": [
    {
     "name": "stdout",
     "output_type": "stream",
     "text": [
      "\n",
      "\n",
      "\n",
      "\n",
      "\n",
      "\n",
      " 100 f_and_grad evaluations \n",
      "\n",
      "\n",
      "CPU times: user 1.17 s, sys: 190 ms, total: 1.36 s\n",
      "Wall time: 193 ms\n"
     ]
    },
    {
     "data": {
      "text/plain": [
       "'1.15.0'"
      ]
     },
     "execution_count": 8,
     "metadata": {},
     "output_type": "execute_result"
    }
   ],
   "source": [
    "%%time\n",
    "print(\"\\n\\n\\n\\n\\n\\n 100 f_and_grad evaluations \\n\\n\")\n",
    "\n",
    "with cProfile.Profile() as pr:\n",
    "    for _ in range(100):\n",
    "        f_and_grad(x=np.random.random((50,)))\n",
    "\n",
    "# sortby = SortKey.CUMULATIVE\n",
    "# ps = pstats.Stats(pr).sort_stats(sortby)\n",
    "# ps.print_stats(.1)\n",
    "\n",
    "scipy.__version__"
   ]
  }
 ],
 "metadata": {
  "fileHeader": "",
  "kernelspec": {
   "display_name": "Python 3 (ipykernel)",
   "language": "python",
   "name": "python3"
  },
  "language_info": {
   "codemirror_mode": {
    "name": "ipython",
    "version": 3
   },
   "file_extension": ".py",
   "mimetype": "text/x-python",
   "name": "python",
   "nbconvert_exporter": "python",
   "pygments_lexer": "ipython3",
   "version": "3.10.14"
  },
  "papermill": {
   "default_parameters": {},
   "duration": 21.791583,
   "end_time": "2025-01-09T19:27:11.737613",
   "environment_variables": {},
   "exception": null,
   "input_path": "/Users/saitcakmak/botorch/tutorials/test2.ipynb",
   "output_path": "/Users/saitcakmak/botorch/tutorials/test2.ipynb",
   "parameters": {},
   "start_time": "2025-01-09T19:26:49.946030",
   "version": "2.6.0"
  }
 },
 "nbformat": 4,
 "nbformat_minor": 5
}
