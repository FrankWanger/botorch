{
 "cells": [
  {
   "cell_type": "code",
   "execution_count": 1,
   "id": "4e7b8f4c",
   "metadata": {
    "execution": {
     "iopub.execute_input": "2025-01-08T22:52:41.660732Z",
     "iopub.status.busy": "2025-01-08T22:52:41.660270Z",
     "iopub.status.idle": "2025-01-08T22:52:45.934710Z",
     "shell.execute_reply": "2025-01-08T22:52:45.934298Z"
    },
    "executionStartTime": 1648577014352,
    "executionStopTime": 1648577015895,
    "originalKey": "8900645e-ef50-4d4d-b4ae-9b0f4152aff0",
    "papermill": {
     "duration": 4.281629,
     "end_time": "2025-01-08T22:52:45.935933",
     "exception": false,
     "start_time": "2025-01-08T22:52:41.654304",
     "status": "completed"
    },
    "requestMsgId": "8d7262fb-6bfe-454f-b465-478d269c184f",
    "tags": []
   },
   "outputs": [
    {
     "name": "stdout",
     "output_type": "stream",
     "text": [
      "[KeOps] Warning : omp.h header is not in the path, disabling OpenMP. To fix this, you can set the environment\n",
      "                  variable OMP_PATH to the location of the header before importing keopscore or pykeops,\n",
      "                  e.g. using os.environ: import os; os.environ['OMP_PATH'] = '/path/to/omp/header'\n",
      "[KeOps] Warning : Cuda libraries were not detected on the system or could not be loaded ; using cpu only mode\n"
     ]
    },
    {
     "name": "stdout",
     "output_type": "stream",
     "text": [
      "CPU times: user 2.9 s, sys: 509 ms, total: 3.41 s\n",
      "Wall time: 4.25 s\n"
     ]
    },
    {
     "data": {
      "text/plain": [
       "'1.14.1'"
      ]
     },
     "execution_count": 1,
     "metadata": {},
     "output_type": "execute_result"
    }
   ],
   "source": [
    "%%time\n",
    "import math\n",
    "import torch\n",
    "\n",
    "from botorch.test_functions import SixHumpCamel\n",
    "from botorch.fit import fit_gpytorch_mll\n",
    "from botorch.models import SingleTaskGP\n",
    "from botorch.utils.transforms import standardize, normalize\n",
    "from gpytorch.mlls import ExactMarginalLogLikelihood\n",
    "from botorch.acquisition import (\n",
    "    ExpectedImprovement,\n",
    "    ProbabilityOfImprovement,\n",
    "    qMaxValueEntropy,\n",
    ")\n",
    "import matplotlib.pyplot as plt\n",
    "from botorch.optim import optimize_acqf\n",
    "from botorch.acquisition import qNoisyExpectedImprovement, qProbabilityOfImprovement\n",
    "from time import time\n",
    "import cProfile, io, pstats\n",
    "from pstats import SortKey\n",
    "import scipy\n",
    "\n",
    "SMOKE_TEST = True\n",
    "\n",
    "torch.manual_seed(123456)\n",
    "torch.set_default_dtype(torch.double)\n",
    "\n",
    "bounds = torch.tensor(SixHumpCamel._bounds).T\n",
    "bounds_norm = torch.tensor([[0.0, 0.0], [1.0, 1.0]])\n",
    "train_X = bounds[0] + (bounds[1] - bounds[0]) * torch.rand(5, 2)\n",
    "train_Y = SixHumpCamel(negate=True)(train_X).unsqueeze(-1)\n",
    "\n",
    "train_X = normalize(train_X, bounds=bounds)\n",
    "train_Y = standardize(train_Y + 0.05 * torch.randn_like(train_Y))\n",
    "\n",
    "model = SingleTaskGP(train_X, train_Y)\n",
    "mll = ExactMarginalLogLikelihood(model.likelihood, model)\n",
    "fit_gpytorch_mll(mll, max_attempts=10)\n",
    "\n",
    "from botorch.acquisition.max_value_entropy_search import qLowerBoundMaxValueEntropy\n",
    "\n",
    "candidate_set_size = 1000 if not SMOKE_TEST else 5\n",
    "candidate_set = torch.rand(\n",
    "    candidate_set_size, bounds_norm.size(1), device=bounds.device, dtype=bounds.dtype\n",
    ")\n",
    "qGIBBON = qLowerBoundMaxValueEntropy(model, candidate_set)\n",
    "scipy.__version__"
   ]
  },
  {
   "cell_type": "code",
   "execution_count": 2,
   "id": "62123a51",
   "metadata": {
    "execution": {
     "iopub.execute_input": "2025-01-08T22:52:45.949504Z",
     "iopub.status.busy": "2025-01-08T22:52:45.949323Z",
     "iopub.status.idle": "2025-01-08T22:52:48.587503Z",
     "shell.execute_reply": "2025-01-08T22:52:48.586815Z"
    },
    "executionStartTime": 1648577020385,
    "executionStopTime": 1648577031509,
    "originalKey": "31ac3a12-eb78-4226-9170-31a22816f6c5",
    "papermill": {
     "duration": 2.651062,
     "end_time": "2025-01-08T22:52:48.588787",
     "exception": false,
     "start_time": "2025-01-08T22:52:45.937725",
     "status": "completed"
    },
    "requestMsgId": "a7e5671c-1735-46dc-b2f0-6f8b85a997e6",
    "tags": []
   },
   "outputs": [
    {
     "name": "stderr",
     "output_type": "stream",
     "text": [
      "/Users/saitcakmak/botorch/botorch/acquisition/monte_carlo.py:496: NumericsWarning: qNoisyExpectedImprovement has known numerical issues that lead to suboptimal optimization performance. It is strongly recommended to simply replace\n",
      "\n",
      "\t qNoisyExpectedImprovement \t --> \t qLogNoisyExpectedImprovement \n",
      "\n",
      "instead, which fixes the issues and has the same API. See https://arxiv.org/abs/2310.20708 for details.\n",
      "  legacy_ei_numerics_warning(legacy_name=type(self).__name__)\n",
      "/opt/anaconda3/envs/botorch/lib/python3.10/site-packages/torch/functional.py:534: UserWarning: torch.meshgrid: in an upcoming release, it will be required to pass the indexing argument. (Triggered internally at /Users/runner/work/pytorch/pytorch/pytorch/aten/src/ATen/native/TensorShape.cpp:3596.)\n",
      "  return _VF.meshgrid(tensors, **kwargs)  # type: ignore[attr-defined]\n"
     ]
    },
    {
     "name": "stdout",
     "output_type": "stream",
     "text": [
      "         2674263 function calls (2566248 primitive calls) in 2.580 seconds\n",
      "\n",
      "   Ordered by: cumulative time\n",
      "   List reduced from 992 to 88 due to restriction <'scipy'>\n",
      "\n",
      "   ncalls  tottime  percall  cumtime  percall filename:lineno(function)\n",
      "       12    0.000    0.000    1.555    0.130 /Users/saitcakmak/botorch/botorch/generation/gen.py:44(gen_candidates_scipy)\n",
      "       12    0.000    0.000    1.526    0.127 /opt/anaconda3/envs/botorch/lib/python3.10/site-packages/scipy/optimize/_minimize.py:53(minimize)\n",
      "       12    0.007    0.001    1.525    0.127 /opt/anaconda3/envs/botorch/lib/python3.10/site-packages/scipy/optimize/_lbfgsb_py.py:250(_minimize_lbfgsb)\n",
      "     1012    0.014    0.000    1.502    0.001 /opt/anaconda3/envs/botorch/lib/python3.10/site-packages/scipy/optimize/_optimize.py:70(_compute_if_needed)\n",
      "      518    0.001    0.000    1.501    0.003 /opt/anaconda3/envs/botorch/lib/python3.10/site-packages/scipy/optimize/_differentiable_functions.py:292(_update_fun)\n",
      "      506    0.001    0.000    1.501    0.003 /opt/anaconda3/envs/botorch/lib/python3.10/site-packages/scipy/optimize/_differentiable_functions.py:15(wrapped)\n",
      "      506    0.000    0.000    1.499    0.003 /opt/anaconda3/envs/botorch/lib/python3.10/site-packages/scipy/optimize/_optimize.py:77(__call__)\n",
      "      506    0.001    0.000    1.471    0.003 /opt/anaconda3/envs/botorch/lib/python3.10/site-packages/scipy/optimize/_differentiable_functions.py:340(fun_and_grad)\n",
      "      159    0.000    0.000    0.801    0.005 /opt/anaconda3/envs/botorch/lib/python3.10/site-packages/scipy/optimize/_zeros_py.py:679(brentq)\n",
      "      159    0.001    0.000    0.800    0.005 {built-in method scipy.optimize._zeros._brentq}\n",
      "     2000    0.002    0.000    0.799    0.000 /opt/anaconda3/envs/botorch/lib/python3.10/site-packages/scipy/optimize/_zeros_py.py:93(f_raise)\n",
      "     2000    0.002    0.000    0.785    0.000 /opt/anaconda3/envs/botorch/lib/python3.10/site-packages/scipy/stats/_distn_infrastructure.py:520(logcdf)\n",
      "     2000    0.147    0.000    0.783    0.000 /opt/anaconda3/envs/botorch/lib/python3.10/site-packages/scipy/stats/_distn_infrastructure.py:2125(logcdf)\n",
      "     2000    0.000    0.000    0.530    0.000 /opt/anaconda3/envs/botorch/lib/python3.10/site-packages/scipy/stats/_continuous_distns.py:431(_logcdf)\n",
      "     2000    0.529    0.000    0.529    0.000 /opt/anaconda3/envs/botorch/lib/python3.10/site-packages/scipy/stats/_continuous_distns.py:372(_norm_logcdf)\n",
      "       12    0.000    0.000    0.046    0.004 /opt/anaconda3/envs/botorch/lib/python3.10/site-packages/scipy/optimize/_optimize.py:200(_prepare_scalar_function)\n",
      "       12    0.000    0.000    0.046    0.004 /opt/anaconda3/envs/botorch/lib/python3.10/site-packages/scipy/optimize/_differentiable_functions.py:165(__init__)\n",
      "       53    0.000    0.000    0.026    0.000 /opt/anaconda3/envs/botorch/lib/python3.10/site-packages/scipy/stats/_distn_infrastructure.py:889(__call__)\n",
      "       53    0.000    0.000    0.026    0.000 /opt/anaconda3/envs/botorch/lib/python3.10/site-packages/scipy/stats/_distn_infrastructure.py:869(freeze)\n",
      "       53    0.000    0.000    0.026    0.000 /opt/anaconda3/envs/botorch/lib/python3.10/site-packages/scipy/stats/_distn_infrastructure.py:499(__init__)\n",
      "       53    0.001    0.000    0.025    0.000 /opt/anaconda3/envs/botorch/lib/python3.10/site-packages/scipy/stats/_distn_infrastructure.py:1841(__init__)\n",
      "     2000    0.020    0.000    0.024    0.000 /opt/anaconda3/envs/botorch/lib/python3.10/site-packages/scipy/stats/_distn_infrastructure.py:1021(_open_support_mask)\n",
      "     2000    0.004    0.000    0.018    0.000 /opt/anaconda3/envs/botorch/lib/python3.10/site-packages/scipy/stats/_distn_infrastructure.py:600(argsreduce)\n",
      "       53    0.000    0.000    0.015    0.000 /opt/anaconda3/envs/botorch/lib/python3.10/site-packages/scipy/stats/_distn_infrastructure.py:821(_construct_doc)\n",
      "      106    0.005    0.000    0.013    0.000 /opt/anaconda3/envs/botorch/lib/python3.10/site-packages/scipy/_lib/doccer.py:13(docformat)\n",
      "      518    0.001    0.000    0.007    0.000 /opt/anaconda3/envs/botorch/lib/python3.10/site-packages/scipy/optimize/_differentiable_functions.py:302(_update_grad)\n",
      "      506    0.001    0.000    0.006    0.000 /opt/anaconda3/envs/botorch/lib/python3.10/site-packages/scipy/optimize/_differentiable_functions.py:38(wrapped)\n",
      "      159    0.001    0.000    0.005    0.000 /opt/anaconda3/envs/botorch/lib/python3.10/site-packages/scipy/_lib/_util.py:377(getfullargspec_no_self)\n",
      "       53    0.000    0.000    0.005    0.000 /opt/anaconda3/envs/botorch/lib/python3.10/site-packages/scipy/stats/_distn_infrastructure.py:1901(_attach_methods)\n",
      "      494    0.001    0.000    0.004    0.000 /opt/anaconda3/envs/botorch/lib/python3.10/site-packages/scipy/optimize/_differentiable_functions.py:269(_update_x)\n",
      "       53    0.000    0.000    0.004    0.000 /opt/anaconda3/envs/botorch/lib/python3.10/site-packages/scipy/stats/_distn_infrastructure.py:726(_attach_argparser_methods)\n",
      "      506    0.000    0.000    0.004    0.000 /opt/anaconda3/envs/botorch/lib/python3.10/site-packages/scipy/optimize/_optimize.py:82(derivative)\n",
      "      106    0.002    0.000    0.003    0.000 /opt/anaconda3/envs/botorch/lib/python3.10/site-packages/scipy/_lib/doccer.py:180(indentcount_lines)\n",
      "      506    0.001    0.000    0.003    0.000 /opt/anaconda3/envs/botorch/lib/python3.10/site-packages/scipy/_lib/_array_api.py:183(atleast_nd)\n",
      "       53    0.000    0.000    0.003    0.000 /opt/anaconda3/envs/botorch/lib/python3.10/site-packages/scipy/stats/_distn_infrastructure.py:740(_construct_argparser)\n",
      "      506    0.002    0.000    0.003    0.000 /opt/anaconda3/envs/botorch/lib/python3.10/site-packages/scipy/_lib/array_api_compat/common/_aliases.py:274(_asarray)\n",
      "       53    0.000    0.000    0.002    0.000 /opt/anaconda3/envs/botorch/lib/python3.10/site-packages/scipy/stats/_distn_infrastructure.py:674(__init__)\n",
      "       12    0.000    0.000    0.001    0.000 /Users/saitcakmak/botorch/botorch/optim/parameter_constraints.py:32(make_scipy_bounds)\n",
      "     2000    0.000    0.000    0.001    0.000 /opt/anaconda3/envs/botorch/lib/python3.10/site-packages/scipy/stats/_distn_infrastructure.py:646(<listcomp>)\n",
      "       12    0.000    0.000    0.001    0.000 /opt/anaconda3/envs/botorch/lib/python3.10/site-packages/scipy/optimize/_constraints.py:253(__init__)\n",
      "      506    0.000    0.000    0.000    0.000 /opt/anaconda3/envs/botorch/lib/python3.10/site-packages/scipy/_lib/array_api_compat/common/_aliases.py:236(astype)\n",
      "      506    0.000    0.000    0.000    0.000 /opt/anaconda3/envs/botorch/lib/python3.10/site-packages/scipy/_lib/array_api_compat/common/_helpers.py:295(_check_device)\n",
      "     4053    0.000    0.000    0.000    0.000 /opt/anaconda3/envs/botorch/lib/python3.10/site-packages/scipy/stats/_distn_infrastructure.py:994(_get_support)\n",
      "      506    0.000    0.000    0.000    0.000 /opt/anaconda3/envs/botorch/lib/python3.10/site-packages/scipy/_lib/array_api_compat/common/_helpers.py:21(is_numpy_array)\n",
      "       12    0.000    0.000    0.000    0.000 /opt/anaconda3/envs/botorch/lib/python3.10/site-packages/scipy/optimize/_lbfgsb_py.py:476(__init__)\n",
      "       12    0.000    0.000    0.000    0.000 /opt/anaconda3/envs/botorch/lib/python3.10/site-packages/scipy/optimize/_constraints.py:245(_input_validation)\n",
      "       24    0.000    0.000    0.000    0.000 /opt/anaconda3/envs/botorch/lib/python3.10/site-packages/scipy/optimize/_minimize.py:1038(standardize_bounds)\n",
      "       12    0.000    0.000    0.000    0.000 /opt/anaconda3/envs/botorch/lib/python3.10/site-packages/scipy/optimize/_constraints.py:402(new_bounds_to_old)\n",
      "     2000    0.000    0.000    0.000    0.000 /opt/anaconda3/envs/botorch/lib/python3.10/site-packages/scipy/stats/_distn_infrastructure.py:982(_argcheck)\n",
      "       12    0.000    0.000    0.000    0.000 /opt/anaconda3/envs/botorch/lib/python3.10/site-packages/scipy/optimize/_minimize.py:1022(_validate_bounds)\n",
      "       12    0.000    0.000    0.000    0.000 /opt/anaconda3/envs/botorch/lib/python3.10/site-packages/scipy/optimize/_constraints.py:420(old_bound_to_new)\n",
      "       12    0.000    0.000    0.000    0.000 /opt/anaconda3/envs/botorch/lib/python3.10/site-packages/scipy/sparse/linalg/_interface.py:161(__init__)\n",
      "       12    0.000    0.000    0.000    0.000 /opt/anaconda3/envs/botorch/lib/python3.10/site-packages/scipy/optimize/_differentiable_functions.py:54(_wrapper_hess)\n",
      "       12    0.000    0.000    0.000    0.000 /opt/anaconda3/envs/botorch/lib/python3.10/site-packages/scipy/sparse/_sputils.py:240(isshape)\n",
      "      159    0.000    0.000    0.000    0.000 /opt/anaconda3/envs/botorch/lib/python3.10/site-packages/scipy/_lib/_util.py:399(<listcomp>)\n",
      "       24    0.000    0.000    0.000    0.000 /opt/anaconda3/envs/botorch/lib/python3.10/site-packages/scipy/sparse/_sputils.py:218(isintlike)\n",
      "       53    0.000    0.000    0.000    0.000 /opt/anaconda3/envs/botorch/lib/python3.10/site-packages/scipy/stats/_distn_infrastructure.py:1923(_updated_ctor_param)\n",
      "       12    0.000    0.000    0.000    0.000 /opt/anaconda3/envs/botorch/lib/python3.10/site-packages/scipy/optimize/_constraints.py:414(<listcomp>)\n",
      "      372    0.000    0.000    0.000    0.000 /opt/anaconda3/envs/botorch/lib/python3.10/site-packages/scipy/optimize/_differentiable_functions.py:257(nfev)\n",
      "      159    0.000    0.000    0.000    0.000 /opt/anaconda3/envs/botorch/lib/python3.10/site-packages/scipy/_lib/_util.py:414(<genexpr>)\n",
      "      360    0.000    0.000    0.000    0.000 /opt/anaconda3/envs/botorch/lib/python3.10/site-packages/scipy/_lib/_util.py:836(_call_callback_maybe_halt)\n",
      "       12    0.000    0.000    0.000    0.000 /opt/anaconda3/envs/botorch/lib/python3.10/site-packages/scipy/optimize/_constraints.py:433(<listcomp>)\n",
      "      159    0.000    0.000    0.000    0.000 /opt/anaconda3/envs/botorch/lib/python3.10/site-packages/scipy/_lib/_util.py:426(<dictcomp>)\n",
      "      240    0.000    0.000    0.000    0.000 /opt/anaconda3/envs/botorch/lib/python3.10/site-packages/scipy/optimize/_constraints.py:11(_arr_to_scalar)\n",
      "       53    0.000    0.000    0.000    0.000 /opt/anaconda3/envs/botorch/lib/python3.10/site-packages/scipy/_lib/_util.py:245(check_random_state)\n",
      "      159    0.000    0.000    0.000    0.000 /opt/anaconda3/envs/botorch/lib/python3.10/site-packages/scipy/_lib/_util.py:404(<listcomp>)\n",
      "       12    0.000    0.000    0.000    0.000 /Users/saitcakmak/botorch/botorch/generation/gen.py:446(_process_scipy_result)\n",
      "      159    0.000    0.000    0.000    0.000 /opt/anaconda3/envs/botorch/lib/python3.10/site-packages/scipy/optimize/_zeros_py.py:91(_wrap_nan_raise)\n",
      "      159    0.000    0.000    0.000    0.000 /opt/anaconda3/envs/botorch/lib/python3.10/site-packages/scipy/_lib/_util.py:423(<dictcomp>)\n",
      "      159    0.000    0.000    0.000    0.000 /opt/anaconda3/envs/botorch/lib/python3.10/site-packages/scipy/_lib/_util.py:409(<listcomp>)\n",
      "       12    0.000    0.000    0.000    0.000 /opt/anaconda3/envs/botorch/lib/python3.10/site-packages/scipy/optimize/_constraints.py:435(<listcomp>)\n",
      "      159    0.000    0.000    0.000    0.000 /opt/anaconda3/envs/botorch/lib/python3.10/site-packages/scipy/_lib/_util.py:419(<listcomp>)\n",
      "       48    0.000    0.000    0.000    0.000 /opt/anaconda3/envs/botorch/lib/python3.10/site-packages/scipy/sparse/_base.py:1335(issparse)\n",
      "       12    0.000    0.000    0.000    0.000 /opt/anaconda3/envs/botorch/lib/python3.10/site-packages/scipy/sparse/linalg/_interface.py:146(__new__)\n",
      "       12    0.000    0.000    0.000    0.000 /opt/anaconda3/envs/botorch/lib/python3.10/site-packages/scipy/optimize/_minimize.py:1051(standardize_constraints)\n",
      "       12    0.000    0.000    0.000    0.000 /opt/anaconda3/envs/botorch/lib/python3.10/site-packages/scipy/optimize/_constraints.py:415(<listcomp>)\n",
      "      159    0.000    0.000    0.000    0.000 /opt/anaconda3/envs/botorch/lib/python3.10/site-packages/scipy/optimize/_zeros_py.py:67(results_c)\n",
      "       12    0.000    0.000    0.000    0.000 /opt/anaconda3/envs/botorch/lib/python3.10/site-packages/scipy/_lib/_array_api.py:95(array_namespace)\n",
      "       24    0.000    0.000    0.000    0.000 /opt/anaconda3/envs/botorch/lib/python3.10/site-packages/scipy/_lib/_util.py:864(__getattr__)\n",
      "       12    0.000    0.000    0.000    0.000 /opt/anaconda3/envs/botorch/lib/python3.10/site-packages/scipy/optimize/_optimize.py:64(__init__)\n",
      "       12    0.000    0.000    0.000    0.000 /opt/anaconda3/envs/botorch/lib/python3.10/site-packages/scipy/optimize/_differentiable_functions.py:34(_wrapper_grad)\n",
      "       53    0.000    0.000    0.000    0.000 /opt/anaconda3/envs/botorch/lib/python3.10/site-packages/scipy/stats/_distn_infrastructure.py:829(<genexpr>)\n",
      "       12    0.000    0.000    0.000    0.000 /opt/anaconda3/envs/botorch/lib/python3.10/site-packages/scipy/optimize/_differentiable_functions.py:12(_wrapper_fun)\n",
      "       12    0.000    0.000    0.000    0.000 /Users/saitcakmak/botorch/botorch/optim/parameter_constraints.py:71(make_scipy_linear_constraints)\n",
      "       12    0.000    0.000    0.000    0.000 /opt/anaconda3/envs/botorch/lib/python3.10/site-packages/scipy/optimize/_optimize.py:87(_wrap_callback)\n",
      "       12    0.000    0.000    0.000    0.000 /opt/anaconda3/envs/botorch/lib/python3.10/site-packages/scipy/optimize/_differentiable_functions.py:261(ngev)\n",
      "       12    0.000    0.000    0.000    0.000 /opt/anaconda3/envs/botorch/lib/python3.10/site-packages/scipy/optimize/_optimize.py:172(_check_unknown_options)\n",
      "       12    0.000    0.000    0.000    0.000 /opt/anaconda3/envs/botorch/lib/python3.10/site-packages/scipy/optimize/_optimize.py:280(hess)\n",
      "\n",
      "\n",
      "CPU times: user 16.2 s, sys: 2.73 s, total: 19 s\n",
      "Wall time: 2.63 s\n"
     ]
    },
    {
     "data": {
      "text/plain": [
       "'1.14.1'"
      ]
     },
     "execution_count": 2,
     "metadata": {},
     "output_type": "execute_result"
    }
   ],
   "source": [
    "%%time\n",
    "\n",
    "# prep different acqusition functions\n",
    "candidate_set = torch.rand(\n",
    "    10000, bounds.size(1), device=bounds.device, dtype=bounds.dtype\n",
    ")\n",
    "acqs = {}\n",
    "acqs[\"aa\"] = qLowerBoundMaxValueEntropy(model, candidate_set)\n",
    "acqs[\"MES\"] = qMaxValueEntropy(model, candidate_set)\n",
    "acqs[\"EI\"] = qNoisyExpectedImprovement(model, train_X)\n",
    "acqs[\"PI\"] = qProbabilityOfImprovement(model, best_f=train_Y.max())\n",
    "\n",
    "# prep grid to evaluate acq functions\n",
    "n = 100 if not SMOKE_TEST else 2\n",
    "xv, yv = torch.meshgrid([torch.linspace(0, 1, n), torch.linspace(0, 1, n)])\n",
    "test_x = torch.stack([xv.reshape(n * n, 1), yv.reshape(n * n, 1)], -1)\n",
    "\n",
    "# eval and maximise acq functions\n",
    "\n",
    "with cProfile.Profile() as pr:\n",
    "    for acq in acqs.values():\n",
    "        acq(test_x).detach().reshape(n, n)\n",
    "        optimize_acqf(\n",
    "            acq_function=acq,\n",
    "            bounds=bounds_norm,\n",
    "            q=3,\n",
    "            num_restarts=5,\n",
    "            raw_samples=100,\n",
    "            sequential=True,\n",
    "        )\n",
    "\n",
    "sortby = SortKey.CUMULATIVE\n",
    "ps = pstats.Stats(pr).sort_stats(sortby)\n",
    "ps.print_stats(\"scipy\")\n",
    "\n",
    "scipy.__version__"
   ]
  },
  {
   "cell_type": "code",
   "execution_count": null,
   "id": "0f3d078d",
   "metadata": {
    "papermill": {
     "duration": 0.012169,
     "end_time": "2025-01-08T22:52:48.616271",
     "exception": false,
     "start_time": "2025-01-08T22:52:48.604102",
     "status": "completed"
    },
    "tags": []
   },
   "outputs": [],
   "source": []
  }
 ],
 "metadata": {
  "fileHeader": "",
  "kernelspec": {
   "display_name": "Python 3 (ipykernel)",
   "language": "python",
   "name": "python3"
  },
  "language_info": {
   "codemirror_mode": {
    "name": "ipython",
    "version": 3
   },
   "file_extension": ".py",
   "mimetype": "text/x-python",
   "name": "python",
   "nbconvert_exporter": "python",
   "pygments_lexer": "ipython3",
   "version": "3.10.14"
  },
  "papermill": {
   "default_parameters": {},
   "duration": 9.695252,
   "end_time": "2025-01-08T22:52:49.143603",
   "environment_variables": {},
   "exception": null,
   "input_path": "/Users/saitcakmak/botorch/tutorials/test2.ipynb",
   "output_path": "/Users/saitcakmak/botorch/tutorials/test2.ipynb",
   "parameters": {},
   "start_time": "2025-01-08T22:52:39.448351",
   "version": "2.6.0"
  }
 },
 "nbformat": 4,
 "nbformat_minor": 5
}