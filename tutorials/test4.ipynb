{
 "cells": [
  {
   "cell_type": "code",
   "execution_count": 1,
   "id": "a2ef0e60-b6d5-49a7-9f82-28d226f0db00",
   "metadata": {},
   "outputs": [
    {
     "name": "stdout",
     "output_type": "stream",
     "text": [
      "[KeOps] Warning : omp.h header is not in the path, disabling OpenMP. To fix this, you can set the environment\n",
      "                  variable OMP_PATH to the location of the header before importing keopscore or pykeops,\n",
      "                  e.g. using os.environ: import os; os.environ['OMP_PATH'] = '/path/to/omp/header'\n",
      "[KeOps] Warning : Cuda libraries were not detected on the system or could not be loaded ; using cpu only mode\n",
      "CPU times: user 2.09 s, sys: 898 ms, total: 2.99 s\n",
      "Wall time: 12.7 s\n"
     ]
    }
   ],
   "source": [
    "%%time\n",
    "import torch\n",
    "import numpy as np\n",
    "from scipy.optimize import minimize, Bounds\n",
    "import cProfile, io, pstats\n",
    "from pstats import SortKey\n",
    "\n",
    "torch.manual_seed(0)\n",
    "np.random.seed(0)\n",
    "\n",
    "torch.set_default_dtype(torch.double)\n",
    "\n",
    "bounds = Bounds(\n",
    "    lb=np.zeros(128),\n",
    "    ub=np.ones(128),\n",
    "    keep_feasible=True,\n",
    ")\n",
    "x0 = np.random.random(128)\n",
    "None"
   ]
  },
  {
   "cell_type": "code",
   "execution_count": 2,
   "id": "4d3ea515-311f-4281-99fb-f95c5de86187",
   "metadata": {},
   "outputs": [
    {
     "name": "stdout",
     "output_type": "stream",
     "text": [
      "\n",
      "\n",
      "\n",
      "\n",
      "\n",
      "\n",
      " Optimize a simple root finding problem \n",
      "\n",
      "\n",
      "         3837 function calls (3832 primitive calls) in 2.718 seconds\n",
      "\n",
      "   Ordered by: cumulative time\n",
      "   List reduced from 262 to 26 due to restriction <0.1>\n",
      "\n",
      "   ncalls  tottime  percall  cumtime  percall filename:lineno(function)\n",
      "        1    0.000    0.000    2.718    2.718 /opt/anaconda3/envs/botorch/lib/python3.10/site-packages/scipy/optimize/_minimize.py:53(minimize)\n",
      "        1    0.000    0.000    2.718    2.718 /opt/anaconda3/envs/botorch/lib/python3.10/site-packages/scipy/optimize/_lbfgsb_py.py:290(_minimize_lbfgsb)\n",
      "       42    0.030    0.001    2.715    0.065 /opt/anaconda3/envs/botorch/lib/python3.10/site-packages/scipy/optimize/_optimize.py:71(_compute_if_needed)\n",
      "       22    0.000    0.000    2.715    0.123 /opt/anaconda3/envs/botorch/lib/python3.10/site-packages/scipy/optimize/_differentiable_functions.py:293(_update_fun)\n",
      "       21    0.000    0.000    2.715    0.129 /opt/anaconda3/envs/botorch/lib/python3.10/site-packages/scipy/optimize/_differentiable_functions.py:16(wrapped)\n",
      "       21    0.000    0.000    2.714    0.129 /opt/anaconda3/envs/botorch/lib/python3.10/site-packages/scipy/optimize/_optimize.py:78(__call__)\n",
      "       21    0.823    0.039    2.684    0.128 <timed exec>:5(f_and_grad)\n",
      "       21    0.000    0.000    2.421    0.115 /opt/anaconda3/envs/botorch/lib/python3.10/site-packages/scipy/optimize/_differentiable_functions.py:341(fun_and_grad)\n",
      "       21    0.000    0.000    1.826    0.087 /opt/anaconda3/envs/botorch/lib/python3.10/site-packages/torch/autograd/__init__.py:358(grad)\n",
      "       21    0.000    0.000    1.808    0.086 /opt/anaconda3/envs/botorch/lib/python3.10/site-packages/torch/autograd/graph.py:816(_engine_run_backward)\n",
      "       21    1.808    0.086    1.808    0.086 {method 'run_backward' of 'torch._C._EngineBase' objects}\n",
      "        1    0.000    0.000    0.296    0.296 /opt/anaconda3/envs/botorch/lib/python3.10/site-packages/scipy/optimize/_optimize.py:203(_prepare_scalar_function)\n",
      "        1    0.000    0.000    0.296    0.296 /opt/anaconda3/envs/botorch/lib/python3.10/site-packages/scipy/optimize/_differentiable_functions.py:166(__init__)\n",
      "       21    0.034    0.002    0.034    0.002 {method 'sum' of 'torch._C.TensorBase' objects}\n",
      "       21    0.000    0.000    0.017    0.001 /opt/anaconda3/envs/botorch/lib/python3.10/site-packages/torch/autograd/__init__.py:88(_make_grads)\n",
      "      2/1    0.000    0.000    0.016    0.016 <frozen importlib._bootstrap>:1022(_find_and_load)\n",
      "      2/1    0.000    0.000    0.016    0.016 <frozen importlib._bootstrap>:987(_find_and_load_unlocked)\n",
      "        2    0.000    0.000    0.014    0.007 <frozen importlib._bootstrap>:664(_load_unlocked)\n",
      "        2    0.000    0.000    0.014    0.007 <frozen importlib._bootstrap_external>:877(exec_module)\n",
      "        2    0.000    0.000    0.014    0.007 <frozen importlib._bootstrap_external>:950(get_code)\n",
      "        2    0.000    0.000    0.014    0.007 <frozen importlib._bootstrap_external>:1070(get_data)\n",
      "        2    0.014    0.007    0.014    0.007 {built-in method io.open_code}\n",
      "      3/2    0.000    0.000    0.008    0.004 <frozen importlib._bootstrap>:233(_call_with_frames_removed)\n",
      "        1    0.000    0.000    0.007    0.007 {built-in method builtins.__import__}\n",
      "        2    0.000    0.000    0.001    0.001 <frozen importlib._bootstrap>:921(_find_spec)\n",
      "        2    0.000    0.000    0.001    0.001 <frozen importlib._bootstrap_external>:1431(find_spec)\n",
      "\n",
      "\n",
      "CPU times: user 10.2 s, sys: 7.09 s, total: 17.3 s\n",
      "Wall time: 2.81 s\n"
     ]
    }
   ],
   "source": [
    "%%time\n",
    "\n",
    "print(\"\\n\\n\\n\\n\\n\\n Optimize a simple root finding problem \\n\\n\")\n",
    "\n",
    "rand_tensor = torch.rand(1024, 128, 128)\n",
    "\n",
    "def f_and_grad(x):\n",
    "    X_tensor = torch.from_numpy(x).contiguous().requires_grad_(True)\n",
    "    diff = rand_tensor - X_tensor\n",
    "    loss = (diff @ diff).sum()\n",
    "    grad = torch.autograd.grad(loss, X_tensor)[0].reshape(-1).numpy(force=True)\n",
    "    return loss.item(), grad\n",
    "\n",
    "with cProfile.Profile() as pr:\n",
    "    res = minimize(\n",
    "        fun=f_and_grad,\n",
    "        x0=x0,\n",
    "        method=\"L-BFGS-B\",\n",
    "        jac=True,\n",
    "        bounds=bounds,\n",
    "        options={\"maxfun\": 20},\n",
    "    )\n",
    "\n",
    "sortby = SortKey.CUMULATIVE\n",
    "ps = pstats.Stats(pr).sort_stats(sortby)\n",
    "ps.print_stats(.1)\n",
    "None"
   ]
  },
  {
   "cell_type": "code",
   "execution_count": 3,
   "id": "a3421a54-e488-4c56-8c36-f18ae2d4efb1",
   "metadata": {},
   "outputs": [
    {
     "name": "stdout",
     "output_type": "stream",
     "text": [
      "\n",
      "\n",
      "\n",
      "\n",
      "\n",
      "\n",
      " 20 reference evaluations of f_and_grad \n",
      "\n",
      "\n",
      "CPU times: user 11.6 s, sys: 4.63 s, total: 16.2 s\n",
      "Wall time: 2.48 s\n"
     ]
    }
   ],
   "source": [
    "%%time\n",
    "\n",
    "print(\"\\n\\n\\n\\n\\n\\n 20 reference evaluations of f_and_grad \\n\\n\")\n",
    "\n",
    "X = np.random.random(128)\n",
    "\n",
    "with cProfile.Profile() as pr:\n",
    "    for _ in range(20):\n",
    "        f_and_grad(X)"
   ]
  }
 ],
 "metadata": {
  "kernelspec": {
   "display_name": "Python 3 (ipykernel)",
   "language": "python",
   "name": "python3"
  },
  "language_info": {
   "codemirror_mode": {
    "name": "ipython",
    "version": 3
   },
   "file_extension": ".py",
   "mimetype": "text/x-python",
   "name": "python",
   "nbconvert_exporter": "python",
   "pygments_lexer": "ipython3",
   "version": "3.10.14"
  }
 },
 "nbformat": 4,
 "nbformat_minor": 5
}
