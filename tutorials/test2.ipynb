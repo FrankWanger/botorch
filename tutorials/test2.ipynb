{
 "cells": [
  {
   "cell_type": "code",
   "execution_count": 1,
   "metadata": {
    "executionStartTime": 1648577014352,
    "executionStopTime": 1648577015895,
    "originalKey": "8900645e-ef50-4d4d-b4ae-9b0f4152aff0",
    "requestMsgId": "8d7262fb-6bfe-454f-b465-478d269c184f"
   },
   "outputs": [
    {
     "name": "stdout",
     "output_type": "stream",
     "text": [
      "CPU times: user 4.05 s, sys: 3.32 s, total: 7.37 s\n",
      "Wall time: 14.4 s\n"
     ]
    },
    {
     "data": {
      "text/plain": [
       "'1.7.3'"
      ]
     },
     "execution_count": 1,
     "metadata": {},
     "output_type": "execute_result"
    }
   ],
   "source": [
    "%%time\n",
    "import math\n",
    "import torch\n",
    "\n",
    "from botorch.test_functions import SixHumpCamel\n",
    "from botorch.fit import fit_gpytorch_mll\n",
    "from botorch.models import SingleTaskGP\n",
    "from botorch.utils.transforms import standardize, normalize\n",
    "from gpytorch.mlls import ExactMarginalLogLikelihood\n",
    "from botorch.acquisition import (\n",
    "    ExpectedImprovement,\n",
    "    ProbabilityOfImprovement,\n",
    "    qMaxValueEntropy,\n",
    ")\n",
    "import matplotlib.pyplot as plt\n",
    "from botorch.optim import optimize_acqf\n",
    "from botorch.acquisition import qNoisyExpectedImprovement, qProbabilityOfImprovement\n",
    "from time import time\n",
    "import cProfile, io, pstats\n",
    "from pstats import SortKey\n",
    "import scipy\n",
    "\n",
    "SMOKE_TEST = True\n",
    "\n",
    "torch.manual_seed(123456)\n",
    "torch.set_default_dtype(torch.double)\n",
    "\n",
    "bounds = torch.tensor(SixHumpCamel._bounds).T\n",
    "bounds_norm = torch.tensor([[0.0, 0.0], [1.0, 1.0]])\n",
    "train_X = bounds[0] + (bounds[1] - bounds[0]) * torch.rand(5, 2)\n",
    "train_Y = SixHumpCamel(negate=True)(train_X).unsqueeze(-1)\n",
    "\n",
    "train_X = normalize(train_X, bounds=bounds)\n",
    "train_Y = standardize(train_Y + 0.05 * torch.randn_like(train_Y))\n",
    "\n",
    "model = SingleTaskGP(train_X, train_Y)\n",
    "mll = ExactMarginalLogLikelihood(model.likelihood, model)\n",
    "fit_gpytorch_mll(mll, max_attempts=10)\n",
    "\n",
    "from botorch.acquisition.max_value_entropy_search import qLowerBoundMaxValueEntropy\n",
    "\n",
    "candidate_set_size = 1000 if not SMOKE_TEST else 5\n",
    "candidate_set = torch.rand(\n",
    "    candidate_set_size, bounds_norm.size(1), device=bounds.device, dtype=bounds.dtype\n",
    ")\n",
    "qGIBBON = qLowerBoundMaxValueEntropy(model, candidate_set)\n",
    "scipy.__version__"
   ]
  },
  {
   "cell_type": "code",
   "execution_count": 3,
   "metadata": {
    "executionStartTime": 1648577020385,
    "executionStopTime": 1648577031509,
    "originalKey": "31ac3a12-eb78-4226-9170-31a22816f6c5",
    "requestMsgId": "a7e5671c-1735-46dc-b2f0-6f8b85a997e6"
   },
   "outputs": [
    {
     "name": "stdout",
     "output_type": "stream",
     "text": [
      "CPU times: user 166 ms, sys: 57.7 ms, total: 224 ms\n",
      "Wall time: 188 ms\n"
     ]
    },
    {
     "data": {
      "text/plain": [
       "'1.7.3'"
      ]
     },
     "execution_count": 3,
     "metadata": {},
     "output_type": "execute_result"
    }
   ],
   "source": [
    "%%time\n",
    "\n",
    "# prep different acqusition functions\n",
    "candidate_set = torch.rand(\n",
    "    10000, bounds.size(1), device=bounds.device, dtype=bounds.dtype\n",
    ")\n",
    "acqs = {}\n",
    "# acqs[\"aa\"] = qLowerBoundMaxValueEntropy(model, candidate_set)\n",
    "# acqs[\"MES\"] = qMaxValueEntropy(model, candidate_set)\n",
    "acqs[\"EI\"] = qNoisyExpectedImprovement(model, train_X)\n",
    "# acqs[\"PI\"] = qProbabilityOfImprovement(model, best_f=train_Y.max())\n",
    "\n",
    "\n",
    "# eval and maximise acq functions\n",
    "with cProfile.Profile() as pr:\n",
    "    for acq in acqs.values():\n",
    "        optimize_acqf(\n",
    "            acq_function=acq,\n",
    "            bounds=bounds_norm,\n",
    "            q=3,\n",
    "            num_restarts=5,\n",
    "            raw_samples=100,\n",
    "            sequential=True,\n",
    "        )\n",
    "\n",
    "sortby = SortKey.CUMULATIVE\n",
    "ps = pstats.Stats(pr).sort_stats(sortby)\n",
    "ps.print_stats()\n",
    "\n",
    "scipy.__version__"
   ]
  },
  {
   "cell_type": "code",
   "execution_count": null,
   "metadata": {},
   "outputs": [],
   "source": []
  }
 ],
 "metadata": {
  "fileHeader": "",
  "kernelspec": {
   "display_name": "Python 3 (ipykernel)",
   "language": "python",
   "name": "python3"
  },
  "language_info": {
   "codemirror_mode": {
    "name": "ipython",
    "version": 3
   },
   "file_extension": ".py",
   "mimetype": "text/x-python",
   "name": "python",
   "nbconvert_exporter": "python",
   "pygments_lexer": "ipython3",
   "version": "3.9.12"
  }
 },
 "nbformat": 4,
 "nbformat_minor": 2
}
